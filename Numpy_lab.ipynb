{
 "cells": [
  {
   "cell_type": "markdown",
   "id": "ba503cc4",
   "metadata": {},
   "source": [
    "1. Import the NUMPY package under the name np."
   ]
  },
  {
   "cell_type": "code",
   "execution_count": 2,
   "id": "22827753",
   "metadata": {},
   "outputs": [
    {
     "name": "stdout",
     "output_type": "stream",
     "text": [
      "Requirement already satisfied: numpy in c:\\users\\pombo\\anaconda3\\envs\\snowflakes2\\lib\\site-packages (1.23.4)\n",
      "Note: you may need to restart the kernel to use updated packages.\n"
     ]
    }
   ],
   "source": [
    "%pip install numpy\n",
    "import numpy as np"
   ]
  },
  {
   "cell_type": "markdown",
   "id": "fef1eef6",
   "metadata": {},
   "source": [
    "2. Print the NUMPY version and the configuration.\n"
   ]
  },
  {
   "cell_type": "code",
   "execution_count": 3,
   "id": "205546f1",
   "metadata": {},
   "outputs": [
    {
     "name": "stdout",
     "output_type": "stream",
     "text": [
      "1.23.4\n"
     ]
    }
   ],
   "source": [
    "print(np.__version__)"
   ]
  },
  {
   "cell_type": "markdown",
   "id": "9a564514",
   "metadata": {},
   "source": [
    "3. Generate a 2x3x5 3-dimensional array with random values. Assign the array to variable \"a\".\n",
    "  Challenge: there are at least three easy ways that use numpy to generate random arrays. How many ways can you find?"
   ]
  },
  {
   "cell_type": "code",
   "execution_count": 28,
   "id": "6a53abce",
   "metadata": {},
   "outputs": [
    {
     "data": {
      "text/plain": [
       "array([[[0.13300671, 0.48448106, 0.05773567, 0.97937884, 0.18050873],\n",
       "        [0.38617679, 0.70113516, 0.93314147, 0.47305315, 0.38647025],\n",
       "        [0.01402953, 0.16013161, 0.6109006 , 0.21569038, 0.66236013]],\n",
       "\n",
       "       [[0.29682402, 0.11773856, 0.28335298, 0.54543024, 0.58587531],\n",
       "        [0.13603175, 0.41568104, 0.51881198, 0.408297  , 0.81020442],\n",
       "        [0.36707814, 0.60221701, 0.67857571, 0.38424714, 0.67737711]]])"
      ]
     },
     "execution_count": 28,
     "metadata": {},
     "output_type": "execute_result"
    }
   ],
   "source": [
    "a = np.random.random((2, 3, 5))\n",
    "\n",
    "a\n"
   ]
  },
  {
   "cell_type": "code",
   "execution_count": 29,
   "id": "31f8509e",
   "metadata": {},
   "outputs": [
    {
     "data": {
      "text/plain": [
       "array([[[1, 2, 2, 2, 8],\n",
       "        [9, 2, 1, 2, 6],\n",
       "        [4, 2, 9, 9, 4]],\n",
       "\n",
       "       [[4, 9, 5, 9, 7],\n",
       "        [1, 2, 6, 1, 2],\n",
       "        [4, 6, 4, 4, 3]]])"
      ]
     },
     "execution_count": 29,
     "metadata": {},
     "output_type": "execute_result"
    }
   ],
   "source": [
    "a = np.random.randint(10, size=(2, 3, 5))\n",
    "\n",
    "a"
   ]
  },
  {
   "cell_type": "markdown",
   "id": "a918a124",
   "metadata": {},
   "source": [
    "4. Print a."
   ]
  },
  {
   "cell_type": "code",
   "execution_count": 69,
   "id": "61202146",
   "metadata": {},
   "outputs": [
    {
     "data": {
      "text/plain": [
       "array([[[0.27852898, 0.23914135, 0.38814177, 0.66868915, 0.67083113],\n",
       "        [0.75120949, 0.89990666, 0.16425217, 0.65645605, 0.67493426],\n",
       "        [0.20268174, 0.21959583, 0.69746143, 0.66479246, 0.22046492]],\n",
       "\n",
       "       [[0.72157026, 0.46174032, 0.84087561, 0.21086081, 0.40427404],\n",
       "        [0.53819467, 0.3191658 , 0.73156389, 0.59262289, 0.75918775],\n",
       "        [0.53793129, 0.77435619, 0.3354309 , 0.77424488, 0.7764258 ]]])"
      ]
     },
     "execution_count": 69,
     "metadata": {},
     "output_type": "execute_result"
    }
   ],
   "source": [
    "a = np.random.rand(2,3,5)\n",
    "\n",
    "a"
   ]
  },
  {
   "cell_type": "code",
   "execution_count": 76,
   "id": "3a880a1f",
   "metadata": {},
   "outputs": [
    {
     "name": "stdout",
     "output_type": "stream",
     "text": [
      "[[[0.27852898 0.23914135 0.38814177 0.66868915 0.67083113]\n",
      "  [0.75120949 0.89990666 0.16425217 0.65645605 0.67493426]\n",
      "  [0.20268174 0.21959583 0.69746143 0.66479246 0.22046492]]\n",
      "\n",
      " [[0.72157026 0.46174032 0.84087561 0.21086081 0.40427404]\n",
      "  [0.53819467 0.3191658  0.73156389 0.59262289 0.75918775]\n",
      "  [0.53793129 0.77435619 0.3354309  0.77424488 0.7764258 ]]]\n"
     ]
    }
   ],
   "source": [
    "print(a)"
   ]
  },
  {
   "cell_type": "markdown",
   "id": "74dbf22e",
   "metadata": {},
   "source": [
    "5. Create a 5x2x3 3-dimensional array with all values equaling 1.\n",
    "Assign the array to variable \"b\""
   ]
  },
  {
   "cell_type": "code",
   "execution_count": 39,
   "id": "1e835dd5",
   "metadata": {},
   "outputs": [
    {
     "data": {
      "text/plain": [
       "array([[[1, 1],\n",
       "        [1, 1],\n",
       "        [1, 1]],\n",
       "\n",
       "       [[1, 1],\n",
       "        [1, 1],\n",
       "        [1, 1]],\n",
       "\n",
       "       [[1, 1],\n",
       "        [1, 1],\n",
       "        [1, 1]],\n",
       "\n",
       "       [[1, 1],\n",
       "        [1, 1],\n",
       "        [1, 1]],\n",
       "\n",
       "       [[1, 1],\n",
       "        [1, 1],\n",
       "        [1, 1]]])"
      ]
     },
     "execution_count": 39,
     "metadata": {},
     "output_type": "execute_result"
    }
   ],
   "source": [
    "b = np.ones((5,3,2), dtype=int)\n",
    "\n",
    "b"
   ]
  },
  {
   "cell_type": "markdown",
   "id": "629f998c",
   "metadata": {},
   "source": [
    "6. Print b."
   ]
  },
  {
   "cell_type": "code",
   "execution_count": 27,
   "id": "b69203aa",
   "metadata": {},
   "outputs": [
    {
     "name": "stdout",
     "output_type": "stream",
     "text": [
      "[[[1 1]\n",
      "  [1 1]\n",
      "  [1 1]]\n",
      "\n",
      " [[1 1]\n",
      "  [1 1]\n",
      "  [1 1]]\n",
      "\n",
      " [[1 1]\n",
      "  [1 1]\n",
      "  [1 1]]\n",
      "\n",
      " [[1 1]\n",
      "  [1 1]\n",
      "  [1 1]]\n",
      "\n",
      " [[1 1]\n",
      "  [1 1]\n",
      "  [1 1]]]\n"
     ]
    }
   ],
   "source": [
    "print(b)"
   ]
  },
  {
   "cell_type": "markdown",
   "id": "ed697c86",
   "metadata": {},
   "source": [
    "7. Do a and b have the same size? How do you prove that in Python code?"
   ]
  },
  {
   "cell_type": "code",
   "execution_count": 32,
   "id": "832bb4f8",
   "metadata": {},
   "outputs": [
    {
     "data": {
      "text/plain": [
       "True"
      ]
     },
     "execution_count": 32,
     "metadata": {},
     "output_type": "execute_result"
    }
   ],
   "source": [
    "a.size == b.size  #Tienen el mismo numero de elementos, pero no la misma forma..."
   ]
  },
  {
   "cell_type": "code",
   "execution_count": 37,
   "id": "097b67d5",
   "metadata": {},
   "outputs": [
    {
     "name": "stdout",
     "output_type": "stream",
     "text": [
      "(2, 3, 5)\n",
      "(5, 3, 2)\n"
     ]
    },
    {
     "ename": "AttributeError",
     "evalue": "'numpy.ndarray' object has no attribute 's'",
     "output_type": "error",
     "traceback": [
      "\u001b[1;31m---------------------------------------------------------------------------\u001b[0m",
      "\u001b[1;31mAttributeError\u001b[0m                            Traceback (most recent call last)",
      "Input \u001b[1;32mIn [37]\u001b[0m, in \u001b[0;36m<cell line: 6>\u001b[1;34m()\u001b[0m\n\u001b[0;32m      4\u001b[0m test1 \u001b[38;5;241m=\u001b[39m []\n\u001b[0;32m      5\u001b[0m test2 \u001b[38;5;241m=\u001b[39m []\n\u001b[1;32m----> 6\u001b[0m \u001b[38;5;28mprint\u001b[39m(a\u001b[38;5;241m.\u001b[39mshape \u001b[38;5;241m==\u001b[39m \u001b[43mb\u001b[49m\u001b[38;5;241;43m.\u001b[39;49m\u001b[43ms\u001b[49m)\n",
      "\u001b[1;31mAttributeError\u001b[0m: 'numpy.ndarray' object has no attribute 's'"
     ]
    }
   ],
   "source": [
    "print(a.shape)\n",
    "print(b.shape)\n",
    "test = []\n",
    "test1 = []\n",
    "test2 = []\n",
    "print(a.shape == b.s)"
   ]
  },
  {
   "cell_type": "markdown",
   "id": "0e1704aa",
   "metadata": {},
   "source": [
    "8. Are you able to add a and b? Why or why not?"
   ]
  },
  {
   "cell_type": "code",
   "execution_count": 45,
   "id": "e43e47d2",
   "metadata": {},
   "outputs": [
    {
     "ename": "ValueError",
     "evalue": "operands could not be broadcast together with shapes (2,3,5) (5,3,2) ",
     "output_type": "error",
     "traceback": [
      "\u001b[1;31m---------------------------------------------------------------------------\u001b[0m",
      "\u001b[1;31mValueError\u001b[0m                                Traceback (most recent call last)",
      "Input \u001b[1;32mIn [45]\u001b[0m, in \u001b[0;36m<cell line: 1>\u001b[1;34m()\u001b[0m\n\u001b[1;32m----> 1\u001b[0m test \u001b[38;5;241m=\u001b[39m \u001b[43ma\u001b[49m\u001b[43m \u001b[49m\u001b[38;5;241;43m+\u001b[39;49m\u001b[43m \u001b[49m\u001b[43mb\u001b[49m\n",
      "\u001b[1;31mValueError\u001b[0m: operands could not be broadcast together with shapes (2,3,5) (5,3,2) "
     ]
    }
   ],
   "source": [
    "test = a + b  #It is nor possible, as to be able to add one matrix to another one the have to have the same shape!!!\n",
    "\n",
    "\n"
   ]
  },
  {
   "cell_type": "markdown",
   "id": "99b0aeb6",
   "metadata": {},
   "source": [
    "9. Transpose b so that it has the same structure of a (i.e. become a 2x3x5 array). Assign the transposed array to varialbe \"c\"."
   ]
  },
  {
   "cell_type": "code",
   "execution_count": 46,
   "id": "8c3bd455",
   "metadata": {},
   "outputs": [
    {
     "data": {
      "text/plain": [
       "array([[[1, 1, 1, 1, 1],\n",
       "        [1, 1, 1, 1, 1],\n",
       "        [1, 1, 1, 1, 1]],\n",
       "\n",
       "       [[1, 1, 1, 1, 1],\n",
       "        [1, 1, 1, 1, 1],\n",
       "        [1, 1, 1, 1, 1]]])"
      ]
     },
     "execution_count": 46,
     "metadata": {},
     "output_type": "execute_result"
    }
   ],
   "source": [
    "c = b.T\n",
    "\n",
    "c"
   ]
  },
  {
   "cell_type": "markdown",
   "id": "63078689",
   "metadata": {},
   "source": [
    "10. Try to add a and c. Now it should work. Assign the sum to varialbe \"d\". But why does it work now?"
   ]
  },
  {
   "cell_type": "code",
   "execution_count": 70,
   "id": "3b0a99c4",
   "metadata": {},
   "outputs": [
    {
     "name": "stdout",
     "output_type": "stream",
     "text": [
      "\n",
      "(2, 3, 5)==(2, 3, 5)\n",
      "\n",
      " (2, 3, 5) == (2, 3, 5)\n"
     ]
    }
   ],
   "source": [
    "d = a + c\n",
    "\n",
    "\n",
    "\n",
    "#It works because they have the same shape.\n",
    "\n",
    "print('\\n'+str(a.shape) + '==' + str(c.shape))\n",
    "\n",
    "print('\\n', a.shape , '==' , c.shape)"
   ]
  },
  {
   "cell_type": "markdown",
   "id": "75d19ec9",
   "metadata": {},
   "source": [
    "11. Print a and d. Notice the difference and relation of the two array in terms of the values? Explain."
   ]
  },
  {
   "cell_type": "code",
   "execution_count": 110,
   "id": "9c486580",
   "metadata": {},
   "outputs": [
    {
     "name": "stdout",
     "output_type": "stream",
     "text": [
      "a = [[[0.27852898 0.23914135 0.38814177 0.66868915 0.67083113]\n",
      "  [0.75120949 0.89990666 0.16425217 0.65645605 0.67493426]\n",
      "  [0.20268174 0.21959583 0.69746143 0.66479246 0.22046492]]\n",
      "\n",
      " [[0.72157026 0.46174032 0.84087561 0.21086081 0.40427404]\n",
      "  [0.53819467 0.3191658  0.73156389 0.59262289 0.75918775]\n",
      "  [0.53793129 0.77435619 0.3354309  0.77424488 0.7764258 ]]]\n",
      "\n",
      "\n",
      "d =  [[[1.27852898 1.23914135 1.38814177 1.66868915 1.67083113]\n",
      "  [1.75120949 1.89990666 1.16425217 1.65645605 1.67493426]\n",
      "  [1.20268174 1.21959583 1.69746143 1.66479246 1.22046492]]\n",
      "\n",
      " [[1.72157026 1.46174032 1.84087561 1.21086081 1.40427404]\n",
      "  [1.53819467 1.3191658  1.73156389 1.59262289 1.75918775]\n",
      "  [1.53793129 1.77435619 1.3354309  1.77424488 1.7764258 ]]]\n"
     ]
    }
   ],
   "source": [
    "print('a =',a)\n",
    "print('\\n')\n",
    "print('d = ',d)"
   ]
  },
  {
   "cell_type": "markdown",
   "id": "8ab0a7bc",
   "metadata": {},
   "source": [
    "12. Multiply a and c. Assign the result to e."
   ]
  },
  {
   "cell_type": "code",
   "execution_count": 85,
   "id": "ebf9a9c0",
   "metadata": {},
   "outputs": [
    {
     "name": "stdout",
     "output_type": "stream",
     "text": [
      "(2, 3, 5)\n",
      "\n",
      "\n",
      "[[[0.27852898 0.23914135 0.38814177 0.66868915 0.67083113]\n",
      "  [0.75120949 0.89990666 0.16425217 0.65645605 0.67493426]\n",
      "  [0.20268174 0.21959583 0.69746143 0.66479246 0.22046492]]\n",
      "\n",
      " [[0.72157026 0.46174032 0.84087561 0.21086081 0.40427404]\n",
      "  [0.53819467 0.3191658  0.73156389 0.59262289 0.75918775]\n",
      "  [0.53793129 0.77435619 0.3354309  0.77424488 0.7764258 ]]]\n",
      "\n",
      "\n",
      "(2, 3, 5)\n",
      "\n",
      "\n",
      "[[[0.27852898 0.23914135 0.38814177 0.66868915 0.67083113]\n",
      "  [0.75120949 0.89990666 0.16425217 0.65645605 0.67493426]\n",
      "  [0.20268174 0.21959583 0.69746143 0.66479246 0.22046492]]\n",
      "\n",
      " [[0.72157026 0.46174032 0.84087561 0.21086081 0.40427404]\n",
      "  [0.53819467 0.3191658  0.73156389 0.59262289 0.75918775]\n",
      "  [0.53793129 0.77435619 0.3354309  0.77424488 0.7764258 ]]]\n",
      "\n",
      "\n"
     ]
    }
   ],
   "source": [
    "e = a * c\n",
    "\n",
    "print(e.shape)\n",
    "print('\\n')\n",
    "print(e)\n",
    "print('\\n')\n",
    "\n",
    "e = np.multiply(a, c)\n",
    "\n",
    "print(e.shape)\n",
    "print('\\n')\n",
    "print(e)\n",
    "print('\\n')\n",
    "\n",
    "#e = np.dot(a,b) #metodo no ejecutable\n",
    "\n",
    "# print(e.shape)\n",
    "#print('\\n')\n",
    "#print(e)\n",
    "#print('\\n')\n",
    "\n",
    "#e = np.matmul(a,c) #metodo no ejecutable\n",
    "\n",
    "#print(e.shape)\n",
    "#print('\\n')\n",
    "#print(e)\n",
    "#print('\\n')"
   ]
  },
  {
   "cell_type": "markdown",
   "id": "2beb9340",
   "metadata": {},
   "source": [
    "13. Does e equal to a? Why or why not?"
   ]
  },
  {
   "cell_type": "code",
   "execution_count": 87,
   "id": "83b3cbc0",
   "metadata": {},
   "outputs": [
    {
     "data": {
      "text/plain": [
       "array([[[ True,  True,  True,  True,  True],\n",
       "        [ True,  True,  True,  True,  True],\n",
       "        [ True,  True,  True,  True,  True]],\n",
       "\n",
       "       [[ True,  True,  True,  True,  True],\n",
       "        [ True,  True,  True,  True,  True],\n",
       "        [ True,  True,  True,  True,  True]]])"
      ]
     },
     "execution_count": 87,
     "metadata": {},
     "output_type": "execute_result"
    }
   ],
   "source": [
    "\n",
    "'''\n",
    "Al multiplicar por los métodos que han funcionado se multiplica elemento a elemento, \n",
    "y en este caso al haber multiplicado una matriz random por una llena de 1s el resultado es la misma matriz random.\n",
    "\n",
    "'''\n",
    "\n",
    "np.equal(a, e) "
   ]
  },
  {
   "cell_type": "markdown",
   "id": "c8cff0f9",
   "metadata": {},
   "source": [
    "14. Identify the max, min, and mean values in d. Assign those values to variables \"d_max\", \"d_min\", and \"d_mean\""
   ]
  },
  {
   "cell_type": "code",
   "execution_count": 143,
   "id": "c7156624",
   "metadata": {},
   "outputs": [
    {
     "name": "stdout",
     "output_type": "stream",
     "text": [
      "[[[1.27852898 1.23914135 1.38814177 1.66868915 1.67083113]\n",
      "  [1.75120949 1.89990666 1.16425217 1.65645605 1.67493426]\n",
      "  [1.20268174 1.21959583 1.69746143 1.66479246 1.22046492]]\n",
      "\n",
      " [[1.72157026 1.46174032 1.84087561 1.21086081 1.40427404]\n",
      "  [1.53819467 1.3191658  1.73156389 1.59262289 1.75918775]\n",
      "  [1.53793129 1.77435619 1.3354309  1.77424488 1.7764258 ]]]\n",
      "\n",
      "El máximo de la matriz d es =  1.8999066578124106\n",
      "\n",
      "El minimo de la matriz d es =  1.1642521731723365\n",
      "\n",
      "La media de la matriz d es =  1.5391844167581177\n"
     ]
    }
   ],
   "source": [
    "print(d)\n",
    "\n",
    "d_max = d.max()\n",
    "print('\\nEl máximo de la matriz d es = ', d_max)\n",
    "d_min = d.min()\n",
    "print('\\nEl minimo de la matriz d es = ', d_min)\n",
    "d_mean = d.mean()\n",
    "print('\\nLa media de la matriz d es = ', d_mean)\n",
    "\n"
   ]
  },
  {
   "cell_type": "markdown",
   "id": "7f699d96",
   "metadata": {},
   "source": [
    "15. Now we want to label the values in d. First create an empty array \"f\" with the same shape (i.e. 2x3x5) as d using `np.empty`."
   ]
  },
  {
   "cell_type": "code",
   "execution_count": 145,
   "id": "5602b51e",
   "metadata": {},
   "outputs": [
    {
     "data": {
      "text/plain": [
       "array([[[0, 0, 0, 0, 0],\n",
       "        [0, 0, 0, 0, 0],\n",
       "        [0, 0, 0, 0, 0]],\n",
       "\n",
       "       [[0, 0, 0, 0, 0],\n",
       "        [0, 0, 0, 0, 0],\n",
       "        [0, 0, 0, 0, 0]]])"
      ]
     },
     "execution_count": 145,
     "metadata": {},
     "output_type": "execute_result"
    }
   ],
   "source": [
    "f = np.empty((2,3,5), dtype=int)\n",
    "\n",
    "f"
   ]
  },
  {
   "cell_type": "markdown",
   "id": "5b4d5ef3",
   "metadata": {},
   "source": [
    "16. Populate the values in f. For each value in d, if it's larger than d_min but smaller than d_mean, assign 25 to the corresponding value in f.\n",
    "If a value in d is larger than d_mean but smaller than d_max, assign 75 to the corresponding value in f.\n",
    "If a value equals to d_mean, assign 50 to the corresponding value in f.\n",
    "Assign 0 to the corresponding value(s) in f for d_min in d.\n",
    "Assign 100 to the corresponding value(s) in f for d_max in d.\n",
    "In the end, f should have only the following values: 0, 25, 50, 75, and 100.\n",
    "Note: you don't have to use Numpy in this question."
   ]
  },
  {
   "cell_type": "code",
   "execution_count": 146,
   "id": "53f431fe",
   "metadata": {},
   "outputs": [
    {
     "data": {
      "text/plain": [
       "array([[[ 25,  25,  25,  75,  75],\n",
       "        [ 75, 100,   0,  75,  75],\n",
       "        [ 25,  25,  75,  75,  25]],\n",
       "\n",
       "       [[ 75,  25,  75,  25,  25],\n",
       "        [ 25,  25,  75,  75,  75],\n",
       "        [ 25,  75,  25,  75,  75]]])"
      ]
     },
     "execution_count": 146,
     "metadata": {},
     "output_type": "execute_result"
    }
   ],
   "source": [
    "f = np.where(d==d_min, 0,f)\n",
    "\n",
    "f = np.where((d>d_min)&(d<d_mean), 25,f)\n",
    "\n",
    "f = np.where(d==d_mean, 50,f)\n",
    "\n",
    "f = np.where((d<d_max)&(d>d_mean), 75,f)\n",
    "\n",
    "f = np.where(d==d_max, 100,f)\n",
    "\n",
    "\n",
    "\n",
    "'''\n",
    "print(d)\n",
    "\n",
    "d_max = d.max()\n",
    "print('\\nEl máximo de la matriz d es = ', d_max)\n",
    "d_min = d.min()\n",
    "print('\\nEl minimo de la matriz d es = ', d_min)\n",
    "d_mean = d.mean()\n",
    "print('\\nLa media de la matriz d es = ', d_mean)\n",
    "\n",
    "\n",
    "\n",
    "'''\n",
    "\n",
    "f"
   ]
  },
  {
   "cell_type": "markdown",
   "id": "9e02c284",
   "metadata": {},
   "source": [
    "17. Print d and f. Do you have your expected f?\n",
    "For instance, if your d is:\n",
    "\n",
    "array([[[1.85836099, 1.67064465, 1.62576044, 1.40243961, 1.88454931],[1.75354326, 1.69403643, 1.36729252, 1.61415071, 1.12104981],[1.72201435, 1.1862918 , 1.87078449, 1.7726778 , 1.88180042]],[[1.44747908, 1.31673383, 1.02000951, 1.52218947, 1.97066381],[1.79129243, 1.74983003, 1.96028037, 1.85166831, 1.65450881],[1.18068344, 1.9587381 , 1.00656599, 1.93402165, 1.73514584]]])\n",
    "\n",
    "Your f should be:\n",
    "\n",
    "array([[[ 75.,  75.,  75.,  25.,  75.],[ 75.,  75.,  25.,  25.,  25.],[ 75.,  25.,  75.,  75.,  75.]],\n",
    " [[ 25.,  25.,  25.,  25., 100.],[ 75.,  75.,  75.,  75.,  75.],[ 25.,  75.,   0.,  75.,  75.]]])"
   ]
  },
  {
   "cell_type": "code",
   "execution_count": 148,
   "id": "5947581f",
   "metadata": {},
   "outputs": [
    {
     "name": "stdout",
     "output_type": "stream",
     "text": [
      "[[[1.27852898 1.23914135 1.38814177 1.66868915 1.67083113]\n",
      "  [1.75120949 1.89990666 1.16425217 1.65645605 1.67493426]\n",
      "  [1.20268174 1.21959583 1.69746143 1.66479246 1.22046492]]\n",
      "\n",
      " [[1.72157026 1.46174032 1.84087561 1.21086081 1.40427404]\n",
      "  [1.53819467 1.3191658  1.73156389 1.59262289 1.75918775]\n",
      "  [1.53793129 1.77435619 1.3354309  1.77424488 1.7764258 ]]]\n",
      "\n",
      "\n",
      "\n",
      "El máximo de la matriz d es =  1.8999066578124106\n",
      "\n",
      "El minimo de la matriz d es =  1.1642521731723365\n",
      "\n",
      "La media de la matriz d es =  1.5391844167581177\n",
      "\n",
      "\n",
      "[[[ 25  25  25  75  75]\n",
      "  [ 75 100   0  75  75]\n",
      "  [ 25  25  75  75  25]]\n",
      "\n",
      " [[ 75  25  75  25  25]\n",
      "  [ 25  25  75  75  75]\n",
      "  [ 25  75  25  75  75]]]\n"
     ]
    }
   ],
   "source": [
    "print(d)\n",
    "print('\\n')\n",
    "\n",
    "d_max = d.max()\n",
    "print('\\nEl máximo de la matriz d es = ', d_max)\n",
    "d_min = d.min()\n",
    "print('\\nEl minimo de la matriz d es = ', d_min)\n",
    "d_mean = d.mean()\n",
    "print('\\nLa media de la matriz d es = ', d_mean)\n",
    "print('\\n')\n",
    "print(f)\n",
    "\n"
   ]
  },
  {
   "cell_type": "markdown",
   "id": "a9252200",
   "metadata": {},
   "source": [
    "18. Bonus question: instead of using numbers (i.e. 0, 25, 50, 75, and 100), how to use string values \n",
    "(\"A\", \"B\", \"C\", \"D\", and \"E\") to label the array elements? You are expecting the result to be:\n",
    "array([[[ 'D',  'D',  'D',  'B',  'D'],\n",
    "        [ 'D',  'D',  'B',  'B',  'B'],\n",
    "        [ 'D',  'B',  'D',  'D',  'D']],\n",
    "\n",
    "       [[ 'B',  'B',  'B',  'B',  'E'],\n",
    "        [ 'D',  'D',  'D',  'D',  'D'],\n",
    "        [ 'B',  'D',   'A',  'D', 'D']]])\n",
    "Again, you don't need Numpy in this question."
   ]
  },
  {
   "cell_type": "code",
   "execution_count": 150,
   "id": "d982eb6f",
   "metadata": {},
   "outputs": [
    {
     "name": "stdout",
     "output_type": "stream",
     "text": [
      "[[['B' 'B' 'B' 'D' 'D']\n",
      "  ['D' 'E' 'A' 'D' 'D']\n",
      "  ['B' 'B' 'D' 'D' 'B']]\n",
      "\n",
      " [['D' 'B' 'D' 'B' 'B']\n",
      "  ['B' 'B' 'D' 'D' 'D']\n",
      "  ['B' 'D' 'B' 'D' 'D']]]\n"
     ]
    }
   ],
   "source": [
    "g = np.empty((2,3,5), dtype=int)\n",
    "\n",
    "\n",
    "g = np.where(d==d_min, 'A',g)\n",
    "\n",
    "g = np.where((d>d_min)&(d<d_mean), 'B',g)\n",
    "\n",
    "g = np.where(d==d_mean, 'C',g)\n",
    "\n",
    "g = np.where((d<d_max)&(d>d_mean), 'D',g)\n",
    "\n",
    "g = np.where(d==d_max, 'E',g)\n",
    "\n",
    "print(g)\n"
   ]
  },
  {
   "cell_type": "code",
   "execution_count": null,
   "id": "18ed996d",
   "metadata": {},
   "outputs": [],
   "source": []
  }
 ],
 "metadata": {
  "kernelspec": {
   "display_name": "Python 3 (ipykernel)",
   "language": "python",
   "name": "python3"
  },
  "language_info": {
   "codemirror_mode": {
    "name": "ipython",
    "version": 3
   },
   "file_extension": ".py",
   "mimetype": "text/x-python",
   "name": "python",
   "nbconvert_exporter": "python",
   "pygments_lexer": "ipython3",
   "version": "3.10.4"
  }
 },
 "nbformat": 4,
 "nbformat_minor": 5
}
