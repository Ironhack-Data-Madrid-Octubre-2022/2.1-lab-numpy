{
 "cells": [
  {
   "cell_type": "markdown",
   "id": "ba503cc4",
   "metadata": {},
   "source": [
    "1. Import the NUMPY package under the name np."
   ]
  },
  {
   "cell_type": "code",
   "execution_count": 1,
   "id": "22827753",
   "metadata": {},
   "outputs": [
    {
     "name": "stdout",
     "output_type": "stream",
     "text": [
      "Requirement already satisfied: numpy in c:\\users\\alvar\\anaconda3\\lib\\site-packages (1.21.5)\n",
      "Note: you may need to restart the kernel to use updated packages.\n"
     ]
    }
   ],
   "source": [
    "%pip install numpy\n",
    "import numpy as np"
   ]
  },
  {
   "cell_type": "markdown",
   "id": "fef1eef6",
   "metadata": {},
   "source": [
    "2. Print the NUMPY version and the configuration.\n"
   ]
  },
  {
   "cell_type": "code",
   "execution_count": 2,
   "id": "205546f1",
   "metadata": {},
   "outputs": [
    {
     "name": "stdout",
     "output_type": "stream",
     "text": [
      "1.21.5\n"
     ]
    }
   ],
   "source": [
    "print(np.__version__)"
   ]
  },
  {
   "cell_type": "markdown",
   "id": "9a564514",
   "metadata": {},
   "source": [
    "3. Generate a 2x3x5 3-dimensional array with random values. Assign the array to variable \"a\".\n",
    "  Challenge: there are at least three easy ways that use numpy to generate random arrays. How many ways can you find?"
   ]
  },
  {
   "cell_type": "code",
   "execution_count": 3,
   "id": "6a53abce",
   "metadata": {},
   "outputs": [
    {
     "data": {
      "text/plain": [
       "array([[[0.74158423, 0.07688035, 0.83402167, 0.48165683, 0.16351443],\n",
       "        [0.9355852 , 0.95552707, 0.98939635, 0.56109723, 0.47234484],\n",
       "        [0.44553284, 0.60086314, 0.30981414, 0.063579  , 0.00303814]],\n",
       "\n",
       "       [[0.52804021, 0.52228728, 0.53085973, 0.44853157, 0.5287516 ],\n",
       "        [0.83313859, 0.63942232, 0.26468793, 0.49081244, 0.62336033],\n",
       "        [0.58721943, 0.07509548, 0.08526287, 0.58726729, 0.44845927]]])"
      ]
     },
     "execution_count": 3,
     "metadata": {},
     "output_type": "execute_result"
    }
   ],
   "source": [
    "a = np.random.random((2, 3, 5))\n",
    "\n",
    "a\n"
   ]
  },
  {
   "cell_type": "code",
   "execution_count": 4,
   "id": "31f8509e",
   "metadata": {},
   "outputs": [
    {
     "data": {
      "text/plain": [
       "array([[[4, 1, 6, 5, 6],\n",
       "        [4, 8, 9, 5, 2],\n",
       "        [3, 0, 3, 2, 2]],\n",
       "\n",
       "       [[0, 3, 9, 7, 5],\n",
       "        [8, 6, 8, 8, 0],\n",
       "        [8, 8, 2, 0, 1]]])"
      ]
     },
     "execution_count": 4,
     "metadata": {},
     "output_type": "execute_result"
    }
   ],
   "source": [
    "a = np.random.randint(10, size=(2, 3, 5))\n",
    "\n",
    "a"
   ]
  },
  {
   "cell_type": "markdown",
   "id": "a918a124",
   "metadata": {},
   "source": [
    "4. Print a."
   ]
  },
  {
   "cell_type": "code",
   "execution_count": 5,
   "id": "61202146",
   "metadata": {},
   "outputs": [
    {
     "data": {
      "text/plain": [
       "array([[[0.19841321, 0.3245497 , 0.48597137, 0.44309965, 0.92378302],\n",
       "        [0.84253192, 0.02621565, 0.99771647, 0.16550436, 0.73670862],\n",
       "        [0.86041172, 0.60880553, 0.75358279, 0.29569086, 0.7629507 ]],\n",
       "\n",
       "       [[0.46604814, 0.82266022, 0.24641901, 0.89225421, 0.8880064 ],\n",
       "        [0.48501   , 0.48652335, 0.60273249, 0.49250227, 0.15883478],\n",
       "        [0.6491449 , 0.64592938, 0.13156239, 0.00807513, 0.33141023]]])"
      ]
     },
     "execution_count": 5,
     "metadata": {},
     "output_type": "execute_result"
    }
   ],
   "source": [
    "a = np.random.rand(2,3,5)\n",
    "\n",
    "a"
   ]
  },
  {
   "cell_type": "code",
   "execution_count": 6,
   "id": "3a880a1f",
   "metadata": {},
   "outputs": [
    {
     "name": "stdout",
     "output_type": "stream",
     "text": [
      "[[[0.19841321 0.3245497  0.48597137 0.44309965 0.92378302]\n",
      "  [0.84253192 0.02621565 0.99771647 0.16550436 0.73670862]\n",
      "  [0.86041172 0.60880553 0.75358279 0.29569086 0.7629507 ]]\n",
      "\n",
      " [[0.46604814 0.82266022 0.24641901 0.89225421 0.8880064 ]\n",
      "  [0.48501    0.48652335 0.60273249 0.49250227 0.15883478]\n",
      "  [0.6491449  0.64592938 0.13156239 0.00807513 0.33141023]]]\n"
     ]
    }
   ],
   "source": [
    "print(a)"
   ]
  },
  {
   "cell_type": "markdown",
   "id": "74dbf22e",
   "metadata": {},
   "source": [
    "5. Create a 5x2x3 3-dimensional array with all values equaling 1.\n",
    "Assign the array to variable \"b\""
   ]
  },
  {
   "cell_type": "code",
   "execution_count": 7,
   "id": "1e835dd5",
   "metadata": {},
   "outputs": [
    {
     "data": {
      "text/plain": [
       "array([[[1, 1],\n",
       "        [1, 1],\n",
       "        [1, 1]],\n",
       "\n",
       "       [[1, 1],\n",
       "        [1, 1],\n",
       "        [1, 1]],\n",
       "\n",
       "       [[1, 1],\n",
       "        [1, 1],\n",
       "        [1, 1]],\n",
       "\n",
       "       [[1, 1],\n",
       "        [1, 1],\n",
       "        [1, 1]],\n",
       "\n",
       "       [[1, 1],\n",
       "        [1, 1],\n",
       "        [1, 1]]])"
      ]
     },
     "execution_count": 7,
     "metadata": {},
     "output_type": "execute_result"
    }
   ],
   "source": [
    "b = np.ones((5,3,2), dtype=int)\n",
    "\n",
    "b"
   ]
  },
  {
   "cell_type": "markdown",
   "id": "629f998c",
   "metadata": {},
   "source": [
    "6. Print b."
   ]
  },
  {
   "cell_type": "code",
   "execution_count": 8,
   "id": "b69203aa",
   "metadata": {},
   "outputs": [
    {
     "name": "stdout",
     "output_type": "stream",
     "text": [
      "[[[1 1]\n",
      "  [1 1]\n",
      "  [1 1]]\n",
      "\n",
      " [[1 1]\n",
      "  [1 1]\n",
      "  [1 1]]\n",
      "\n",
      " [[1 1]\n",
      "  [1 1]\n",
      "  [1 1]]\n",
      "\n",
      " [[1 1]\n",
      "  [1 1]\n",
      "  [1 1]]\n",
      "\n",
      " [[1 1]\n",
      "  [1 1]\n",
      "  [1 1]]]\n"
     ]
    }
   ],
   "source": [
    "print(b)"
   ]
  },
  {
   "cell_type": "markdown",
   "id": "ed697c86",
   "metadata": {},
   "source": [
    "7. Do a and b have the same size? How do you prove that in Python code?"
   ]
  },
  {
   "cell_type": "code",
   "execution_count": 9,
   "id": "832bb4f8",
   "metadata": {},
   "outputs": [
    {
     "data": {
      "text/plain": [
       "True"
      ]
     },
     "execution_count": 9,
     "metadata": {},
     "output_type": "execute_result"
    }
   ],
   "source": [
    "a.size == b.size  #Tienen el mismo numero de elementos, pero no la misma forma..."
   ]
  },
  {
   "cell_type": "code",
   "execution_count": 10,
   "id": "097b67d5",
   "metadata": {},
   "outputs": [
    {
     "name": "stdout",
     "output_type": "stream",
     "text": [
      "(2, 3, 5)\n",
      "(5, 3, 2)\n"
     ]
    },
    {
     "ename": "AttributeError",
     "evalue": "'numpy.ndarray' object has no attribute 's'",
     "output_type": "error",
     "traceback": [
      "\u001b[1;31m---------------------------------------------------------------------------\u001b[0m",
      "\u001b[1;31mAttributeError\u001b[0m                            Traceback (most recent call last)",
      "Input \u001b[1;32mIn [10]\u001b[0m, in \u001b[0;36m<cell line: 6>\u001b[1;34m()\u001b[0m\n\u001b[0;32m      4\u001b[0m test1 \u001b[38;5;241m=\u001b[39m []\n\u001b[0;32m      5\u001b[0m test2 \u001b[38;5;241m=\u001b[39m []\n\u001b[1;32m----> 6\u001b[0m \u001b[38;5;28mprint\u001b[39m(a\u001b[38;5;241m.\u001b[39mshape \u001b[38;5;241m==\u001b[39m \u001b[43mb\u001b[49m\u001b[38;5;241;43m.\u001b[39;49m\u001b[43ms\u001b[49m)\n",
      "\u001b[1;31mAttributeError\u001b[0m: 'numpy.ndarray' object has no attribute 's'"
     ]
    }
   ],
   "source": [
    "print(a.shape)\n",
    "print(b.shape)\n",
    "test = []\n",
    "test1 = []\n",
    "test2 = []\n",
    "print(a.shape == b.s)"
   ]
  },
  {
   "cell_type": "markdown",
   "id": "0e1704aa",
   "metadata": {},
   "source": [
    "8. Are you able to add a and b? Why or why not?"
   ]
  },
  {
   "cell_type": "code",
   "execution_count": 11,
   "id": "e43e47d2",
   "metadata": {},
   "outputs": [
    {
     "ename": "ValueError",
     "evalue": "operands could not be broadcast together with shapes (2,3,5) (5,3,2) ",
     "output_type": "error",
     "traceback": [
      "\u001b[1;31m---------------------------------------------------------------------------\u001b[0m",
      "\u001b[1;31mValueError\u001b[0m                                Traceback (most recent call last)",
      "Input \u001b[1;32mIn [11]\u001b[0m, in \u001b[0;36m<cell line: 1>\u001b[1;34m()\u001b[0m\n\u001b[1;32m----> 1\u001b[0m test \u001b[38;5;241m=\u001b[39m \u001b[43ma\u001b[49m\u001b[43m \u001b[49m\u001b[38;5;241;43m+\u001b[39;49m\u001b[43m \u001b[49m\u001b[43mb\u001b[49m\n",
      "\u001b[1;31mValueError\u001b[0m: operands could not be broadcast together with shapes (2,3,5) (5,3,2) "
     ]
    }
   ],
   "source": [
    "test = a + b  #It is nor possible, as to be able to add one matrix to another one the have to have the same shape!!!\n",
    "\n",
    "\n"
   ]
  },
  {
   "cell_type": "markdown",
   "id": "99b0aeb6",
   "metadata": {},
   "source": [
    "9. Transpose b so that it has the same structure of a (i.e. become a 2x3x5 array). Assign the transposed array to varialbe \"c\"."
   ]
  },
  {
   "cell_type": "code",
   "execution_count": 12,
   "id": "8c3bd455",
   "metadata": {},
   "outputs": [
    {
     "data": {
      "text/plain": [
       "array([[[1, 1, 1, 1, 1],\n",
       "        [1, 1, 1, 1, 1],\n",
       "        [1, 1, 1, 1, 1]],\n",
       "\n",
       "       [[1, 1, 1, 1, 1],\n",
       "        [1, 1, 1, 1, 1],\n",
       "        [1, 1, 1, 1, 1]]])"
      ]
     },
     "execution_count": 12,
     "metadata": {},
     "output_type": "execute_result"
    }
   ],
   "source": [
    "c = b.T\n",
    "\n",
    "c"
   ]
  },
  {
   "cell_type": "markdown",
   "id": "63078689",
   "metadata": {},
   "source": [
    "10. Try to add a and c. Now it should work. Assign the sum to varialbe \"d\". But why does it work now?"
   ]
  },
  {
   "cell_type": "code",
   "execution_count": 13,
   "id": "3b0a99c4",
   "metadata": {},
   "outputs": [
    {
     "name": "stdout",
     "output_type": "stream",
     "text": [
      "\n",
      "(2, 3, 5)==(2, 3, 5)\n",
      "\n",
      " (2, 3, 5) == (2, 3, 5)\n"
     ]
    }
   ],
   "source": [
    "d = a + c\n",
    "\n",
    "\n",
    "\n",
    "#It works because they have the same shape.\n",
    "\n",
    "print('\\n'+str(a.shape) + '==' + str(c.shape))\n",
    "\n",
    "print('\\n', a.shape , '==' , c.shape)"
   ]
  },
  {
   "cell_type": "markdown",
   "id": "75d19ec9",
   "metadata": {},
   "source": [
    "11. Print a and d. Notice the difference and relation of the two array in terms of the values? Explain."
   ]
  },
  {
   "cell_type": "code",
   "execution_count": 14,
   "id": "9c486580",
   "metadata": {},
   "outputs": [
    {
     "name": "stdout",
     "output_type": "stream",
     "text": [
      "a = [[[0.19841321 0.3245497  0.48597137 0.44309965 0.92378302]\n",
      "  [0.84253192 0.02621565 0.99771647 0.16550436 0.73670862]\n",
      "  [0.86041172 0.60880553 0.75358279 0.29569086 0.7629507 ]]\n",
      "\n",
      " [[0.46604814 0.82266022 0.24641901 0.89225421 0.8880064 ]\n",
      "  [0.48501    0.48652335 0.60273249 0.49250227 0.15883478]\n",
      "  [0.6491449  0.64592938 0.13156239 0.00807513 0.33141023]]]\n",
      "\n",
      "\n",
      "d =  [[[1.19841321 1.3245497  1.48597137 1.44309965 1.92378302]\n",
      "  [1.84253192 1.02621565 1.99771647 1.16550436 1.73670862]\n",
      "  [1.86041172 1.60880553 1.75358279 1.29569086 1.7629507 ]]\n",
      "\n",
      " [[1.46604814 1.82266022 1.24641901 1.89225421 1.8880064 ]\n",
      "  [1.48501    1.48652335 1.60273249 1.49250227 1.15883478]\n",
      "  [1.6491449  1.64592938 1.13156239 1.00807513 1.33141023]]]\n"
     ]
    }
   ],
   "source": [
    "print('a =',a)\n",
    "print('\\n')\n",
    "print('d = ',d)"
   ]
  },
  {
   "cell_type": "markdown",
   "id": "8ab0a7bc",
   "metadata": {},
   "source": [
    "12. Multiply a and c. Assign the result to e."
   ]
  },
  {
   "cell_type": "code",
   "execution_count": 15,
   "id": "ebf9a9c0",
   "metadata": {},
   "outputs": [
    {
     "name": "stdout",
     "output_type": "stream",
     "text": [
      "(2, 3, 5)\n",
      "\n",
      "\n",
      "[[[0.19841321 0.3245497  0.48597137 0.44309965 0.92378302]\n",
      "  [0.84253192 0.02621565 0.99771647 0.16550436 0.73670862]\n",
      "  [0.86041172 0.60880553 0.75358279 0.29569086 0.7629507 ]]\n",
      "\n",
      " [[0.46604814 0.82266022 0.24641901 0.89225421 0.8880064 ]\n",
      "  [0.48501    0.48652335 0.60273249 0.49250227 0.15883478]\n",
      "  [0.6491449  0.64592938 0.13156239 0.00807513 0.33141023]]]\n",
      "\n",
      "\n",
      "(2, 3, 5)\n",
      "\n",
      "\n",
      "[[[0.19841321 0.3245497  0.48597137 0.44309965 0.92378302]\n",
      "  [0.84253192 0.02621565 0.99771647 0.16550436 0.73670862]\n",
      "  [0.86041172 0.60880553 0.75358279 0.29569086 0.7629507 ]]\n",
      "\n",
      " [[0.46604814 0.82266022 0.24641901 0.89225421 0.8880064 ]\n",
      "  [0.48501    0.48652335 0.60273249 0.49250227 0.15883478]\n",
      "  [0.6491449  0.64592938 0.13156239 0.00807513 0.33141023]]]\n",
      "\n",
      "\n"
     ]
    }
   ],
   "source": [
    "e = a * c\n",
    "\n",
    "print(e.shape)\n",
    "print('\\n')\n",
    "print(e)\n",
    "print('\\n')\n",
    "\n",
    "e = np.multiply(a, c)\n",
    "\n",
    "print(e.shape)\n",
    "print('\\n')\n",
    "print(e)\n",
    "print('\\n')\n",
    "\n",
    "#e = np.dot(a,b) #metodo no ejecutable\n",
    "\n",
    "# print(e.shape)\n",
    "#print('\\n')\n",
    "#print(e)\n",
    "#print('\\n')\n",
    "\n",
    "#e = np.matmul(a,c) #metodo no ejecutable\n",
    "\n",
    "#print(e.shape)\n",
    "#print('\\n')\n",
    "#print(e)\n",
    "#print('\\n')"
   ]
  },
  {
   "cell_type": "markdown",
   "id": "2beb9340",
   "metadata": {},
   "source": [
    "13. Does e equal to a? Why or why not?"
   ]
  },
  {
   "cell_type": "code",
   "execution_count": 16,
   "id": "83b3cbc0",
   "metadata": {},
   "outputs": [
    {
     "data": {
      "text/plain": [
       "array([[[ True,  True,  True,  True,  True],\n",
       "        [ True,  True,  True,  True,  True],\n",
       "        [ True,  True,  True,  True,  True]],\n",
       "\n",
       "       [[ True,  True,  True,  True,  True],\n",
       "        [ True,  True,  True,  True,  True],\n",
       "        [ True,  True,  True,  True,  True]]])"
      ]
     },
     "execution_count": 16,
     "metadata": {},
     "output_type": "execute_result"
    }
   ],
   "source": [
    "\n",
    "'''\n",
    "Al multiplicar por los métodos que han funcionado se multiplica elemento a elemento, \n",
    "y en este caso al haber multiplicado una matriz random por una llena de 1s el resultado es la misma matriz random.\n",
    "\n",
    "'''\n",
    "\n",
    "np.equal(a, e) "
   ]
  },
  {
   "cell_type": "markdown",
   "id": "c8cff0f9",
   "metadata": {},
   "source": [
    "14. Identify the max, min, and mean values in d. Assign those values to variables \"d_max\", \"d_min\", and \"d_mean\""
   ]
  },
  {
   "cell_type": "code",
   "execution_count": 17,
   "id": "c7156624",
   "metadata": {},
   "outputs": [
    {
     "name": "stdout",
     "output_type": "stream",
     "text": [
      "[[[1.19841321 1.3245497  1.48597137 1.44309965 1.92378302]\n",
      "  [1.84253192 1.02621565 1.99771647 1.16550436 1.73670862]\n",
      "  [1.86041172 1.60880553 1.75358279 1.29569086 1.7629507 ]]\n",
      "\n",
      " [[1.46604814 1.82266022 1.24641901 1.89225421 1.8880064 ]\n",
      "  [1.48501    1.48652335 1.60273249 1.49250227 1.15883478]\n",
      "  [1.6491449  1.64592938 1.13156239 1.00807513 1.33141023]]]\n",
      "\n",
      "El máximo de la matriz d es =  1.9977164717211482\n",
      "\n",
      "El minimo de la matriz d es =  1.0080751273290351\n",
      "\n",
      "La media de la matriz d es =  1.5244349481438126\n"
     ]
    }
   ],
   "source": [
    "print(d)\n",
    "\n",
    "d_max = d.max()\n",
    "print('\\nEl máximo de la matriz d es = ', d_max)\n",
    "d_min = d.min()\n",
    "print('\\nEl minimo de la matriz d es = ', d_min)\n",
    "d_mean = d.mean()\n",
    "print('\\nLa media de la matriz d es = ', d_mean)\n",
    "\n"
   ]
  },
  {
   "cell_type": "markdown",
   "id": "7f699d96",
   "metadata": {},
   "source": [
    "15. Now we want to label the values in d. First create an empty array \"f\" with the same shape (i.e. 2x3x5) as d using `np.empty`."
   ]
  },
  {
   "cell_type": "code",
   "execution_count": 18,
   "id": "5602b51e",
   "metadata": {},
   "outputs": [
    {
     "data": {
      "text/plain": [
       "array([[[3801155, 5570652, 6619251, 7536754, 6357084],\n",
       "        [7733356, 7471201, 3014748, 7340137, 7602297],\n",
       "        [7274600, 6029422, 7471216, 6684783, 7077993]],\n",
       "\n",
       "       [[6226021, 6619236, 6357094, 7078005, 6029428],\n",
       "        [6881384, 7602291, 7471215, 3014777, 7405683],\n",
       "        [6881388, 6619252, 7798829, 7077985,       0]]])"
      ]
     },
     "execution_count": 18,
     "metadata": {},
     "output_type": "execute_result"
    }
   ],
   "source": [
    "f = np.empty((2,3,5), dtype=int)\n",
    "\n",
    "f"
   ]
  },
  {
   "cell_type": "markdown",
   "id": "5b4d5ef3",
   "metadata": {},
   "source": [
    "16. Populate the values in f. For each value in d, if it's larger than d_min but smaller than d_mean, assign 25 to the corresponding value in f.\n",
    "If a value in d is larger than d_mean but smaller than d_max, assign 75 to the corresponding value in f.\n",
    "If a value equals to d_mean, assign 50 to the corresponding value in f.\n",
    "Assign 0 to the corresponding value(s) in f for d_min in d.\n",
    "Assign 100 to the corresponding value(s) in f for d_max in d.\n",
    "In the end, f should have only the following values: 0, 25, 50, 75, and 100.\n",
    "Note: you don't have to use Numpy in this question."
   ]
  },
  {
   "cell_type": "code",
   "execution_count": 19,
   "id": "53f431fe",
   "metadata": {},
   "outputs": [
    {
     "data": {
      "text/plain": [
       "array([[[ 25,  25,  25,  25,  75],\n",
       "        [ 75,  25, 100,  25,  75],\n",
       "        [ 75,  75,  75,  25,  75]],\n",
       "\n",
       "       [[ 25,  75,  25,  75,  75],\n",
       "        [ 25,  25,  75,  25,  25],\n",
       "        [ 75,  75,  25,   0,  25]]])"
      ]
     },
     "execution_count": 19,
     "metadata": {},
     "output_type": "execute_result"
    }
   ],
   "source": [
    "f = np.where(d==d_min, 0,f)\n",
    "\n",
    "f = np.where((d>d_min)&(d<d_mean), 25,f)\n",
    "\n",
    "f = np.where(d==d_mean, 50,f)\n",
    "\n",
    "f = np.where((d<d_max)&(d>d_mean), 75,f)\n",
    "\n",
    "f = np.where(d==d_max, 100,f)\n",
    "\n",
    "\n",
    "\n",
    "'''\n",
    "print(d)\n",
    "\n",
    "d_max = d.max()\n",
    "print('\\nEl máximo de la matriz d es = ', d_max)\n",
    "d_min = d.min()\n",
    "print('\\nEl minimo de la matriz d es = ', d_min)\n",
    "d_mean = d.mean()\n",
    "print('\\nLa media de la matriz d es = ', d_mean)\n",
    "\n",
    "\n",
    "\n",
    "'''\n",
    "\n",
    "f"
   ]
  },
  {
   "cell_type": "markdown",
   "id": "9e02c284",
   "metadata": {},
   "source": [
    "17. Print d and f. Do you have your expected f?\n",
    "For instance, if your d is:\n",
    "\n",
    "array([[[1.85836099, 1.67064465, 1.62576044, 1.40243961, 1.88454931],[1.75354326, 1.69403643, 1.36729252, 1.61415071, 1.12104981],[1.72201435, 1.1862918 , 1.87078449, 1.7726778 , 1.88180042]],[[1.44747908, 1.31673383, 1.02000951, 1.52218947, 1.97066381],[1.79129243, 1.74983003, 1.96028037, 1.85166831, 1.65450881],[1.18068344, 1.9587381 , 1.00656599, 1.93402165, 1.73514584]]])\n",
    "\n",
    "Your f should be:\n",
    "\n",
    "array([[[ 75.,  75.,  75.,  25.,  75.],[ 75.,  75.,  25.,  25.,  25.],[ 75.,  25.,  75.,  75.,  75.]],\n",
    " [[ 25.,  25.,  25.,  25., 100.],[ 75.,  75.,  75.,  75.,  75.],[ 25.,  75.,   0.,  75.,  75.]]])"
   ]
  },
  {
   "cell_type": "code",
   "execution_count": 20,
   "id": "5947581f",
   "metadata": {},
   "outputs": [
    {
     "name": "stdout",
     "output_type": "stream",
     "text": [
      "[[[1.19841321 1.3245497  1.48597137 1.44309965 1.92378302]\n",
      "  [1.84253192 1.02621565 1.99771647 1.16550436 1.73670862]\n",
      "  [1.86041172 1.60880553 1.75358279 1.29569086 1.7629507 ]]\n",
      "\n",
      " [[1.46604814 1.82266022 1.24641901 1.89225421 1.8880064 ]\n",
      "  [1.48501    1.48652335 1.60273249 1.49250227 1.15883478]\n",
      "  [1.6491449  1.64592938 1.13156239 1.00807513 1.33141023]]]\n",
      "\n",
      "\n",
      "\n",
      "El máximo de la matriz d es =  1.9977164717211482\n",
      "\n",
      "El minimo de la matriz d es =  1.0080751273290351\n",
      "\n",
      "La media de la matriz d es =  1.5244349481438126\n",
      "\n",
      "\n",
      "[[[ 25  25  25  25  75]\n",
      "  [ 75  25 100  25  75]\n",
      "  [ 75  75  75  25  75]]\n",
      "\n",
      " [[ 25  75  25  75  75]\n",
      "  [ 25  25  75  25  25]\n",
      "  [ 75  75  25   0  25]]]\n"
     ]
    }
   ],
   "source": [
    "print(d)\n",
    "print('\\n')\n",
    "\n",
    "d_max = d.max()\n",
    "print('\\nEl máximo de la matriz d es = ', d_max)\n",
    "d_min = d.min()\n",
    "print('\\nEl minimo de la matriz d es = ', d_min)\n",
    "d_mean = d.mean()\n",
    "print('\\nLa media de la matriz d es = ', d_mean)\n",
    "print('\\n')\n",
    "print(f)\n",
    "\n"
   ]
  },
  {
   "cell_type": "markdown",
   "id": "a9252200",
   "metadata": {},
   "source": [
    "18. Bonus question: instead of using numbers (i.e. 0, 25, 50, 75, and 100), how to use string values \n",
    "(\"A\", \"B\", \"C\", \"D\", and \"E\") to label the array elements? You are expecting the result to be:\n",
    "array([[[ 'D',  'D',  'D',  'B',  'D'],\n",
    "        [ 'D',  'D',  'B',  'B',  'B'],\n",
    "        [ 'D',  'B',  'D',  'D',  'D']],\n",
    "\n",
    "       [[ 'B',  'B',  'B',  'B',  'E'],\n",
    "        [ 'D',  'D',  'D',  'D',  'D'],\n",
    "        [ 'B',  'D',   'A',  'D', 'D']]])\n",
    "Again, you don't need Numpy in this question."
   ]
  },
  {
   "cell_type": "code",
   "execution_count": 21,
   "id": "d982eb6f",
   "metadata": {},
   "outputs": [
    {
     "name": "stdout",
     "output_type": "stream",
     "text": [
      "[[['B' 'B' 'B' 'B' 'D']\n",
      "  ['D' 'B' 'E' 'B' 'D']\n",
      "  ['D' 'D' 'D' 'B' 'D']]\n",
      "\n",
      " [['B' 'D' 'B' 'D' 'D']\n",
      "  ['B' 'B' 'D' 'B' 'B']\n",
      "  ['D' 'D' 'B' 'A' 'B']]]\n"
     ]
    }
   ],
   "source": [
    "g = np.empty((2,3,5), dtype=int)\n",
    "\n",
    "\n",
    "g = np.where(d==d_min, 'A',g)\n",
    "\n",
    "g = np.where((d>d_min)&(d<d_mean), 'B',g)\n",
    "\n",
    "g = np.where(d==d_mean, 'C',g)\n",
    "\n",
    "g = np.where((d<d_max)&(d>d_mean), 'D',g)\n",
    "\n",
    "g = np.where(d==d_max, 'E',g)\n",
    "\n",
    "print(g)\n"
   ]
  },
  {
   "cell_type": "code",
   "execution_count": null,
   "id": "18ed996d",
   "metadata": {},
   "outputs": [],
   "source": []
  }
 ],
 "metadata": {
  "kernelspec": {
   "display_name": "Python 3 (ipykernel)",
   "language": "python",
   "name": "python3"
  },
  "language_info": {
   "codemirror_mode": {
    "name": "ipython",
    "version": 3
   },
   "file_extension": ".py",
   "mimetype": "text/x-python",
   "name": "python",
   "nbconvert_exporter": "python",
   "pygments_lexer": "ipython3",
   "version": "3.9.12"
  }
 },
 "nbformat": 4,
 "nbformat_minor": 5
}
