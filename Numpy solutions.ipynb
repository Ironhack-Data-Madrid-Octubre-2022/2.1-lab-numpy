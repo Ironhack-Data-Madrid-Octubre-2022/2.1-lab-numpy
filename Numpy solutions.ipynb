{
 "cells": [
  {
   "cell_type": "markdown",
   "id": "3dcd7d8d",
   "metadata": {},
   "source": [
    "#1. Import the NUMPY package under the name np."
   ]
  },
  {
   "cell_type": "code",
   "execution_count": 102,
   "id": "d2b079ff",
   "metadata": {},
   "outputs": [],
   "source": [
    "import numpy as np"
   ]
  },
  {
   "cell_type": "markdown",
   "id": "4e7ff9bc",
   "metadata": {},
   "source": [
    "#2. Print the NUMPY version and the configuration."
   ]
  },
  {
   "cell_type": "code",
   "execution_count": 103,
   "id": "1104187c",
   "metadata": {},
   "outputs": [
    {
     "data": {
      "text/plain": [
       "'1.21.5'"
      ]
     },
     "execution_count": 103,
     "metadata": {},
     "output_type": "execute_result"
    }
   ],
   "source": [
    "np.version.version"
   ]
  },
  {
   "cell_type": "code",
   "execution_count": 104,
   "id": "eee86fc2",
   "metadata": {
    "scrolled": true
   },
   "outputs": [
    {
     "name": "stdout",
     "output_type": "stream",
     "text": [
      "blas_mkl_info:\n",
      "    libraries = ['mkl_rt', 'pthread']\n",
      "    library_dirs = ['/Users/maria/opt/anaconda3/lib']\n",
      "    define_macros = [('SCIPY_MKL_H', None), ('HAVE_CBLAS', None)]\n",
      "    include_dirs = ['/Users/maria/opt/anaconda3/include']\n",
      "blas_opt_info:\n",
      "    libraries = ['mkl_rt', 'pthread']\n",
      "    library_dirs = ['/Users/maria/opt/anaconda3/lib']\n",
      "    define_macros = [('SCIPY_MKL_H', None), ('HAVE_CBLAS', None)]\n",
      "    include_dirs = ['/Users/maria/opt/anaconda3/include']\n",
      "lapack_mkl_info:\n",
      "    libraries = ['mkl_rt', 'pthread']\n",
      "    library_dirs = ['/Users/maria/opt/anaconda3/lib']\n",
      "    define_macros = [('SCIPY_MKL_H', None), ('HAVE_CBLAS', None)]\n",
      "    include_dirs = ['/Users/maria/opt/anaconda3/include']\n",
      "lapack_opt_info:\n",
      "    libraries = ['mkl_rt', 'pthread']\n",
      "    library_dirs = ['/Users/maria/opt/anaconda3/lib']\n",
      "    define_macros = [('SCIPY_MKL_H', None), ('HAVE_CBLAS', None)]\n",
      "    include_dirs = ['/Users/maria/opt/anaconda3/include']\n",
      "Supported SIMD extensions in this NumPy install:\n",
      "    baseline = SSE,SSE2,SSE3\n",
      "    found = SSSE3,SSE41,POPCNT,SSE42\n",
      "    not found = AVX,F16C,FMA3,AVX2,AVX512F,AVX512CD,AVX512_KNL,AVX512_SKX,AVX512_CLX,AVX512_CNL,AVX512_ICL\n",
      "None\n"
     ]
    }
   ],
   "source": [
    "print(np.show_config())"
   ]
  },
  {
   "cell_type": "markdown",
   "id": "85117ce7",
   "metadata": {},
   "source": [
    "#3. Generate a 2x3x5 3-dimensional array with random values. Assign the array to variable \"a\"\n",
    "\n",
    "##Challenge: there are at least three easy ways that use numpy to generate random arrays. How many ways can you find?"
   ]
  },
  {
   "cell_type": "code",
   "execution_count": 105,
   "id": "1aed2f4e",
   "metadata": {},
   "outputs": [],
   "source": [
    "a=np.random.random((2,3,5))"
   ]
  },
  {
   "cell_type": "code",
   "execution_count": 106,
   "id": "dd67197b",
   "metadata": {},
   "outputs": [],
   "source": [
    "a=np.random.randint(0,100,size =[2,3,5])"
   ]
  },
  {
   "cell_type": "code",
   "execution_count": 107,
   "id": "3d08d998",
   "metadata": {},
   "outputs": [],
   "source": [
    "a=np.random.rand(2,3,5)"
   ]
  },
  {
   "cell_type": "markdown",
   "id": "758c1c46",
   "metadata": {},
   "source": [
    "#4. Print a."
   ]
  },
  {
   "cell_type": "code",
   "execution_count": 108,
   "id": "b0d66036",
   "metadata": {},
   "outputs": [
    {
     "name": "stdout",
     "output_type": "stream",
     "text": [
      "[[[0.67621602 0.1498882  0.6491515  0.7250734  0.07470661]\n",
      "  [0.14093865 0.47462258 0.97697514 0.90887452 0.53879369]\n",
      "  [0.15175905 0.51975988 0.32821158 0.40628    0.06018764]]\n",
      "\n",
      " [[0.6056018  0.73069139 0.8259734  0.15239583 0.71931049]\n",
      "  [0.50640354 0.37729897 0.88129367 0.99629702 0.54115321]\n",
      "  [0.4783495  0.82274946 0.56831731 0.20471932 0.81734001]]]\n"
     ]
    }
   ],
   "source": [
    "print(a)"
   ]
  },
  {
   "cell_type": "markdown",
   "id": "b2b04641",
   "metadata": {},
   "source": [
    "#5. Create a 5x2x3 3-dimensional array with all values equaling 1.\n",
    "#Assign the array to variable \"b\""
   ]
  },
  {
   "cell_type": "code",
   "execution_count": 109,
   "id": "c3bf6f3d",
   "metadata": {},
   "outputs": [],
   "source": [
    "b=np.ones((5,2,3))"
   ]
  },
  {
   "cell_type": "markdown",
   "id": "a0b460b4",
   "metadata": {},
   "source": [
    "#6. Print b."
   ]
  },
  {
   "cell_type": "code",
   "execution_count": 110,
   "id": "e57a4dee",
   "metadata": {},
   "outputs": [
    {
     "name": "stdout",
     "output_type": "stream",
     "text": [
      "[[[1. 1. 1.]\n",
      "  [1. 1. 1.]]\n",
      "\n",
      " [[1. 1. 1.]\n",
      "  [1. 1. 1.]]\n",
      "\n",
      " [[1. 1. 1.]\n",
      "  [1. 1. 1.]]\n",
      "\n",
      " [[1. 1. 1.]\n",
      "  [1. 1. 1.]]\n",
      "\n",
      " [[1. 1. 1.]\n",
      "  [1. 1. 1.]]]\n"
     ]
    }
   ],
   "source": [
    "print(b)"
   ]
  },
  {
   "cell_type": "markdown",
   "id": "a11907c6",
   "metadata": {},
   "source": [
    "#7. Do a and b have the same size? How do you prove that in Python code?"
   ]
  },
  {
   "cell_type": "code",
   "execution_count": 111,
   "id": "aa0e5167",
   "metadata": {},
   "outputs": [
    {
     "data": {
      "text/plain": [
       "30"
      ]
     },
     "execution_count": 111,
     "metadata": {},
     "output_type": "execute_result"
    }
   ],
   "source": [
    "a.size"
   ]
  },
  {
   "cell_type": "code",
   "execution_count": 112,
   "id": "e0da33d7",
   "metadata": {},
   "outputs": [
    {
     "data": {
      "text/plain": [
       "(2, 3, 5)"
      ]
     },
     "execution_count": 112,
     "metadata": {},
     "output_type": "execute_result"
    }
   ],
   "source": [
    "a.shape"
   ]
  },
  {
   "cell_type": "code",
   "execution_count": 113,
   "id": "776b4d2a",
   "metadata": {},
   "outputs": [
    {
     "data": {
      "text/plain": [
       "30"
      ]
     },
     "execution_count": 113,
     "metadata": {},
     "output_type": "execute_result"
    }
   ],
   "source": [
    "b.size"
   ]
  },
  {
   "cell_type": "code",
   "execution_count": 114,
   "id": "ec562b04",
   "metadata": {},
   "outputs": [
    {
     "data": {
      "text/plain": [
       "(5, 2, 3)"
      ]
     },
     "execution_count": 114,
     "metadata": {},
     "output_type": "execute_result"
    }
   ],
   "source": [
    "b.shape"
   ]
  },
  {
   "cell_type": "code",
   "execution_count": 115,
   "id": "38a80b52",
   "metadata": {},
   "outputs": [
    {
     "data": {
      "text/plain": [
       "True"
      ]
     },
     "execution_count": 115,
     "metadata": {},
     "output_type": "execute_result"
    }
   ],
   "source": [
    "a.size==b.size"
   ]
  },
  {
   "cell_type": "markdown",
   "id": "df099fb9",
   "metadata": {},
   "source": [
    "#8. Are you able to add a and b? Why or why not?"
   ]
  },
  {
   "cell_type": "code",
   "execution_count": 116,
   "id": "111b2a65",
   "metadata": {},
   "outputs": [
    {
     "ename": "ValueError",
     "evalue": "operands could not be broadcast together with shapes (2,3,5) (5,2,3) ",
     "output_type": "error",
     "traceback": [
      "\u001b[0;31m---------------------------------------------------------------------------\u001b[0m",
      "\u001b[0;31mValueError\u001b[0m                                Traceback (most recent call last)",
      "Input \u001b[0;32mIn [116]\u001b[0m, in \u001b[0;36m<cell line: 1>\u001b[0;34m()\u001b[0m\n\u001b[0;32m----> 1\u001b[0m \u001b[43mnp\u001b[49m\u001b[38;5;241;43m.\u001b[39;49m\u001b[43madd\u001b[49m\u001b[43m(\u001b[49m\u001b[43ma\u001b[49m\u001b[43m,\u001b[49m\u001b[43mb\u001b[49m\u001b[43m)\u001b[49m\n",
      "\u001b[0;31mValueError\u001b[0m: operands could not be broadcast together with shapes (2,3,5) (5,2,3) "
     ]
    }
   ],
   "source": [
    "np.add(a,b)"
   ]
  },
  {
   "cell_type": "markdown",
   "id": "be479a71",
   "metadata": {},
   "source": [
    "#9. Transpose b so that it has the same structure of a (i.e. become a 2x3x5 array). Assign the transposed array to variable \"c\"."
   ]
  },
  {
   "cell_type": "code",
   "execution_count": 117,
   "id": "466fbbe5",
   "metadata": {},
   "outputs": [
    {
     "name": "stdout",
     "output_type": "stream",
     "text": [
      "[[[1. 1. 1.]\n",
      "  [1. 1. 1.]]\n",
      "\n",
      " [[1. 1. 1.]\n",
      "  [1. 1. 1.]]\n",
      "\n",
      " [[1. 1. 1.]\n",
      "  [1. 1. 1.]]\n",
      "\n",
      " [[1. 1. 1.]\n",
      "  [1. 1. 1.]]\n",
      "\n",
      " [[1. 1. 1.]\n",
      "  [1. 1. 1.]]]\n"
     ]
    }
   ],
   "source": [
    "print(b)"
   ]
  },
  {
   "cell_type": "code",
   "execution_count": 118,
   "id": "62c6a732",
   "metadata": {},
   "outputs": [
    {
     "name": "stdout",
     "output_type": "stream",
     "text": [
      "[[[1. 1. 1. 1. 1.]\n",
      "  [1. 1. 1. 1. 1.]]\n",
      "\n",
      " [[1. 1. 1. 1. 1.]\n",
      "  [1. 1. 1. 1. 1.]]\n",
      "\n",
      " [[1. 1. 1. 1. 1.]\n",
      "  [1. 1. 1. 1. 1.]]]\n"
     ]
    }
   ],
   "source": [
    "print(b.T)"
   ]
  },
  {
   "cell_type": "code",
   "execution_count": 119,
   "id": "a979de45",
   "metadata": {},
   "outputs": [
    {
     "data": {
      "text/plain": [
       "(2, 3, 5)"
      ]
     },
     "execution_count": 119,
     "metadata": {},
     "output_type": "execute_result"
    }
   ],
   "source": [
    "a.shape"
   ]
  },
  {
   "cell_type": "code",
   "execution_count": 120,
   "id": "01244db3",
   "metadata": {},
   "outputs": [
    {
     "data": {
      "text/plain": [
       "(5, 2, 3)"
      ]
     },
     "execution_count": 120,
     "metadata": {},
     "output_type": "execute_result"
    }
   ],
   "source": [
    "b.shape"
   ]
  },
  {
   "cell_type": "code",
   "execution_count": 121,
   "id": "dd4df4c3",
   "metadata": {},
   "outputs": [
    {
     "data": {
      "text/plain": [
       "(3, 2, 5)"
      ]
     },
     "execution_count": 121,
     "metadata": {},
     "output_type": "execute_result"
    }
   ],
   "source": [
    "b.T.shape"
   ]
  },
  {
   "cell_type": "code",
   "execution_count": 122,
   "id": "a9f734ef",
   "metadata": {},
   "outputs": [],
   "source": [
    "c=b.reshape(2,3,5)"
   ]
  },
  {
   "cell_type": "markdown",
   "id": "7824249d",
   "metadata": {},
   "source": [
    "#10. Try to add a and c. Now it should work. Assign the sum to varialbe \"d\". But why does it work now?"
   ]
  },
  {
   "cell_type": "code",
   "execution_count": 123,
   "id": "eaa0e4bf",
   "metadata": {},
   "outputs": [],
   "source": [
    "d=np.add(a,c)"
   ]
  },
  {
   "cell_type": "code",
   "execution_count": 124,
   "id": "6d455a68",
   "metadata": {},
   "outputs": [
    {
     "name": "stdout",
     "output_type": "stream",
     "text": [
      "[[[1.67621602 1.1498882  1.6491515  1.7250734  1.07470661]\n",
      "  [1.14093865 1.47462258 1.97697514 1.90887452 1.53879369]\n",
      "  [1.15175905 1.51975988 1.32821158 1.40628    1.06018764]]\n",
      "\n",
      " [[1.6056018  1.73069139 1.8259734  1.15239583 1.71931049]\n",
      "  [1.50640354 1.37729897 1.88129367 1.99629702 1.54115321]\n",
      "  [1.4783495  1.82274946 1.56831731 1.20471932 1.81734001]]]\n"
     ]
    }
   ],
   "source": [
    "print(d)"
   ]
  },
  {
   "cell_type": "code",
   "execution_count": 125,
   "id": "89a91cab",
   "metadata": {},
   "outputs": [
    {
     "name": "stdout",
     "output_type": "stream",
     "text": [
      "[[[0.67621602 0.1498882  0.6491515  0.7250734  0.07470661]\n",
      "  [0.14093865 0.47462258 0.97697514 0.90887452 0.53879369]\n",
      "  [0.15175905 0.51975988 0.32821158 0.40628    0.06018764]]\n",
      "\n",
      " [[0.6056018  0.73069139 0.8259734  0.15239583 0.71931049]\n",
      "  [0.50640354 0.37729897 0.88129367 0.99629702 0.54115321]\n",
      "  [0.4783495  0.82274946 0.56831731 0.20471932 0.81734001]]]\n"
     ]
    }
   ],
   "source": [
    "print(a)"
   ]
  },
  {
   "cell_type": "markdown",
   "id": "294c5397",
   "metadata": {},
   "source": [
    "#11. Print a and d. Notice the difference and relation of the two array in terms of the values? Explain."
   ]
  },
  {
   "cell_type": "code",
   "execution_count": 126,
   "id": "f15af4b8",
   "metadata": {},
   "outputs": [
    {
     "data": {
      "text/plain": [
       "array([[[ True,  True,  True,  True,  True],\n",
       "        [ True,  True,  True,  True,  True],\n",
       "        [ True,  True,  True,  True,  True]],\n",
       "\n",
       "       [[ True,  True,  True,  True,  True],\n",
       "        [ True,  True,  True,  True,  True],\n",
       "        [ True,  True,  True,  True,  True]]])"
      ]
     },
     "execution_count": 126,
     "metadata": {},
     "output_type": "execute_result"
    }
   ],
   "source": [
    "a+1==d"
   ]
  },
  {
   "cell_type": "markdown",
   "id": "1c528bad",
   "metadata": {},
   "source": [
    "#12. Multiply a and c. Assign the result to e."
   ]
  },
  {
   "cell_type": "code",
   "execution_count": 127,
   "id": "93c2fd18",
   "metadata": {},
   "outputs": [
    {
     "name": "stdout",
     "output_type": "stream",
     "text": [
      "[[[0.67621602 0.1498882  0.6491515  0.7250734  0.07470661]\n",
      "  [0.14093865 0.47462258 0.97697514 0.90887452 0.53879369]\n",
      "  [0.15175905 0.51975988 0.32821158 0.40628    0.06018764]]\n",
      "\n",
      " [[0.6056018  0.73069139 0.8259734  0.15239583 0.71931049]\n",
      "  [0.50640354 0.37729897 0.88129367 0.99629702 0.54115321]\n",
      "  [0.4783495  0.82274946 0.56831731 0.20471932 0.81734001]]]\n"
     ]
    }
   ],
   "source": [
    "e=np.multiply(a,c)\n",
    "print(e)"
   ]
  },
  {
   "cell_type": "markdown",
   "id": "b71648ba",
   "metadata": {},
   "source": [
    "#13. Does e equal to a? Why or why not?"
   ]
  },
  {
   "cell_type": "code",
   "execution_count": 128,
   "id": "49af2046",
   "metadata": {},
   "outputs": [
    {
     "data": {
      "text/plain": [
       "array([[[ True,  True,  True,  True,  True],\n",
       "        [ True,  True,  True,  True,  True],\n",
       "        [ True,  True,  True,  True,  True]],\n",
       "\n",
       "       [[ True,  True,  True,  True,  True],\n",
       "        [ True,  True,  True,  True,  True],\n",
       "        [ True,  True,  True,  True,  True]]])"
      ]
     },
     "execution_count": 128,
     "metadata": {},
     "output_type": "execute_result"
    }
   ],
   "source": [
    "e==a"
   ]
  },
  {
   "cell_type": "markdown",
   "id": "d2c0c7f8",
   "metadata": {},
   "source": [
    "La explicación es que cualquier matriz multiplicada por la matriz identidad da la misma matriz."
   ]
  },
  {
   "cell_type": "markdown",
   "id": "2d175ebb",
   "metadata": {},
   "source": [
    "#14. Identify the max, min, and mean values in d. Assign those values to variables \"d_max\", \"d_min\", and \"d_mean\""
   ]
  },
  {
   "cell_type": "code",
   "execution_count": 129,
   "id": "fe48726f",
   "metadata": {},
   "outputs": [
    {
     "data": {
      "text/plain": [
       "1.9962970221234564"
      ]
     },
     "execution_count": 129,
     "metadata": {},
     "output_type": "execute_result"
    }
   ],
   "source": [
    "d_max=np.max(d)\n",
    "d_max"
   ]
  },
  {
   "cell_type": "code",
   "execution_count": 130,
   "id": "6206bb80",
   "metadata": {},
   "outputs": [
    {
     "data": {
      "text/plain": [
       "1.060187636665178"
      ]
     },
     "execution_count": 130,
     "metadata": {},
     "output_type": "execute_result"
    }
   ],
   "source": [
    "d_min=np.min(d)\n",
    "d_min"
   ]
  },
  {
   "cell_type": "code",
   "execution_count": 131,
   "id": "b4b8cf8b",
   "metadata": {},
   "outputs": [
    {
     "data": {
      "text/plain": [
       "1.533644446424122"
      ]
     },
     "execution_count": 131,
     "metadata": {},
     "output_type": "execute_result"
    }
   ],
   "source": [
    "d_mean=np.mean(d)\n",
    "d_mean"
   ]
  },
  {
   "cell_type": "markdown",
   "id": "b644f9ad",
   "metadata": {},
   "source": [
    "\n",
    "#15. Now we want to label the values in d. First create an empty array \"f\" with the same shape (i.e. 2x3x5) as d using `np.empty`."
   ]
  },
  {
   "cell_type": "code",
   "execution_count": 132,
   "id": "be71ff40",
   "metadata": {},
   "outputs": [
    {
     "data": {
      "text/plain": [
       "array([[[0.67621602, 0.1498882 , 0.6491515 , 0.7250734 , 0.07470661],\n",
       "        [0.14093865, 0.47462258, 0.97697514, 0.90887452, 0.53879369],\n",
       "        [0.15175905, 0.51975988, 0.32821158, 0.40628   , 0.06018764]],\n",
       "\n",
       "       [[0.6056018 , 0.73069139, 0.8259734 , 0.15239583, 0.71931049],\n",
       "        [0.50640354, 0.37729897, 0.88129367, 0.99629702, 0.54115321],\n",
       "        [0.4783495 , 0.82274946, 0.56831731, 0.20471932, 0.81734001]]])"
      ]
     },
     "execution_count": 132,
     "metadata": {},
     "output_type": "execute_result"
    }
   ],
   "source": [
    "f=np.empty((2,3,5))\n",
    "f"
   ]
  },
  {
   "cell_type": "markdown",
   "id": "64802657",
   "metadata": {},
   "source": [
    "\"\"\"\n",
    "#16. Populate the values in f. For each value in d, if it's larger than d_min but smaller than d_mean, assign 25 to the corresponding value in f.\n",
    "If a value in d is larger than d_mean but smaller than d_max, assign 75 to the corresponding value in f.\n",
    "If a value equals to d_mean, assign 50 to the corresponding value in f.\n",
    "Assign 0 to the corresponding value(s) in f for d_min in d.\n",
    "Assign 100 to the corresponding value(s) in f for d_max in d.\n",
    "In the end, f should have only the following values: 0, 25, 50, 75, and 100.\n",
    "Note: you don't have to use Numpy in this question.\n",
    "\"\"\"\n"
   ]
  },
  {
   "cell_type": "code",
   "execution_count": 133,
   "id": "c7f92913",
   "metadata": {},
   "outputs": [
    {
     "name": "stdout",
     "output_type": "stream",
     "text": [
      "[[[0.67621602 0.1498882  0.6491515  0.7250734  0.07470661]\n",
      "  [0.14093865 0.47462258 0.97697514 0.90887452 0.53879369]\n",
      "  [0.15175905 0.51975988 0.32821158 0.40628    0.06018764]]\n",
      "\n",
      " [[0.6056018  0.73069139 0.8259734  0.15239583 0.71931049]\n",
      "  [0.50640354 0.37729897 0.88129367 0.99629702 0.54115321]\n",
      "  [0.4783495  0.82274946 0.56831731 0.20471932 0.81734001]]]\n"
     ]
    }
   ],
   "source": [
    "print (f)"
   ]
  },
  {
   "cell_type": "code",
   "execution_count": 158,
   "id": "252d4fa4",
   "metadata": {},
   "outputs": [
    {
     "name": "stdout",
     "output_type": "stream",
     "text": [
      "[[[ 75.  25.  75.  75.  25.]\n",
      "  [ 25.  25.  75.  75.  75.]\n",
      "  [ 25.  25.  25.  25.   0.]]\n",
      "\n",
      " [[ 75.  75.  75.  25.  75.]\n",
      "  [ 25.  25.  75. 100.  75.]\n",
      "  [ 25.  75.  75.  25.  75.]]]\n"
     ]
    }
   ],
   "source": [
    "d_max=np.max(d)\n",
    "\n",
    "\n",
    "d_min=np.min(d)\n",
    "\n",
    "\n",
    "d_mean=np.mean(d)\n",
    "\n",
    "\n",
    "for matriz in range (2):\n",
    "    for vector in range (3):\n",
    "        for elemento in range(5):\n",
    "            if d[matriz][vector][elemento] > d_min and d[matriz][vector][elemento] < d_mean:\n",
    "                f[matriz][vector][elemento]=25\n",
    "            elif d[matriz][vector][elemento]>d_mean and d[matriz][vector][elemento] <d_max:\n",
    "                f[matriz][vector][elemento]=75\n",
    "            elif d[matriz][vector][elemento]==d_mean:\n",
    "                f[matriz][vector][elemento]=50\n",
    "            elif d[matriz][vector][elemento]==d_min:\n",
    "                f[matriz][vector][elemento]=0\n",
    "            elif d[matriz][vector][elemento]==d_max:\n",
    "                f[matriz][vector][elemento]=100\n",
    "                \n",
    "print(f)\n",
    "                "
   ]
  },
  {
   "cell_type": "markdown",
   "id": "68dae23a",
   "metadata": {},
   "source": [
    "\"\"\"\n",
    "#17. Print d and f. Do you have your expected f?\n",
    "For instance, if your d is:\n",
    "array([[[1.85836099, 1.67064465, 1.62576044, 1.40243961, 1.88454931],\n",
    "        [1.75354326, 1.69403643, 1.36729252, 1.61415071, 1.12104981],\n",
    "        [1.72201435, 1.1862918 , 1.87078449, 1.7726778 , 1.88180042]],\n",
    "\n",
    "       [[1.44747908, 1.31673383, 1.02000951, 1.52218947, 1.97066381],\n",
    "        [1.79129243, 1.74983003, 1.96028037, 1.85166831, 1.65450881],\n",
    "        [1.18068344, 1.9587381 , 1.00656599, 1.93402165, 1.73514584]]])\n",
    "\n",
    "Your f should be:\n",
    "array([[[ 75.,  75.,  75.,  25.,  75.],\n",
    "        [ 75.,  75.,  25.,  25.,  25.],\n",
    "        [ 75.,  25.,  75.,  75.,  75.]],\n",
    "\n",
    "       [[ 25.,  25.,  25.,  25., 100.],\n",
    "        [ 75.,  75.,  75.,  75.,  75.],\n",
    "        [ 25.,  75.,   0.,  75.,  75.]]])\n",
    "\"\"\"\n"
   ]
  },
  {
   "cell_type": "code",
   "execution_count": 159,
   "id": "0617fd9c",
   "metadata": {},
   "outputs": [
    {
     "name": "stdout",
     "output_type": "stream",
     "text": [
      "d_min: 1.060187636665178 d_max: 1.9962970221234564 d_mean: 1.533644446424122\n"
     ]
    }
   ],
   "source": [
    "print('d_min:',d_min,'d_max:',d_max,'d_mean:',d_mean)"
   ]
  },
  {
   "cell_type": "code",
   "execution_count": 160,
   "id": "ebc38102",
   "metadata": {},
   "outputs": [
    {
     "name": "stdout",
     "output_type": "stream",
     "text": [
      "[[[1.67621602 1.1498882  1.6491515  1.7250734  1.07470661]\n",
      "  [1.14093865 1.47462258 1.97697514 1.90887452 1.53879369]\n",
      "  [1.15175905 1.51975988 1.32821158 1.40628    1.06018764]]\n",
      "\n",
      " [[1.6056018  1.73069139 1.8259734  1.15239583 1.71931049]\n",
      "  [1.50640354 1.37729897 1.88129367 1.99629702 1.54115321]\n",
      "  [1.4783495  1.82274946 1.56831731 1.20471932 1.81734001]]]\n"
     ]
    }
   ],
   "source": [
    "print(d)"
   ]
  },
  {
   "cell_type": "code",
   "execution_count": 161,
   "id": "6c7ed611",
   "metadata": {
    "scrolled": true
   },
   "outputs": [
    {
     "name": "stdout",
     "output_type": "stream",
     "text": [
      "[[[ 75.  25.  75.  75.  25.]\n",
      "  [ 25.  25.  75.  75.  75.]\n",
      "  [ 25.  25.  25.  25.   0.]]\n",
      "\n",
      " [[ 75.  75.  75.  25.  75.]\n",
      "  [ 25.  25.  75. 100.  75.]\n",
      "  [ 25.  75.  75.  25.  75.]]]\n"
     ]
    }
   ],
   "source": [
    "print(f)"
   ]
  },
  {
   "cell_type": "code",
   "execution_count": 163,
   "id": "828c4615",
   "metadata": {},
   "outputs": [
    {
     "data": {
      "text/plain": [
       "(2, 3, 5)"
      ]
     },
     "execution_count": 163,
     "metadata": {},
     "output_type": "execute_result"
    }
   ],
   "source": [
    "f.shape"
   ]
  },
  {
   "cell_type": "markdown",
   "id": "4b2face6",
   "metadata": {},
   "source": [
    "Comprobado"
   ]
  },
  {
   "cell_type": "markdown",
   "id": "786ca958",
   "metadata": {},
   "source": [
    "\"\"\"\n",
    "#18. Bonus question: instead of using numbers (i.e. 0, 25, 50, 75, and 100), how to use string values \n",
    "(\"A\", \"B\", \"C\", \"D\", and \"E\") to label the array elements? You are expecting the result to be:\n",
    "array([[[ 'D',  'D',  'D',  'B',  'D'],\n",
    "        [ 'D',  'D',  'B',  'B',  'B'],\n",
    "        [ 'D',  'B',  'D',  'D',  'D']],\n",
    "\n",
    "       [[ 'B',  'B',  'B',  'B',  'E'],\n",
    "        [ 'D',  'D',  'D',  'D',  'D'],\n",
    "        [ 'B',  'D',   'A',  'D', 'D']]])\n",
    "Again, you don't need Numpy in this question.\n",
    "\"\"\""
   ]
  },
  {
   "cell_type": "code",
   "execution_count": 165,
   "id": "98dd2ede",
   "metadata": {},
   "outputs": [
    {
     "ename": "ValueError",
     "evalue": "could not convert string to float: 'D'",
     "output_type": "error",
     "traceback": [
      "\u001b[0;31m---------------------------------------------------------------------------\u001b[0m",
      "\u001b[0;31mValueError\u001b[0m                                Traceback (most recent call last)",
      "Input \u001b[0;32mIn [165]\u001b[0m, in \u001b[0;36m<cell line: 2>\u001b[0;34m()\u001b[0m\n\u001b[1;32m      6\u001b[0m     g[matriz][vector][elemento]\u001b[38;5;241m=\u001b[39m\u001b[38;5;124m'\u001b[39m\u001b[38;5;124mB\u001b[39m\u001b[38;5;124m'\u001b[39m\n\u001b[1;32m      7\u001b[0m \u001b[38;5;28;01melif\u001b[39;00m f[matriz][vector][elemento] \u001b[38;5;241m==\u001b[39m \u001b[38;5;241m75\u001b[39m:\n\u001b[0;32m----> 8\u001b[0m     g[matriz][vector][elemento]\u001b[38;5;241m=\u001b[39m\u001b[38;5;124m'\u001b[39m\u001b[38;5;124mD\u001b[39m\u001b[38;5;124m'\u001b[39m\n\u001b[1;32m      9\u001b[0m \u001b[38;5;28;01melif\u001b[39;00m f[matriz][vector][elemento]\u001b[38;5;241m==\u001b[39m \u001b[38;5;241m50\u001b[39m:\n\u001b[1;32m     10\u001b[0m     g[matriz][vector][elemento]\u001b[38;5;241m=\u001b[39m\u001b[38;5;124m'\u001b[39m\u001b[38;5;124mC\u001b[39m\u001b[38;5;124m'\u001b[39m\n",
      "\u001b[0;31mValueError\u001b[0m: could not convert string to float: 'D'"
     ]
    }
   ],
   "source": [
    "g=np.empty((3,2,5))\n",
    "for matriz in range (2):\n",
    "    for vector in range (3):\n",
    "        for elemento in range(5):\n",
    "            if f[matriz][vector][elemento] == 25:\n",
    "                g[matriz][vector][elemento]='B'\n",
    "            elif f[matriz][vector][elemento] == 75:\n",
    "                g[matriz][vector][elemento]='D'\n",
    "            elif f[matriz][vector][elemento]== 50:\n",
    "                g[matriz][vector][elemento]='C'\n",
    "            elif f[matriz][vector][elemento]== 0:\n",
    "                g[matriz][vector][elemento]='A'\n",
    "            elif f[matriz][vector][elemento]== 100:\n",
    "                g[matriz][vector][elemento]='E'\n",
    "                \n",
    "print(g)"
   ]
  },
  {
   "cell_type": "code",
   "execution_count": null,
   "id": "28c2dcc1",
   "metadata": {},
   "outputs": [],
   "source": []
  },
  {
   "cell_type": "code",
   "execution_count": null,
   "id": "c7861aa9",
   "metadata": {},
   "outputs": [],
   "source": []
  }
 ],
 "metadata": {
  "kernelspec": {
   "display_name": "Python 3 (ipykernel)",
   "language": "python",
   "name": "python3"
  },
  "language_info": {
   "codemirror_mode": {
    "name": "ipython",
    "version": 3
   },
   "file_extension": ".py",
   "mimetype": "text/x-python",
   "name": "python",
   "nbconvert_exporter": "python",
   "pygments_lexer": "ipython3",
   "version": "3.9.12"
  }
 },
 "nbformat": 4,
 "nbformat_minor": 5
}
