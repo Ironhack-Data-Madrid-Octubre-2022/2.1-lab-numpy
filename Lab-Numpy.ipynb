{
 "cells": [
  {
   "cell_type": "markdown",
   "id": "067a1534",
   "metadata": {},
   "source": [
    "## 1. Import the NUMPY package under the name np."
   ]
  },
  {
   "cell_type": "code",
   "execution_count": 1,
   "id": "3201601b",
   "metadata": {},
   "outputs": [],
   "source": [
    "\n",
    "import numpy as np"
   ]
  },
  {
   "cell_type": "markdown",
   "id": "4e13f47a",
   "metadata": {},
   "source": [
    "## 2. Print the NUMPY version and the configuration."
   ]
  },
  {
   "cell_type": "code",
   "execution_count": 2,
   "id": "77f95800",
   "metadata": {},
   "outputs": [
    {
     "name": "stdout",
     "output_type": "stream",
     "text": [
      "1.21.6\n",
      "blas_mkl_info:\n",
      "  NOT AVAILABLE\n",
      "blis_info:\n",
      "  NOT AVAILABLE\n",
      "openblas_info:\n",
      "    libraries = ['openblas', 'openblas']\n",
      "    library_dirs = ['/usr/local/lib']\n",
      "    language = c\n",
      "    define_macros = [('HAVE_CBLAS', None)]\n",
      "    runtime_library_dirs = ['/usr/local/lib']\n",
      "blas_opt_info:\n",
      "    libraries = ['openblas', 'openblas']\n",
      "    library_dirs = ['/usr/local/lib']\n",
      "    language = c\n",
      "    define_macros = [('HAVE_CBLAS', None)]\n",
      "    runtime_library_dirs = ['/usr/local/lib']\n",
      "lapack_mkl_info:\n",
      "  NOT AVAILABLE\n",
      "openblas_lapack_info:\n",
      "    libraries = ['openblas', 'openblas']\n",
      "    library_dirs = ['/usr/local/lib']\n",
      "    language = c\n",
      "    define_macros = [('HAVE_CBLAS', None)]\n",
      "    runtime_library_dirs = ['/usr/local/lib']\n",
      "lapack_opt_info:\n",
      "    libraries = ['openblas', 'openblas']\n",
      "    library_dirs = ['/usr/local/lib']\n",
      "    language = c\n",
      "    define_macros = [('HAVE_CBLAS', None)]\n",
      "    runtime_library_dirs = ['/usr/local/lib']\n",
      "Supported SIMD extensions in this NumPy install:\n",
      "    baseline = SSE,SSE2,SSE3\n",
      "    found = SSSE3,SSE41,POPCNT,SSE42,AVX,F16C,FMA3,AVX2\n",
      "    not found = AVX512F,AVX512CD,AVX512_KNL,AVX512_SKX,AVX512_CLX,AVX512_CNL,AVX512_ICL\n",
      "None\n"
     ]
    }
   ],
   "source": [
    "print(np.__version__)\n",
    "print(np.show_config())"
   ]
  },
  {
   "cell_type": "markdown",
   "id": "86b9493d",
   "metadata": {},
   "source": [
    "## 3. Generate a 2x3x5 3-dimensional array with random values. Assign the array to variable \"a\"\n",
    "Challenge: there are at least three easy ways that use numpy to generate random arrays. How many ways can you find?"
   ]
  },
  {
   "cell_type": "code",
   "execution_count": 9,
   "id": "0eb7d868",
   "metadata": {},
   "outputs": [],
   "source": [
    "a=np.random.random((2, 3, 5))\n",
    "\n",
    "a2=np.random.rand(2, 3, 5)\n",
    "\n",
    "a3=np.random.randint(1,size=(2, 3, 5))"
   ]
  },
  {
   "cell_type": "markdown",
   "id": "588caeac",
   "metadata": {},
   "source": [
    "## 4. Print a."
   ]
  },
  {
   "cell_type": "code",
   "execution_count": 11,
   "id": "a2790602",
   "metadata": {},
   "outputs": [
    {
     "data": {
      "text/plain": [
       "array([[[0.48624538, 0.03940292, 0.21577047, 0.97375839, 0.60521012],\n",
       "        [0.62321788, 0.86913254, 0.51125656, 0.42774325, 0.84186588],\n",
       "        [0.82083582, 0.64326759, 0.53062658, 0.61940298, 0.46976695]],\n",
       "\n",
       "       [[0.97852872, 0.39090861, 0.75554055, 0.06601846, 0.10856371],\n",
       "        [0.52425879, 0.72024901, 0.39246395, 0.28832771, 0.05925264],\n",
       "        [0.6726172 , 0.43717394, 0.60205026, 0.531443  , 0.05918172]]])"
      ]
     },
     "execution_count": 11,
     "metadata": {},
     "output_type": "execute_result"
    }
   ],
   "source": [
    "a"
   ]
  },
  {
   "cell_type": "markdown",
   "id": "559bd1b2",
   "metadata": {},
   "source": [
    "\n",
    "## 5. Create a 5x2x3 3-dimensional array with all values equaling 1.\n",
    "Assign the array to variable \"b\""
   ]
  },
  {
   "cell_type": "code",
   "execution_count": 21,
   "id": "37a009b7",
   "metadata": {},
   "outputs": [
    {
     "data": {
      "text/plain": [
       "array([[[1, 1, 1],\n",
       "        [1, 1, 1]],\n",
       "\n",
       "       [[1, 1, 1],\n",
       "        [1, 1, 1]],\n",
       "\n",
       "       [[1, 1, 1],\n",
       "        [1, 1, 1]],\n",
       "\n",
       "       [[1, 1, 1],\n",
       "        [1, 1, 1]],\n",
       "\n",
       "       [[1, 1, 1],\n",
       "        [1, 1, 1]]])"
      ]
     },
     "execution_count": 21,
     "metadata": {},
     "output_type": "execute_result"
    }
   ],
   "source": [
    "b=np.random.randint(1,2,size=(5, 2, 3))\n",
    "b"
   ]
  },
  {
   "cell_type": "code",
   "execution_count": 23,
   "id": "1935d28a",
   "metadata": {},
   "outputs": [
    {
     "data": {
      "text/plain": [
       "array([[[1, 1, 1],\n",
       "        [1, 1, 1]],\n",
       "\n",
       "       [[1, 1, 1],\n",
       "        [1, 1, 1]],\n",
       "\n",
       "       [[1, 1, 1],\n",
       "        [1, 1, 1]],\n",
       "\n",
       "       [[1, 1, 1],\n",
       "        [1, 1, 1]],\n",
       "\n",
       "       [[1, 1, 1],\n",
       "        [1, 1, 1]]])"
      ]
     },
     "execution_count": 23,
     "metadata": {},
     "output_type": "execute_result"
    }
   ],
   "source": [
    "b=np.full((5,2,3),1)\n",
    "b"
   ]
  },
  {
   "cell_type": "markdown",
   "id": "07402aa4",
   "metadata": {},
   "source": [
    "## 6.Print b."
   ]
  },
  {
   "cell_type": "code",
   "execution_count": 24,
   "id": "2778cefd",
   "metadata": {},
   "outputs": [
    {
     "data": {
      "text/plain": [
       "array([[[1, 1, 1],\n",
       "        [1, 1, 1]],\n",
       "\n",
       "       [[1, 1, 1],\n",
       "        [1, 1, 1]],\n",
       "\n",
       "       [[1, 1, 1],\n",
       "        [1, 1, 1]],\n",
       "\n",
       "       [[1, 1, 1],\n",
       "        [1, 1, 1]],\n",
       "\n",
       "       [[1, 1, 1],\n",
       "        [1, 1, 1]]])"
      ]
     },
     "execution_count": 24,
     "metadata": {},
     "output_type": "execute_result"
    }
   ],
   "source": [
    "b"
   ]
  },
  {
   "cell_type": "markdown",
   "id": "6a7549bd",
   "metadata": {},
   "source": [
    "## 7. Do a and b have the same size? How do you prove that in Python code?"
   ]
  },
  {
   "cell_type": "code",
   "execution_count": 31,
   "id": "61d967d1",
   "metadata": {},
   "outputs": [
    {
     "name": "stdout",
     "output_type": "stream",
     "text": [
      "(2, 3, 5)\n",
      "(5, 2, 3)\n"
     ]
    },
    {
     "data": {
      "text/plain": [
       "False"
      ]
     },
     "execution_count": 31,
     "metadata": {},
     "output_type": "execute_result"
    }
   ],
   "source": [
    "print( a.shape)\n",
    "print( b.shape)\n",
    "a.shape == b.shape\n"
   ]
  },
  {
   "cell_type": "markdown",
   "id": "8f3e284e",
   "metadata": {},
   "source": [
    "## 8. Are you able to add a and b? Why or why not?"
   ]
  },
  {
   "cell_type": "code",
   "execution_count": null,
   "id": "f8360c72",
   "metadata": {},
   "outputs": [],
   "source": [
    "#No, ya que las dimensiones son distintas"
   ]
  },
  {
   "cell_type": "markdown",
   "id": "fdf64c62",
   "metadata": {},
   "source": [
    "## 9. Transpose b so that it has the same structure of a (i.e. become a 2x3x5 array). Assign the transposed array to varialbe \"c\"."
   ]
  },
  {
   "cell_type": "code",
   "execution_count": 45,
   "id": "09c31594",
   "metadata": {},
   "outputs": [
    {
     "data": {
      "text/plain": [
       "array([[[1, 1, 1, 1, 1],\n",
       "        [1, 1, 1, 1, 1],\n",
       "        [1, 1, 1, 1, 1]],\n",
       "\n",
       "       [[1, 1, 1, 1, 1],\n",
       "        [1, 1, 1, 1, 1],\n",
       "        [1, 1, 1, 1, 1]]])"
      ]
     },
     "execution_count": 45,
     "metadata": {},
     "output_type": "execute_result"
    }
   ],
   "source": [
    "c=b.reshape(5,3,2).T\n",
    "\n",
    "c\n"
   ]
  },
  {
   "cell_type": "markdown",
   "id": "79e21e50",
   "metadata": {},
   "source": [
    "## 10. Try to add a and c. Now it should work. Assign the sum to varialbe \"d\". But why does it work now?"
   ]
  },
  {
   "cell_type": "code",
   "execution_count": 48,
   "id": "c36448bc",
   "metadata": {},
   "outputs": [
    {
     "data": {
      "text/plain": [
       "array([[[1.48624538, 1.03940292, 1.21577047, 1.97375839, 1.60521012],\n",
       "        [1.62321788, 1.86913254, 1.51125656, 1.42774325, 1.84186588],\n",
       "        [1.82083582, 1.64326759, 1.53062658, 1.61940298, 1.46976695]],\n",
       "\n",
       "       [[1.97852872, 1.39090861, 1.75554055, 1.06601846, 1.10856371],\n",
       "        [1.52425879, 1.72024901, 1.39246395, 1.28832771, 1.05925264],\n",
       "        [1.6726172 , 1.43717394, 1.60205026, 1.531443  , 1.05918172]]])"
      ]
     },
     "execution_count": 48,
     "metadata": {},
     "output_type": "execute_result"
    }
   ],
   "source": [
    "d=np.array(a) + np.array(c)\n",
    "d\n",
    "#Porque ahora ambas matrices tienen la misma dimensión"
   ]
  },
  {
   "cell_type": "markdown",
   "id": "0ea29189",
   "metadata": {},
   "source": [
    "## 11. Print a and d. Notice the difference and relation of the two array in terms of the values? Explain."
   ]
  },
  {
   "cell_type": "code",
   "execution_count": 54,
   "id": "2a94a2ea",
   "metadata": {},
   "outputs": [
    {
     "name": "stdout",
     "output_type": "stream",
     "text": [
      "[[[0.48624538 0.03940292 0.21577047 0.97375839 0.60521012]\n",
      "  [0.62321788 0.86913254 0.51125656 0.42774325 0.84186588]\n",
      "  [0.82083582 0.64326759 0.53062658 0.61940298 0.46976695]]\n",
      "\n",
      " [[0.97852872 0.39090861 0.75554055 0.06601846 0.10856371]\n",
      "  [0.52425879 0.72024901 0.39246395 0.28832771 0.05925264]\n",
      "  [0.6726172  0.43717394 0.60205026 0.531443   0.05918172]]]\n",
      "[[[1.48624538 1.03940292 1.21577047 1.97375839 1.60521012]\n",
      "  [1.62321788 1.86913254 1.51125656 1.42774325 1.84186588]\n",
      "  [1.82083582 1.64326759 1.53062658 1.61940298 1.46976695]]\n",
      "\n",
      " [[1.97852872 1.39090861 1.75554055 1.06601846 1.10856371]\n",
      "  [1.52425879 1.72024901 1.39246395 1.28832771 1.05925264]\n",
      "  [1.6726172  1.43717394 1.60205026 1.531443   1.05918172]]]\n"
     ]
    }
   ],
   "source": [
    "print(a)\n",
    "\n",
    "print(d)"
   ]
  },
  {
   "cell_type": "markdown",
   "id": "0bb53518",
   "metadata": {},
   "source": [
    "## 12. Multiply a and c. Assign the result to e."
   ]
  },
  {
   "cell_type": "code",
   "execution_count": 55,
   "id": "58e561ce",
   "metadata": {},
   "outputs": [
    {
     "data": {
      "text/plain": [
       "array([[[0.48624538, 0.03940292, 0.21577047, 0.97375839, 0.60521012],\n",
       "        [0.62321788, 0.86913254, 0.51125656, 0.42774325, 0.84186588],\n",
       "        [0.82083582, 0.64326759, 0.53062658, 0.61940298, 0.46976695]],\n",
       "\n",
       "       [[0.97852872, 0.39090861, 0.75554055, 0.06601846, 0.10856371],\n",
       "        [0.52425879, 0.72024901, 0.39246395, 0.28832771, 0.05925264],\n",
       "        [0.6726172 , 0.43717394, 0.60205026, 0.531443  , 0.05918172]]])"
      ]
     },
     "execution_count": 55,
     "metadata": {},
     "output_type": "execute_result"
    }
   ],
   "source": [
    "e=np.array(a) * np.array(c)\n",
    "e"
   ]
  },
  {
   "cell_type": "markdown",
   "id": "ab98b553",
   "metadata": {},
   "source": [
    "## 13. Does e equal to a? Why or why not?"
   ]
  },
  {
   "cell_type": "code",
   "execution_count": 56,
   "id": "bd06c4ce",
   "metadata": {},
   "outputs": [
    {
     "data": {
      "text/plain": [
       "True"
      ]
     },
     "execution_count": 56,
     "metadata": {},
     "output_type": "execute_result"
    }
   ],
   "source": [
    "np.array_equal(e,a)\n",
    "#Porque e= a*c, siendo todos los valores de c 1"
   ]
  },
  {
   "cell_type": "markdown",
   "id": "987a1d30",
   "metadata": {},
   "source": [
    "## 14. Identify the max, min, and mean values in d. Assign those values to variables \"d_max\", \"d_min\", and \"d_mean\""
   ]
  },
  {
   "cell_type": "code",
   "execution_count": 78,
   "id": "cec7beaf",
   "metadata": {},
   "outputs": [
    {
     "data": {
      "text/plain": [
       "1.508802719650714"
      ]
     },
     "execution_count": 78,
     "metadata": {},
     "output_type": "execute_result"
    }
   ],
   "source": [
    "d_mean=d.mean() \n",
    "d_mean"
   ]
  },
  {
   "cell_type": "code",
   "execution_count": 79,
   "id": "35814e95",
   "metadata": {},
   "outputs": [
    {
     "data": {
      "text/plain": [
       "1.9785287229375959"
      ]
     },
     "execution_count": 79,
     "metadata": {},
     "output_type": "execute_result"
    }
   ],
   "source": [
    "d_max=d.max()\n",
    "d_max"
   ]
  },
  {
   "cell_type": "code",
   "execution_count": 80,
   "id": "e83fdab1",
   "metadata": {},
   "outputs": [
    {
     "data": {
      "text/plain": [
       "1.0394029173591828"
      ]
     },
     "execution_count": 80,
     "metadata": {},
     "output_type": "execute_result"
    }
   ],
   "source": [
    "d_min=d.min()\n",
    "d_min"
   ]
  },
  {
   "cell_type": "markdown",
   "id": "cfef2cc2",
   "metadata": {},
   "source": [
    "## 15. Now we want to label the values in d. First create an empty array \"f\" with the same shape (i.e. 2x3x5) as d using `np.empty`."
   ]
  },
  {
   "cell_type": "code",
   "execution_count": 81,
   "id": "08551902",
   "metadata": {},
   "outputs": [
    {
     "data": {
      "text/plain": [
       "array([[[0.48624538, 0.03940292, 0.21577047, 0.97375839, 0.60521012],\n",
       "        [0.62321788, 0.86913254, 0.51125656, 0.42774325, 0.84186588],\n",
       "        [0.82083582, 0.64326759, 0.53062658, 0.61940298, 0.46976695]],\n",
       "\n",
       "       [[0.97852872, 0.39090861, 0.75554055, 0.06601846, 0.10856371],\n",
       "        [0.52425879, 0.72024901, 0.39246395, 0.28832771, 0.05925264],\n",
       "        [0.6726172 , 0.43717394, 0.60205026, 0.531443  , 0.05918172]]])"
      ]
     },
     "execution_count": 81,
     "metadata": {},
     "output_type": "execute_result"
    }
   ],
   "source": [
    "f=np.empty([2,3,5])\n",
    "f"
   ]
  },
  {
   "cell_type": "markdown",
   "id": "9e42c832",
   "metadata": {},
   "source": [
    "## 16. Populate the values in f. \n",
    "#### For each value in d, if it's larger than d_min but smaller than d_mean, assign 25 to the corresponding value in f.\n",
    "#### If a value in d is larger than d_mean but smaller than d_max, assign 75 to the corresponding value in f.\n",
    "#### If a value equals to d_mean, assign 50 to the corresponding value in f.\n",
    "#### Assign 0 to the corresponding value(s) in f for d_min in d.\n",
    "#### Assign 100 to the corresponding value(s) in f for d_max in d.\n",
    "#### In the end, f should have only the following values: 0, 25, 50, 75, and 100.\n",
    "#### Note: you don't have to use Numpy in this question."
   ]
  },
  {
   "cell_type": "code",
   "execution_count": 102,
   "id": "483c7330",
   "metadata": {},
   "outputs": [],
   "source": [
    "f=np.where((d>d_min) & (d<d_mean),25,np.where((d>d_mean) & (d<d_max),75,np.where((d==d_mean),50,np.where((d==d_max),100,0))))"
   ]
  },
  {
   "cell_type": "code",
   "execution_count": 103,
   "id": "c9a2be4b",
   "metadata": {},
   "outputs": [
    {
     "data": {
      "text/plain": [
       "array([[[ 25,   0,  25,  75,  75],\n",
       "        [ 75,  75,  75,  25,  75],\n",
       "        [ 75,  75,  75,  75,  25]],\n",
       "\n",
       "       [[100,  25,  75,  25,  25],\n",
       "        [ 75,  75,  25,  25,  25],\n",
       "        [ 75,  25,  75,  75,  25]]])"
      ]
     },
     "execution_count": 103,
     "metadata": {},
     "output_type": "execute_result"
    }
   ],
   "source": [
    "f"
   ]
  },
  {
   "cell_type": "code",
   "execution_count": 108,
   "id": "7adfedf8",
   "metadata": {},
   "outputs": [
    {
     "data": {
      "text/plain": [
       "25"
      ]
     },
     "execution_count": 108,
     "metadata": {},
     "output_type": "execute_result"
    }
   ],
   "source": [
    "for i in d:\n",
    "    for e in i:\n",
    "        for j in e:\n",
    "            if d[d(j>d_min) and (j<d_mean)]=25\n",
    "                f=25\n",
    "            elif (j>d_mean) & (j<d_max):\n",
    "                f=75\n",
    "            elif j==d_mean:\n",
    "                f=50\n",
    "            elif j==d_max: \n",
    "                f=100\n",
    "            else:\n",
    "                0\n",
    "f\n",
    "            "
   ]
  },
  {
   "cell_type": "code",
   "execution_count": 112,
   "id": "22fea90a",
   "metadata": {},
   "outputs": [
    {
     "ename": "SyntaxError",
     "evalue": "invalid syntax (250418073.py, line 4)",
     "output_type": "error",
     "traceback": [
      "\u001b[0;36m  File \u001b[0;32m\"/var/folders/2z/3qxl1g8j49s520l3b9w9y4hr0000gn/T/ipykernel_56560/250418073.py\"\u001b[0;36m, line \u001b[0;32m4\u001b[0m\n\u001b[0;31m    if d[d(j>d_min) and (j<d_mean)]=25\u001b[0m\n\u001b[0m                                   ^\u001b[0m\n\u001b[0;31mSyntaxError\u001b[0m\u001b[0;31m:\u001b[0m invalid syntax\n"
     ]
    }
   ],
   "source": [
    "for i in d:\n",
    "    for e in i:\n",
    "        for j in e:\n",
    "            if d[d(j>d_min) and (j<d_mean)]=25\n",
    "                \n",
    "f"
   ]
  },
  {
   "cell_type": "code",
   "execution_count": null,
   "id": "9bb9e533",
   "metadata": {},
   "outputs": [],
   "source": []
  }
 ],
 "metadata": {
  "kernelspec": {
   "display_name": "clase",
   "language": "python",
   "name": "clase"
  },
  "language_info": {
   "codemirror_mode": {
    "name": "ipython",
    "version": 3
   },
   "file_extension": ".py",
   "mimetype": "text/x-python",
   "name": "python",
   "nbconvert_exporter": "python",
   "pygments_lexer": "ipython3",
   "version": "3.7.13"
  }
 },
 "nbformat": 4,
 "nbformat_minor": 5
}
