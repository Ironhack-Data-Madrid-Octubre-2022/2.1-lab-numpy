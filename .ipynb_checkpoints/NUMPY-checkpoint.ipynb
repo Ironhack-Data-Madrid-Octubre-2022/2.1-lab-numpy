{
 "cells": [
  {
   "cell_type": "code",
   "execution_count": 196,
   "id": "7804fe5c",
   "metadata": {},
   "outputs": [
    {
     "name": "stdout",
     "output_type": "stream",
     "text": [
      "Requirement already satisfied: numpy in /Users/jimy/opt/anaconda3/lib/python3.9/site-packages (1.21.5)\n",
      "Note: you may need to restart the kernel to use updated packages.\n"
     ]
    }
   ],
   "source": [
    "#1. Import the NUMPY package under the name np.\n",
    "%pip install numpy\n",
    "import numpy as np"
   ]
  },
  {
   "cell_type": "code",
   "execution_count": 197,
   "id": "41a64613",
   "metadata": {},
   "outputs": [
    {
     "data": {
      "text/plain": [
       "'1.21.5'"
      ]
     },
     "execution_count": 197,
     "metadata": {},
     "output_type": "execute_result"
    }
   ],
   "source": [
    "#2. Print the NUMPY version and the configuration.\n",
    "\n",
    "np.version.version"
   ]
  },
  {
   "cell_type": "code",
   "execution_count": 198,
   "id": "d63a0c70",
   "metadata": {},
   "outputs": [],
   "source": [
    "#3. Generate a 2x3x5 3-dimensional array with random values. Assign the array to variable \"a\"\n",
    "# Challenge: there are at least three easy ways that use numpy to generate random arrays. How many ways can you find?\n",
    "\n",
    "a = np.random.random(((2, 3, 5)))\n"
   ]
  },
  {
   "cell_type": "code",
   "execution_count": 199,
   "id": "23713a23",
   "metadata": {},
   "outputs": [
    {
     "data": {
      "text/plain": [
       "array([[[0.32005519, 0.87548583, 0.76735991, 0.96999366, 0.17897405],\n",
       "        [0.4423569 , 0.18066262, 0.18905955, 0.05351041, 0.79577409],\n",
       "        [0.35874438, 0.83281779, 0.43913669, 0.42663659, 0.71919425]],\n",
       "\n",
       "       [[0.02011518, 0.3896004 , 0.65378937, 0.56992004, 0.30131122],\n",
       "        [0.34824153, 0.78664874, 0.55835769, 0.32196445, 0.7784099 ],\n",
       "        [0.65144157, 0.27867405, 0.83591792, 0.77866132, 0.06449264]]])"
      ]
     },
     "execution_count": 199,
     "metadata": {},
     "output_type": "execute_result"
    }
   ],
   "source": [
    "#4. Print a.\n",
    "a"
   ]
  },
  {
   "cell_type": "code",
   "execution_count": 200,
   "id": "f86c6e92",
   "metadata": {},
   "outputs": [],
   "source": [
    "#5. Create a 5x2x3 3-dimensional array with all values equaling 1.\n",
    "#Assign the array to variable \"b\"\n",
    "b  = np.ones(((5, 2, 3)))\n"
   ]
  },
  {
   "cell_type": "code",
   "execution_count": 201,
   "id": "1b6a32a6",
   "metadata": {},
   "outputs": [
    {
     "data": {
      "text/plain": [
       "array([[[1., 1., 1.],\n",
       "        [1., 1., 1.]],\n",
       "\n",
       "       [[1., 1., 1.],\n",
       "        [1., 1., 1.]],\n",
       "\n",
       "       [[1., 1., 1.],\n",
       "        [1., 1., 1.]],\n",
       "\n",
       "       [[1., 1., 1.],\n",
       "        [1., 1., 1.]],\n",
       "\n",
       "       [[1., 1., 1.],\n",
       "        [1., 1., 1.]]])"
      ]
     },
     "execution_count": 201,
     "metadata": {},
     "output_type": "execute_result"
    }
   ],
   "source": [
    "#6. Print b.\n",
    "b"
   ]
  },
  {
   "cell_type": "code",
   "execution_count": 202,
   "id": "1d736376",
   "metadata": {},
   "outputs": [
    {
     "data": {
      "text/plain": [
       "True"
      ]
     },
     "execution_count": 202,
     "metadata": {},
     "output_type": "execute_result"
    }
   ],
   "source": [
    "#7. Do a and b have the same size? How do you prove that in Python code\n",
    "a.size == b.size"
   ]
  },
  {
   "cell_type": "code",
   "execution_count": 203,
   "id": "f5a5a344",
   "metadata": {},
   "outputs": [],
   "source": [
    "# Are you able to add a and b? Why or why not?\n",
    "\n",
    "\n",
    "#no porque no tienen el mismo numero de filas y clumnas"
   ]
  },
  {
   "cell_type": "code",
   "execution_count": 204,
   "id": "95e10807",
   "metadata": {},
   "outputs": [
    {
     "data": {
      "text/plain": [
       "array([[[1., 1., 1., 1., 1.],\n",
       "        [1., 1., 1., 1., 1.],\n",
       "        [1., 1., 1., 1., 1.]],\n",
       "\n",
       "       [[1., 1., 1., 1., 1.],\n",
       "        [1., 1., 1., 1., 1.],\n",
       "        [1., 1., 1., 1., 1.]]])"
      ]
     },
     "execution_count": 204,
     "metadata": {},
     "output_type": "execute_result"
    }
   ],
   "source": [
    "#9. Transpose b so that it has the same structure of a (i.e. become a 2x3x5 array). Assign the transposed array to varialbe \"c\".\n",
    "\n",
    "c = b.transpose(1,2,0)\n",
    "c"
   ]
  },
  {
   "cell_type": "code",
   "execution_count": 205,
   "id": "8686a473",
   "metadata": {},
   "outputs": [],
   "source": [
    "#10. Try to add a and c. Now it should work. Assign the sum to varialbe \"d\". But why does it work now?\n",
    "\n",
    "d = a + c"
   ]
  },
  {
   "cell_type": "code",
   "execution_count": 206,
   "id": "5245bb3f",
   "metadata": {},
   "outputs": [
    {
     "data": {
      "text/plain": [
       "array([[[1.32005519, 1.87548583, 1.76735991, 1.96999366, 1.17897405],\n",
       "        [1.4423569 , 1.18066262, 1.18905955, 1.05351041, 1.79577409],\n",
       "        [1.35874438, 1.83281779, 1.43913669, 1.42663659, 1.71919425]],\n",
       "\n",
       "       [[1.02011518, 1.3896004 , 1.65378937, 1.56992004, 1.30131122],\n",
       "        [1.34824153, 1.78664874, 1.55835769, 1.32196445, 1.7784099 ],\n",
       "        [1.65144157, 1.27867405, 1.83591792, 1.77866132, 1.06449264]]])"
      ]
     },
     "execution_count": 206,
     "metadata": {},
     "output_type": "execute_result"
    }
   ],
   "source": [
    "d"
   ]
  },
  {
   "cell_type": "code",
   "execution_count": 207,
   "id": "4ec9c25d",
   "metadata": {},
   "outputs": [
    {
     "name": "stdout",
     "output_type": "stream",
     "text": [
      "[[[0.32005519 0.87548583 0.76735991 0.96999366 0.17897405]\n",
      "  [0.4423569  0.18066262 0.18905955 0.05351041 0.79577409]\n",
      "  [0.35874438 0.83281779 0.43913669 0.42663659 0.71919425]]\n",
      "\n",
      " [[0.02011518 0.3896004  0.65378937 0.56992004 0.30131122]\n",
      "  [0.34824153 0.78664874 0.55835769 0.32196445 0.7784099 ]\n",
      "  [0.65144157 0.27867405 0.83591792 0.77866132 0.06449264]]]\n"
     ]
    }
   ],
   "source": [
    "#11. Print a and d. Notice the difference and relation of the two array in terms of the values? Explain.\n",
    "print(a)"
   ]
  },
  {
   "cell_type": "code",
   "execution_count": 208,
   "id": "1916ab11",
   "metadata": {},
   "outputs": [
    {
     "name": "stdout",
     "output_type": "stream",
     "text": [
      "[[[1.32005519 1.87548583 1.76735991 1.96999366 1.17897405]\n",
      "  [1.4423569  1.18066262 1.18905955 1.05351041 1.79577409]\n",
      "  [1.35874438 1.83281779 1.43913669 1.42663659 1.71919425]]\n",
      "\n",
      " [[1.02011518 1.3896004  1.65378937 1.56992004 1.30131122]\n",
      "  [1.34824153 1.78664874 1.55835769 1.32196445 1.7784099 ]\n",
      "  [1.65144157 1.27867405 1.83591792 1.77866132 1.06449264]]]\n"
     ]
    }
   ],
   "source": [
    "print(d)"
   ]
  },
  {
   "cell_type": "code",
   "execution_count": 209,
   "id": "872155f0",
   "metadata": {},
   "outputs": [],
   "source": [
    "#Relation is the shape of the elements and the difference is the value of the elements"
   ]
  },
  {
   "cell_type": "code",
   "execution_count": 210,
   "id": "79eb534a",
   "metadata": {},
   "outputs": [],
   "source": [
    "#12. Multiply a and c. Assign the result to e.\n",
    "\n",
    "e= a*c"
   ]
  },
  {
   "cell_type": "code",
   "execution_count": 211,
   "id": "bdff18d0",
   "metadata": {},
   "outputs": [
    {
     "data": {
      "text/plain": [
       "array([[[0.32005519, 0.87548583, 0.76735991, 0.96999366, 0.17897405],\n",
       "        [0.4423569 , 0.18066262, 0.18905955, 0.05351041, 0.79577409],\n",
       "        [0.35874438, 0.83281779, 0.43913669, 0.42663659, 0.71919425]],\n",
       "\n",
       "       [[0.02011518, 0.3896004 , 0.65378937, 0.56992004, 0.30131122],\n",
       "        [0.34824153, 0.78664874, 0.55835769, 0.32196445, 0.7784099 ],\n",
       "        [0.65144157, 0.27867405, 0.83591792, 0.77866132, 0.06449264]]])"
      ]
     },
     "execution_count": 211,
     "metadata": {},
     "output_type": "execute_result"
    }
   ],
   "source": [
    "e"
   ]
  },
  {
   "cell_type": "code",
   "execution_count": 212,
   "id": "8e19564d",
   "metadata": {},
   "outputs": [
    {
     "data": {
      "text/plain": [
       "array([[[ True,  True,  True,  True,  True],\n",
       "        [ True,  True,  True,  True,  True],\n",
       "        [ True,  True,  True,  True,  True]],\n",
       "\n",
       "       [[ True,  True,  True,  True,  True],\n",
       "        [ True,  True,  True,  True,  True],\n",
       "        [ True,  True,  True,  True,  True]]])"
      ]
     },
     "execution_count": 212,
     "metadata": {},
     "output_type": "execute_result"
    }
   ],
   "source": [
    "#13. Does e equal to a? Why or why not?\n",
    "e == a\n"
   ]
  },
  {
   "cell_type": "code",
   "execution_count": 213,
   "id": "d0e9762f",
   "metadata": {},
   "outputs": [
    {
     "name": "stdout",
     "output_type": "stream",
     "text": [
      "1.9699936577158632\n",
      "1.0201151817088214\n",
      "1.4962435973908363\n"
     ]
    }
   ],
   "source": [
    "#14. Identify the max, min, and mean values in d. Assign those values to variables \"d_max\", \"d_min\", and \"d_mean\"\n",
    "d_max = d.max()\n",
    "d_min = d.min()\n",
    "d_mean = d.mean()\n",
    "print(d.max())\n",
    "print(d.min())\n",
    "print (d.mean())"
   ]
  },
  {
   "cell_type": "code",
   "execution_count": 214,
   "id": "22f47ceb",
   "metadata": {},
   "outputs": [],
   "source": [
    "#15. Now we want to label the values in d. First create an empty array \"f\" with the same shape (i.e. 2x3x5) as d using `np.empty`."
   ]
  },
  {
   "cell_type": "code",
   "execution_count": 215,
   "id": "68361258",
   "metadata": {},
   "outputs": [],
   "source": [
    "f = np.empty(((2, 3, 5)))"
   ]
  },
  {
   "cell_type": "code",
   "execution_count": 217,
   "id": "b77de144",
   "metadata": {},
   "outputs": [
    {
     "data": {
      "text/plain": [
       "array([[[ 25,  75,  75, 100,  25],\n",
       "        [ 25,  25,  25,  25,  75],\n",
       "        [ 25,  75,  25,  25,  75]],\n",
       "\n",
       "       [[  0,  25,  75,  75,  25],\n",
       "        [ 25,  75,  75,  25,  75],\n",
       "        [ 75,  25,  75,  75,  25]]])"
      ]
     },
     "execution_count": 217,
     "metadata": {},
     "output_type": "execute_result"
    }
   ],
   "source": [
    "\"\"\"\n",
    "#16. Populate the values in f. For each value in d, if it's larger than d_min but smaller than d_mean, assign 25 to the corresponding value in f.\n",
    "If a value in d is larger than d_mean but smaller than d_max, assign 75 to the corresponding value in f.\n",
    "If a value equals to d_mean, assign 50 to the corresponding value in f.\n",
    "Assign 0 to the corresponding value(s) in f for d_min in d.\n",
    "Assign 100 to the corresponding value(s) in f for d_max in d.\n",
    "In the end, f should have only the following values: 0, 25, 50, 75, and 100.\n",
    "Note: you don't have to use Numpy in this question.\n",
    "\"\"\"\n",
    "f_mini = np.where((d>d_min) & (d < d_mean), 25, 0)\n",
    "f_mean = np.where((d > d_mean) & (d < d_max), 75, 0)\n",
    "f_media = np.where(d==d_mean, 50, 0)\n",
    "f_max = np.where(d==d_max, 100, 0)\n",
    "f_min = np.where(d==d_min,0, 0)\n",
    "f = (f_mean + f_media + f_max + f_min + f_mini)\n",
    "f"
   ]
  },
  {
   "cell_type": "code",
   "execution_count": 219,
   "id": "009108b0",
   "metadata": {},
   "outputs": [
    {
     "name": "stdout",
     "output_type": "stream",
     "text": [
      "[[[1.32005519 1.87548583 1.76735991 1.96999366 1.17897405]\n",
      "  [1.4423569  1.18066262 1.18905955 1.05351041 1.79577409]\n",
      "  [1.35874438 1.83281779 1.43913669 1.42663659 1.71919425]]\n",
      "\n",
      " [[1.02011518 1.3896004  1.65378937 1.56992004 1.30131122]\n",
      "  [1.34824153 1.78664874 1.55835769 1.32196445 1.7784099 ]\n",
      "  [1.65144157 1.27867405 1.83591792 1.77866132 1.06449264]]]\n",
      "[[[ 25  75  75 100  25]\n",
      "  [ 25  25  25  25  75]\n",
      "  [ 25  75  25  25  75]]\n",
      "\n",
      " [[  0  25  75  75  25]\n",
      "  [ 25  75  75  25  75]\n",
      "  [ 75  25  75  75  25]]]\n"
     ]
    }
   ],
   "source": [
    "print (d)\n",
    "print (f)"
   ]
  },
  {
   "cell_type": "code",
   "execution_count": null,
   "id": "6ff4d03a",
   "metadata": {},
   "outputs": [],
   "source": [
    "#18. Bonus question: instead of using numbers (i.e. 0, 25, 50, 75, and 100), \n",
    "#how to use string values (\"A\", \"B\", \"C\", \"D\", and \"E\") to label the array elements? \n",
    "#You are expecting the result to be:"
   ]
  },
  {
   "cell_type": "code",
   "execution_count": 220,
   "id": "7e3918f2",
   "metadata": {},
   "outputs": [
    {
     "ename": "UFuncTypeError",
     "evalue": "ufunc 'add' did not contain a loop with signature matching types (dtype('<U21'), dtype('<U21')) -> None",
     "output_type": "error",
     "traceback": [
      "\u001b[0;31m---------------------------------------------------------------------------\u001b[0m",
      "\u001b[0;31mUFuncTypeError\u001b[0m                            Traceback (most recent call last)",
      "Input \u001b[0;32mIn [220]\u001b[0m, in \u001b[0;36m<cell line: 7>\u001b[0;34m()\u001b[0m\n\u001b[1;32m      5\u001b[0m j_max \u001b[38;5;241m=\u001b[39m np\u001b[38;5;241m.\u001b[39mwhere(d\u001b[38;5;241m==\u001b[39md_max, \u001b[38;5;124m\"\u001b[39m\u001b[38;5;124mE\u001b[39m\u001b[38;5;124m\"\u001b[39m, \u001b[38;5;241m0\u001b[39m)\n\u001b[1;32m      6\u001b[0m j_min \u001b[38;5;241m=\u001b[39m np\u001b[38;5;241m.\u001b[39mwhere(d\u001b[38;5;241m==\u001b[39md_min, \u001b[38;5;124m\"\u001b[39m\u001b[38;5;124mA\u001b[39m\u001b[38;5;124m\"\u001b[39m, \u001b[38;5;241m0\u001b[39m)\n\u001b[0;32m----> 7\u001b[0m j \u001b[38;5;241m=\u001b[39m (\u001b[43mj_mean\u001b[49m\u001b[43m \u001b[49m\u001b[38;5;241;43m+\u001b[39;49m\u001b[43m \u001b[49m\u001b[43mj_media\u001b[49m \u001b[38;5;241m+\u001b[39m j_max \u001b[38;5;241m+\u001b[39m j_min \u001b[38;5;241m+\u001b[39m j_mini)\n\u001b[1;32m      8\u001b[0m j\n",
      "\u001b[0;31mUFuncTypeError\u001b[0m: ufunc 'add' did not contain a loop with signature matching types (dtype('<U21'), dtype('<U21')) -> None"
     ]
    }
   ],
   "source": [
    "j = np.empty(((2, 3, 5)))\n",
    "j_mini = np.where((d>d_min) & (d < d_mean), \"B\", 0)\n",
    "j_mean = np.where((d > d_mean) & (d < d_max), \"D\", 0)\n",
    "j_media = np.where(d==d_mean, \"C\", 0)\n",
    "j_max = np.where(d==d_max, \"E\", 0)\n",
    "j_min = np.where(d==d_min, \"A\", 0)\n",
    "j = (j_mean + j_media + j_max + j_min + j_mini)\n",
    "j"
   ]
  },
  {
   "cell_type": "code",
   "execution_count": null,
   "id": "e856e452",
   "metadata": {},
   "outputs": [],
   "source": []
  }
 ],
 "metadata": {
  "kernelspec": {
   "display_name": "Python 3 (ipykernel)",
   "language": "python",
   "name": "python3"
  },
  "language_info": {
   "codemirror_mode": {
    "name": "ipython",
    "version": 3
   },
   "file_extension": ".py",
   "mimetype": "text/x-python",
   "name": "python",
   "nbconvert_exporter": "python",
   "pygments_lexer": "ipython3",
   "version": "3.9.12"
  }
 },
 "nbformat": 4,
 "nbformat_minor": 5
}
