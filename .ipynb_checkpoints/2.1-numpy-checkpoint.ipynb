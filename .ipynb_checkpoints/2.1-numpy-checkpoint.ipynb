{
 "cells": [
  {
   "cell_type": "markdown",
   "id": "58f50ac3",
   "metadata": {},
   "source": [
    "#1. Import the NUMPY package under the name np."
   ]
  },
  {
   "cell_type": "code",
   "execution_count": 2,
   "id": "633ccca3",
   "metadata": {},
   "outputs": [],
   "source": [
    "import numpy as np"
   ]
  },
  {
   "cell_type": "markdown",
   "id": "af682785",
   "metadata": {},
   "source": [
    "#2. Print the NUMPY version and the configuration."
   ]
  },
  {
   "cell_type": "code",
   "execution_count": 3,
   "id": "cbaa4e00",
   "metadata": {},
   "outputs": [
    {
     "name": "stdout",
     "output_type": "stream",
     "text": [
      "1.23.4\n"
     ]
    }
   ],
   "source": [
    "print(np.__version__)"
   ]
  },
  {
   "cell_type": "code",
   "execution_count": 4,
   "id": "ebd230ea",
   "metadata": {},
   "outputs": [
    {
     "name": "stdout",
     "output_type": "stream",
     "text": [
      "openblas64__info:\n",
      "    library_dirs = ['D:\\\\a\\\\numpy\\\\numpy\\\\build\\\\openblas64__info']\n",
      "    libraries = ['openblas64__info']\n",
      "    language = f77\n",
      "    define_macros = [('HAVE_CBLAS', None), ('BLAS_SYMBOL_SUFFIX', '64_'), ('HAVE_BLAS_ILP64', None)]\n",
      "blas_ilp64_opt_info:\n",
      "    library_dirs = ['D:\\\\a\\\\numpy\\\\numpy\\\\build\\\\openblas64__info']\n",
      "    libraries = ['openblas64__info']\n",
      "    language = f77\n",
      "    define_macros = [('HAVE_CBLAS', None), ('BLAS_SYMBOL_SUFFIX', '64_'), ('HAVE_BLAS_ILP64', None)]\n",
      "openblas64__lapack_info:\n",
      "    library_dirs = ['D:\\\\a\\\\numpy\\\\numpy\\\\build\\\\openblas64__lapack_info']\n",
      "    libraries = ['openblas64__lapack_info']\n",
      "    language = f77\n",
      "    define_macros = [('HAVE_CBLAS', None), ('BLAS_SYMBOL_SUFFIX', '64_'), ('HAVE_BLAS_ILP64', None), ('HAVE_LAPACKE', None)]\n",
      "lapack_ilp64_opt_info:\n",
      "    library_dirs = ['D:\\\\a\\\\numpy\\\\numpy\\\\build\\\\openblas64__lapack_info']\n",
      "    libraries = ['openblas64__lapack_info']\n",
      "    language = f77\n",
      "    define_macros = [('HAVE_CBLAS', None), ('BLAS_SYMBOL_SUFFIX', '64_'), ('HAVE_BLAS_ILP64', None), ('HAVE_LAPACKE', None)]\n",
      "Supported SIMD extensions in this NumPy install:\n",
      "    baseline = SSE,SSE2,SSE3\n",
      "    found = SSSE3,SSE41,POPCNT,SSE42,AVX,F16C,FMA3,AVX2\n",
      "    not found = AVX512F,AVX512CD,AVX512_SKX,AVX512_CLX,AVX512_CNL,AVX512_ICL\n",
      "None\n"
     ]
    }
   ],
   "source": [
    "print(np.show_config())"
   ]
  },
  {
   "cell_type": "markdown",
   "id": "438536d5",
   "metadata": {},
   "source": [
    "#3. Generate a 2x3x5 3-dimensional array with random values. Assign the array to variable \"a\"\n",
    "#. Challenge: there are at least three easy ways that use numpy to generate random arrays. How many ways can you find?"
   ]
  },
  {
   "cell_type": "code",
   "execution_count": 7,
   "id": "bfb9fbce",
   "metadata": {},
   "outputs": [],
   "source": [
    "a=np.random.random((2,3,5))\n"
   ]
  },
  {
   "cell_type": "markdown",
   "id": "9ab3af3c",
   "metadata": {},
   "source": [
    "#4. Print a."
   ]
  },
  {
   "cell_type": "code",
   "execution_count": 8,
   "id": "e346bf84",
   "metadata": {},
   "outputs": [
    {
     "name": "stdout",
     "output_type": "stream",
     "text": [
      "[[[0.56670613 0.85403163 0.5963354  0.33845523 0.03312776]\n",
      "  [0.70712218 0.75701556 0.92560956 0.90090756 0.2933248 ]\n",
      "  [0.59257783 0.57377546 0.75267565 0.07880332 0.64061524]]\n",
      "\n",
      " [[0.0542608  0.67297658 0.19531453 0.92836733 0.89606991]\n",
      "  [0.87440093 0.6471911  0.85869324 0.60769556 0.37078036]\n",
      "  [0.3027999  0.86576412 0.39618058 0.50477258 0.514924  ]]]\n"
     ]
    }
   ],
   "source": [
    "print(a)"
   ]
  },
  {
   "cell_type": "markdown",
   "id": "616d48a2",
   "metadata": {},
   "source": [
    "#5. Create a 5x2x3 3-dimensional array with all values equaling 1.\n",
    "#Assign the array to variable \"b\""
   ]
  },
  {
   "cell_type": "code",
   "execution_count": 13,
   "id": "3a6a92d7",
   "metadata": {},
   "outputs": [],
   "source": [
    "b=np.ones((5,2,3))"
   ]
  },
  {
   "cell_type": "markdown",
   "id": "31670c46",
   "metadata": {},
   "source": [
    "#6. Print b."
   ]
  },
  {
   "cell_type": "code",
   "execution_count": 14,
   "id": "1f4aa6b1",
   "metadata": {},
   "outputs": [
    {
     "name": "stdout",
     "output_type": "stream",
     "text": [
      "[[[1. 1. 1.]\n",
      "  [1. 1. 1.]]\n",
      "\n",
      " [[1. 1. 1.]\n",
      "  [1. 1. 1.]]\n",
      "\n",
      " [[1. 1. 1.]\n",
      "  [1. 1. 1.]]\n",
      "\n",
      " [[1. 1. 1.]\n",
      "  [1. 1. 1.]]\n",
      "\n",
      " [[1. 1. 1.]\n",
      "  [1. 1. 1.]]]\n"
     ]
    }
   ],
   "source": [
    "print(b)"
   ]
  },
  {
   "cell_type": "markdown",
   "id": "3561a40d",
   "metadata": {},
   "source": [
    "#7. Do a and b have the same size? How do you prove that in Python code?"
   ]
  },
  {
   "cell_type": "code",
   "execution_count": 19,
   "id": "e56d1b5e",
   "metadata": {},
   "outputs": [
    {
     "name": "stdout",
     "output_type": "stream",
     "text": [
      "Size of a: 30\n",
      "Size of b: 30\n"
     ]
    }
   ],
   "source": [
    "print(\"Size of a:\",a.size)\n",
    "print(\"Size of b:\",b.size)"
   ]
  },
  {
   "cell_type": "markdown",
   "id": "afc6a517",
   "metadata": {},
   "source": [
    "#8. Are you able to add a and b? Why or why not?"
   ]
  },
  {
   "cell_type": "code",
   "execution_count": 21,
   "id": "da1db754",
   "metadata": {},
   "outputs": [
    {
     "ename": "ValueError",
     "evalue": "operands could not be broadcast together with shapes (2,3,5) (5,2,3) ",
     "output_type": "error",
     "traceback": [
      "\u001b[1;31m---------------------------------------------------------------------------\u001b[0m",
      "\u001b[1;31mValueError\u001b[0m                                Traceback (most recent call last)",
      "Cell \u001b[1;32mIn [21], line 1\u001b[0m\n\u001b[1;32m----> 1\u001b[0m \u001b[43ma\u001b[49m\u001b[38;5;241;43m+\u001b[39;49m\u001b[43mb\u001b[49m\n",
      "\u001b[1;31mValueError\u001b[0m: operands could not be broadcast together with shapes (2,3,5) (5,2,3) "
     ]
    }
   ],
   "source": [
    "a+b\n",
    "\n",
    "#ValueError: operands could not be broadcast together with shapes (2,3,5) (5,2,3) "
   ]
  },
  {
   "cell_type": "markdown",
   "id": "a0a725ef",
   "metadata": {},
   "source": [
    "\n",
    "#9. Transpose b so that it has the same structure of a (i.e. become a 2x3x5 array). Assign the transposed array to varialbe \"c\"."
   ]
  },
  {
   "cell_type": "code",
   "execution_count": 39,
   "id": "bc10fae4",
   "metadata": {},
   "outputs": [
    {
     "name": "stdout",
     "output_type": "stream",
     "text": [
      "[[[1. 1. 1. 1. 1.]\n",
      "  [1. 1. 1. 1. 1.]\n",
      "  [1. 1. 1. 1. 1.]]\n",
      "\n",
      " [[1. 1. 1. 1. 1.]\n",
      "  [1. 1. 1. 1. 1.]\n",
      "  [1. 1. 1. 1. 1.]]]\n"
     ]
    }
   ],
   "source": [
    "c=np.transpose(b,(1,2,0))\n",
    "print(c)"
   ]
  },
  {
   "cell_type": "markdown",
   "id": "ad7efa9f",
   "metadata": {},
   "source": [
    "#10. Try to add a and c. Now it should work. Assign the sum to varialbe \"d\". But why does it work now?"
   ]
  },
  {
   "cell_type": "code",
   "execution_count": 41,
   "id": "f54329e0",
   "metadata": {},
   "outputs": [
    {
     "name": "stdout",
     "output_type": "stream",
     "text": [
      "[[[1.56670613 1.85403163 1.5963354  1.33845523 1.03312776]\n",
      "  [1.70712218 1.75701556 1.92560956 1.90090756 1.2933248 ]\n",
      "  [1.59257783 1.57377546 1.75267565 1.07880332 1.64061524]]\n",
      "\n",
      " [[1.0542608  1.67297658 1.19531453 1.92836733 1.89606991]\n",
      "  [1.87440093 1.6471911  1.85869324 1.60769556 1.37078036]\n",
      "  [1.3027999  1.86576412 1.39618058 1.50477258 1.514924  ]]]\n"
     ]
    }
   ],
   "source": [
    "d=a+c\n",
    "\n",
    "# Tienen las mismas dimensiones\n",
    "\n",
    "print(d)"
   ]
  },
  {
   "cell_type": "markdown",
   "id": "7565f4b9",
   "metadata": {},
   "source": [
    "#11. Print a and d. Notice the difference and relation of the two array in terms of the values? Explain."
   ]
  },
  {
   "cell_type": "code",
   "execution_count": 45,
   "id": "cd045540",
   "metadata": {},
   "outputs": [
    {
     "name": "stdout",
     "output_type": "stream",
     "text": [
      "[[[0.56670613 0.85403163 0.5963354  0.33845523 0.03312776]\n",
      "  [0.70712218 0.75701556 0.92560956 0.90090756 0.2933248 ]\n",
      "  [0.59257783 0.57377546 0.75267565 0.07880332 0.64061524]]\n",
      "\n",
      " [[0.0542608  0.67297658 0.19531453 0.92836733 0.89606991]\n",
      "  [0.87440093 0.6471911  0.85869324 0.60769556 0.37078036]\n",
      "  [0.3027999  0.86576412 0.39618058 0.50477258 0.514924  ]]]\n",
      "\n",
      "[[[1.56670613 1.85403163 1.5963354  1.33845523 1.03312776]\n",
      "  [1.70712218 1.75701556 1.92560956 1.90090756 1.2933248 ]\n",
      "  [1.59257783 1.57377546 1.75267565 1.07880332 1.64061524]]\n",
      "\n",
      " [[1.0542608  1.67297658 1.19531453 1.92836733 1.89606991]\n",
      "  [1.87440093 1.6471911  1.85869324 1.60769556 1.37078036]\n",
      "  [1.3027999  1.86576412 1.39618058 1.50477258 1.514924  ]]]\n"
     ]
    }
   ],
   "source": [
    "print(a)\n",
    "print(\"\")\n",
    "print(d)\n",
    "\n",
    "# La diferencia entre ambos es b, es decir, un valor de una unidad"
   ]
  },
  {
   "cell_type": "markdown",
   "id": "bcd14dbc",
   "metadata": {},
   "source": [
    "#12. Multiply a and c. Assign the result to e."
   ]
  },
  {
   "cell_type": "code",
   "execution_count": 46,
   "id": "289bdba6",
   "metadata": {},
   "outputs": [
    {
     "name": "stdout",
     "output_type": "stream",
     "text": [
      "[[[0.56670613 0.85403163 0.5963354  0.33845523 0.03312776]\n",
      "  [0.70712218 0.75701556 0.92560956 0.90090756 0.2933248 ]\n",
      "  [0.59257783 0.57377546 0.75267565 0.07880332 0.64061524]]\n",
      "\n",
      " [[0.0542608  0.67297658 0.19531453 0.92836733 0.89606991]\n",
      "  [0.87440093 0.6471911  0.85869324 0.60769556 0.37078036]\n",
      "  [0.3027999  0.86576412 0.39618058 0.50477258 0.514924  ]]]\n"
     ]
    }
   ],
   "source": [
    "e=a*c\n",
    "\n",
    "print(e)"
   ]
  },
  {
   "cell_type": "markdown",
   "id": "4e9241e6",
   "metadata": {},
   "source": [
    "#13. Does e equal to a? Why or why not?"
   ]
  },
  {
   "cell_type": "code",
   "execution_count": 47,
   "id": "0677cec0",
   "metadata": {},
   "outputs": [
    {
     "data": {
      "text/plain": [
       "array([[[ True,  True,  True,  True,  True],\n",
       "        [ True,  True,  True,  True,  True],\n",
       "        [ True,  True,  True,  True,  True]],\n",
       "\n",
       "       [[ True,  True,  True,  True,  True],\n",
       "        [ True,  True,  True,  True,  True],\n",
       "        [ True,  True,  True,  True,  True]]])"
      ]
     },
     "execution_count": 47,
     "metadata": {},
     "output_type": "execute_result"
    }
   ],
   "source": [
    "e==a\n",
    "\n",
    "# Al multiplicar por 1, la matriz es la misma"
   ]
  },
  {
   "cell_type": "markdown",
   "id": "9f55d9aa",
   "metadata": {},
   "source": [
    "#14. Identify the max, min, and mean values in d. Assign those values to variables \"d_max\", \"d_min\", and \"d_mean\""
   ]
  },
  {
   "cell_type": "code",
   "execution_count": 54,
   "id": "8225960e",
   "metadata": {},
   "outputs": [
    {
     "name": "stdout",
     "output_type": "stream",
     "text": [
      "Max: 1.928367332282113\n",
      "Min: 1.0331277649740813\n",
      "Mean: 1.5767091611418382\n"
     ]
    }
   ],
   "source": [
    "d_max=np.max(d)\n",
    "print(\"Max:\", d_max)\n",
    "d_min=np.min(d)\n",
    "print(\"Min:\", d_min)\n",
    "d_mean=np.mean(d)\n",
    "print(\"Mean:\", d_mean)"
   ]
  },
  {
   "cell_type": "markdown",
   "id": "b66498c7",
   "metadata": {},
   "source": [
    "#15. Now we want to label the values in d. First create an empty array \"f\" with the same shape (i.e. 2x3x5) as d using `np.empty`."
   ]
  },
  {
   "cell_type": "code",
   "execution_count": 57,
   "id": "5ac0b3df",
   "metadata": {},
   "outputs": [
    {
     "name": "stdout",
     "output_type": "stream",
     "text": [
      "[[[0.56670613 0.85403163 0.5963354  0.33845523 0.03312776]\n",
      "  [0.70712218 0.75701556 0.92560956 0.90090756 0.2933248 ]\n",
      "  [0.59257783 0.57377546 0.75267565 0.07880332 0.64061524]]\n",
      "\n",
      " [[0.0542608  0.67297658 0.19531453 0.92836733 0.89606991]\n",
      "  [0.87440093 0.6471911  0.85869324 0.60769556 0.37078036]\n",
      "  [0.3027999  0.86576412 0.39618058 0.50477258 0.514924  ]]]\n"
     ]
    }
   ],
   "source": [
    "f=np.empty((2,3,5))\n",
    "\n",
    "print(f)"
   ]
  },
  {
   "cell_type": "markdown",
   "id": "2c55c68d",
   "metadata": {},
   "source": [
    "\"\"\"\n",
    "#16. Populate the values in f. For each value in d, if it's larger than d_min but smaller than d_mean, assign 25 to the corresponding value in f.\n",
    "If a value in d is larger than d_mean but smaller than d_max, assign 75 to the corresponding value in f.\n",
    "If a value equals to d_mean, assign 50 to the corresponding value in f.\n",
    "Assign 0 to the corresponding value(s) in f for d_min in d.\n",
    "Assign 100 to the corresponding value(s) in f for d_max in d.\n",
    "In the end, f should have only the following values: 0, 25, 50, 75, and 100.\n",
    "Note: you don't have to use Numpy in this question.\n",
    "\"\"\""
   ]
  },
  {
   "cell_type": "code",
   "execution_count": 69,
   "id": "b6fab895",
   "metadata": {},
   "outputs": [
    {
     "name": "stdout",
     "output_type": "stream",
     "text": [
      "[[[ 25  75  75  25   0]\n",
      "  [ 75  75  75  75  25]\n",
      "  [ 75  25  75  25  75]]\n",
      "\n",
      " [[ 25  75  25 100  75]\n",
      "  [ 75  75  75  75  25]\n",
      "  [ 25  75  25  25  25]]]\n"
     ]
    }
   ],
   "source": [
    "fmax=np.where(d==d_max, 100, 0)\n",
    "fmin=np.where(d==d_min, 0, 0)\n",
    "fmean=np.where(d==d_mean,50,0)\n",
    "f25=np.where((d>d_min) & (d<d_mean), 25,0)\n",
    "f75=np.where((d>d_mean) & (d<d_max), 75,0)\n",
    "\n",
    "\n",
    "f=fmax+fmin+fmean+f25+f75\n",
    "\n",
    "print(f)"
   ]
  },
  {
   "cell_type": "markdown",
   "id": "e6bc2a56",
   "metadata": {},
   "source": [
    "\"\"\"\n",
    "#17. Print d and f. Do you have your expected f?\n",
    "For instance, if your d is:\n",
    "array([[[1.85836099, 1.67064465, 1.62576044, 1.40243961, 1.88454931],\n",
    "        [1.75354326, 1.69403643, 1.36729252, 1.61415071, 1.12104981],\n",
    "        [1.72201435, 1.1862918 , 1.87078449, 1.7726778 , 1.88180042]],\n",
    "\n",
    "       [[1.44747908, 1.31673383, 1.02000951, 1.52218947, 1.97066381],\n",
    "        [1.79129243, 1.74983003, 1.96028037, 1.85166831, 1.65450881],\n",
    "        [1.18068344, 1.9587381 , 1.00656599, 1.93402165, 1.73514584]]])\n",
    "\n",
    "Your f should be:\n",
    "array([[[ 75.,  75.,  75.,  25.,  75.],\n",
    "        [ 75.,  75.,  25.,  25.,  25.],\n",
    "        [ 75.,  25.,  75.,  75.,  75.]],\n",
    "\n",
    "       [[ 25.,  25.,  25.,  25., 100.],\n",
    "        [ 75.,  75.,  75.,  75.,  75.],\n",
    "        [ 25.,  75.,   0.,  75.,  75.]]])\n",
    "\"\"\""
   ]
  },
  {
   "cell_type": "code",
   "execution_count": 71,
   "id": "d770fb75",
   "metadata": {},
   "outputs": [
    {
     "name": "stdout",
     "output_type": "stream",
     "text": [
      "[[[1.56670613 1.85403163 1.5963354  1.33845523 1.03312776]\n",
      "  [1.70712218 1.75701556 1.92560956 1.90090756 1.2933248 ]\n",
      "  [1.59257783 1.57377546 1.75267565 1.07880332 1.64061524]]\n",
      "\n",
      " [[1.0542608  1.67297658 1.19531453 1.92836733 1.89606991]\n",
      "  [1.87440093 1.6471911  1.85869324 1.60769556 1.37078036]\n",
      "  [1.3027999  1.86576412 1.39618058 1.50477258 1.514924  ]]]\n",
      "\n",
      "[[[ 25  75  75  25   0]\n",
      "  [ 75  75  75  75  25]\n",
      "  [ 75  25  75  25  75]]\n",
      "\n",
      " [[ 25  75  25 100  75]\n",
      "  [ 75  75  75  75  25]\n",
      "  [ 25  75  25  25  25]]]\n"
     ]
    }
   ],
   "source": [
    "print(d)\n",
    "print(\"\")\n",
    "print(f)"
   ]
  },
  {
   "cell_type": "markdown",
   "id": "6cc902ed",
   "metadata": {},
   "source": [
    "\"\"\"\n",
    "#18. Bonus question: instead of using numbers (i.e. 0, 25, 50, 75, and 100), how to use string values \n",
    "(\"A\", \"B\", \"C\", \"D\", and \"E\") to label the array elements? You are expecting the result to be:\n",
    "array([[[ 'D',  'D',  'D',  'B',  'D'],\n",
    "        [ 'D',  'D',  'B',  'B',  'B'],\n",
    "        [ 'D',  'B',  'D',  'D',  'D']],\n",
    "\n",
    "       [[ 'B',  'B',  'B',  'B',  'E'],\n",
    "        [ 'D',  'D',  'D',  'D',  'D'],\n",
    "        [ 'B',  'D',   'A',  'D', 'D']]])\n",
    "Again, you don't need Numpy in this question.\n",
    "\"\"\""
   ]
  },
  {
   "cell_type": "code",
   "execution_count": 87,
   "id": "b163803d",
   "metadata": {},
   "outputs": [
    {
     "ename": "NameError",
     "evalue": "name 'nan' is not defined",
     "output_type": "error",
     "traceback": [
      "\u001b[1;31m---------------------------------------------------------------------------\u001b[0m",
      "\u001b[1;31mNameError\u001b[0m                                 Traceback (most recent call last)",
      "Cell \u001b[1;32mIn [87], line 3\u001b[0m\n\u001b[0;32m      1\u001b[0m gmax\u001b[38;5;241m=\u001b[39mnp\u001b[38;5;241m.\u001b[39mwhere(d\u001b[38;5;241m==\u001b[39md_max, \u001b[38;5;124m\"\u001b[39m\u001b[38;5;124mE\u001b[39m\u001b[38;5;124m\"\u001b[39m,\u001b[38;5;28;01mNone\u001b[39;00m)\n\u001b[0;32m      2\u001b[0m gmin\u001b[38;5;241m=\u001b[39mnp\u001b[38;5;241m.\u001b[39mwhere(d\u001b[38;5;241m==\u001b[39md_min, \u001b[38;5;124m\"\u001b[39m\u001b[38;5;124mA\u001b[39m\u001b[38;5;124m\"\u001b[39m,\u001b[38;5;28;01mNone\u001b[39;00m)\n\u001b[1;32m----> 3\u001b[0m gmean\u001b[38;5;241m=\u001b[39mnp\u001b[38;5;241m.\u001b[39mwhere(d\u001b[38;5;241m==\u001b[39md_mean,\u001b[38;5;124m\"\u001b[39m\u001b[38;5;124mC\u001b[39m\u001b[38;5;124m\"\u001b[39m,\u001b[43mnan\u001b[49m)\n\u001b[0;32m      4\u001b[0m g25\u001b[38;5;241m=\u001b[39mnp\u001b[38;5;241m.\u001b[39mwhere((d\u001b[38;5;241m>\u001b[39md_min) \u001b[38;5;241m&\u001b[39m (d\u001b[38;5;241m<\u001b[39md_mean), \u001b[38;5;124m\"\u001b[39m\u001b[38;5;124mB\u001b[39m\u001b[38;5;124m\"\u001b[39m,\u001b[38;5;28;01mNone\u001b[39;00m)\n\u001b[0;32m      5\u001b[0m g75\u001b[38;5;241m=\u001b[39mnp\u001b[38;5;241m.\u001b[39mwhere((d\u001b[38;5;241m>\u001b[39md_mean) \u001b[38;5;241m&\u001b[39m (d\u001b[38;5;241m<\u001b[39md_max), \u001b[38;5;124m\"\u001b[39m\u001b[38;5;124mD\u001b[39m\u001b[38;5;124m\"\u001b[39m,\u001b[38;5;28;01mNone\u001b[39;00m)\n",
      "\u001b[1;31mNameError\u001b[0m: name 'nan' is not defined"
     ]
    }
   ],
   "source": [
    "gmax=np.where(d==d_max, \"E\",None)\n",
    "gmin=np.where(d==d_min, \"A\",None)\n",
    "gmean=np.where(d==d_mean,\"C\",nan)\n",
    "g25=np.where((d>d_min) & (d<d_mean), \"B\",None)\n",
    "g75=np.where((d>d_mean) & (d<d_max), \"D\",None)\n",
    "\n",
    "\n",
    "g=gmax+gmin+gmean+g25+g75\n",
    "\n",
    "print(g)"
   ]
  }
 ],
 "metadata": {
  "kernelspec": {
   "display_name": "Clase",
   "language": "python",
   "name": "clase"
  },
  "language_info": {
   "codemirror_mode": {
    "name": "ipython",
    "version": 3
   },
   "file_extension": ".py",
   "mimetype": "text/x-python",
   "name": "python",
   "nbconvert_exporter": "python",
   "pygments_lexer": "ipython3",
   "version": "3.8.13"
  }
 },
 "nbformat": 4,
 "nbformat_minor": 5
}
