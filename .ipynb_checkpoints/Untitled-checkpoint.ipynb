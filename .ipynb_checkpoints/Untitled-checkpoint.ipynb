{
 "cells": [
  {
   "cell_type": "code",
   "execution_count": 60,
   "id": "e2a582c7",
   "metadata": {},
   "outputs": [],
   "source": [
    "#1. Import the NUMPY package under the name np."
   ]
  },
  {
   "cell_type": "code",
   "execution_count": 61,
   "id": "d5acd103",
   "metadata": {},
   "outputs": [
    {
     "name": "stdout",
     "output_type": "stream",
     "text": [
      "Requirement already satisfied: numpy in c:\\users\\xabie\\anaconda3\\lib\\site-packages (1.21.5)\n",
      "Note: you may need to restart the kernel to use updated packages.\n"
     ]
    }
   ],
   "source": [
    "%pip install numpy"
   ]
  },
  {
   "cell_type": "code",
   "execution_count": 62,
   "id": "fbafa5d4",
   "metadata": {},
   "outputs": [],
   "source": [
    "import numpy as np"
   ]
  },
  {
   "cell_type": "code",
   "execution_count": 63,
   "id": "fcb50f10",
   "metadata": {},
   "outputs": [],
   "source": [
    "#2. Print the NUMPY version and the configuration."
   ]
  },
  {
   "cell_type": "code",
   "execution_count": 64,
   "id": "ecbaba49",
   "metadata": {},
   "outputs": [
    {
     "name": "stdout",
     "output_type": "stream",
     "text": [
      "<module 'numpy' from 'C:\\\\Users\\\\xabie\\\\anaconda3\\\\lib\\\\site-packages\\\\numpy\\\\__init__.py'>\n"
     ]
    }
   ],
   "source": [
    "print(np)"
   ]
  },
  {
   "cell_type": "code",
   "execution_count": 65,
   "id": "e7de6bfd",
   "metadata": {},
   "outputs": [],
   "source": [
    "#3. Generate a 2x3x5 3-dimensional array with random values. Assign the array to variable \"a\"\n",
    "# Challenge: there are at least three easy ways that use numpy to generate random arrays. How many ways can you find?"
   ]
  },
  {
   "cell_type": "code",
   "execution_count": 66,
   "id": "f2863c8f",
   "metadata": {},
   "outputs": [
    {
     "data": {
      "text/plain": [
       "array([[[0.95096264, 0.94399562, 0.60880665, 0.00614173, 0.00515397],\n",
       "        [0.72525907, 0.01890289, 0.41995144, 0.39377435, 0.72795836],\n",
       "        [0.65994872, 0.95581975, 0.64621471, 0.44783004, 0.29185361]],\n",
       "\n",
       "       [[0.47217929, 0.08278896, 0.94048282, 0.4383007 , 0.02270541],\n",
       "        [0.53037842, 0.42415618, 0.78468022, 0.98766183, 0.77958378],\n",
       "        [0.77049789, 0.01398945, 0.65688378, 0.19077171, 0.15741183]]])"
      ]
     },
     "execution_count": 66,
     "metadata": {},
     "output_type": "execute_result"
    }
   ],
   "source": [
    "a=np.random.random((2, 3, 5))\n",
    "\n",
    "a\n"
   ]
  },
  {
   "cell_type": "code",
   "execution_count": 67,
   "id": "fa6f9f16",
   "metadata": {},
   "outputs": [],
   "source": [
    "#4. Print a."
   ]
  },
  {
   "cell_type": "code",
   "execution_count": 68,
   "id": "c8d4dd95",
   "metadata": {},
   "outputs": [
    {
     "name": "stdout",
     "output_type": "stream",
     "text": [
      "[[[0.95096264 0.94399562 0.60880665 0.00614173 0.00515397]\n",
      "  [0.72525907 0.01890289 0.41995144 0.39377435 0.72795836]\n",
      "  [0.65994872 0.95581975 0.64621471 0.44783004 0.29185361]]\n",
      "\n",
      " [[0.47217929 0.08278896 0.94048282 0.4383007  0.02270541]\n",
      "  [0.53037842 0.42415618 0.78468022 0.98766183 0.77958378]\n",
      "  [0.77049789 0.01398945 0.65688378 0.19077171 0.15741183]]]\n"
     ]
    }
   ],
   "source": [
    "print(a)"
   ]
  },
  {
   "cell_type": "code",
   "execution_count": 69,
   "id": "97eb7250",
   "metadata": {},
   "outputs": [],
   "source": [
    "#5. Create a 5x2x3 3-dimensional array with all values equaling 1.\n",
    "#Assign the array to variable \"b\""
   ]
  },
  {
   "cell_type": "code",
   "execution_count": 70,
   "id": "3f913033",
   "metadata": {},
   "outputs": [
    {
     "data": {
      "text/plain": [
       "array([[[0.78857286, 0.56019314, 0.3292854 ],\n",
       "        [0.77944198, 0.90453326, 0.49335301]],\n",
       "\n",
       "       [[0.39959691, 0.74691911, 0.81823847],\n",
       "        [0.14967915, 0.18616693, 0.60381132]],\n",
       "\n",
       "       [[0.41352366, 0.25880424, 0.06567588],\n",
       "        [0.58667017, 0.43711303, 0.6166347 ]],\n",
       "\n",
       "       [[0.74817699, 0.19716057, 0.15367795],\n",
       "        [0.17925355, 0.40389524, 0.86871643]],\n",
       "\n",
       "       [[0.79224283, 0.59695051, 0.01224694],\n",
       "        [0.55958805, 0.80212956, 0.92169897]]])"
      ]
     },
     "execution_count": 70,
     "metadata": {},
     "output_type": "execute_result"
    }
   ],
   "source": [
    "b=np.random.random((5,2,3))\n",
    "\n",
    "b"
   ]
  },
  {
   "cell_type": "code",
   "execution_count": 71,
   "id": "e6e5c02a",
   "metadata": {},
   "outputs": [],
   "source": [
    "#6. Print b."
   ]
  },
  {
   "cell_type": "code",
   "execution_count": 72,
   "id": "698c91c5",
   "metadata": {},
   "outputs": [],
   "source": [
    "b=np.ones((5,2,3))"
   ]
  },
  {
   "cell_type": "code",
   "execution_count": 73,
   "id": "be4717d9",
   "metadata": {},
   "outputs": [
    {
     "name": "stdout",
     "output_type": "stream",
     "text": [
      "[[[1. 1. 1.]\n",
      "  [1. 1. 1.]]\n",
      "\n",
      " [[1. 1. 1.]\n",
      "  [1. 1. 1.]]\n",
      "\n",
      " [[1. 1. 1.]\n",
      "  [1. 1. 1.]]\n",
      "\n",
      " [[1. 1. 1.]\n",
      "  [1. 1. 1.]]\n",
      "\n",
      " [[1. 1. 1.]\n",
      "  [1. 1. 1.]]]\n"
     ]
    }
   ],
   "source": [
    "print(b)"
   ]
  },
  {
   "cell_type": "code",
   "execution_count": 74,
   "id": "efa73657",
   "metadata": {},
   "outputs": [],
   "source": [
    "#7. Do a and b have the same size? How do you prove that in Python code?"
   ]
  },
  {
   "cell_type": "code",
   "execution_count": 75,
   "id": "c1fa4709",
   "metadata": {},
   "outputs": [
    {
     "data": {
      "text/plain": [
       "True"
      ]
     },
     "execution_count": 75,
     "metadata": {},
     "output_type": "execute_result"
    }
   ],
   "source": [
    "np.size(a) == np.size(b)"
   ]
  },
  {
   "cell_type": "code",
   "execution_count": 76,
   "id": "bda27105",
   "metadata": {},
   "outputs": [],
   "source": [
    "#8. Are you able to add a and b? Why or why not?"
   ]
  },
  {
   "cell_type": "code",
   "execution_count": 80,
   "id": "419009c4",
   "metadata": {},
   "outputs": [
    {
     "ename": "ValueError",
     "evalue": "operands could not be broadcast together with shapes (2,3,5) (5,2,3) ",
     "output_type": "error",
     "traceback": [
      "\u001b[1;31m---------------------------------------------------------------------------\u001b[0m",
      "\u001b[1;31mValueError\u001b[0m                                Traceback (most recent call last)",
      "Input \u001b[1;32mIn [80]\u001b[0m, in \u001b[0;36m<cell line: 1>\u001b[1;34m()\u001b[0m\n\u001b[1;32m----> 1\u001b[0m \u001b[43ma\u001b[49m\u001b[43m \u001b[49m\u001b[38;5;241;43m+\u001b[39;49m\u001b[43m \u001b[49m\u001b[43mb\u001b[49m\n\u001b[0;32m      2\u001b[0m \u001b[38;5;28mprint\u001b[39m(\u001b[38;5;124m'\u001b[39m\u001b[38;5;124mshape a:\u001b[39m\u001b[38;5;124m'\u001b[39m, a\u001b[38;5;241m.\u001b[39mshape, \u001b[38;5;124m'\u001b[39m\u001b[38;5;124m//\u001b[39m\u001b[38;5;124m'\u001b[39m, \u001b[38;5;124m'\u001b[39m\u001b[38;5;124mshape b:\u001b[39m\u001b[38;5;124m'\u001b[39m, b\u001b[38;5;241m.\u001b[39mshape)\n",
      "\u001b[1;31mValueError\u001b[0m: operands could not be broadcast together with shapes (2,3,5) (5,2,3) "
     ]
    }
   ],
   "source": [
    "a + b\n",
    "print('shape a:', a.shape, '//', 'shape b:', b.shape)"
   ]
  },
  {
   "cell_type": "code",
   "execution_count": 78,
   "id": "abef4769",
   "metadata": {},
   "outputs": [],
   "source": [
    "#9. Transpose b so that it has the same structure of a (i.e. become a 2x3x5 array). Assign the transposed array to varialbe \"c\".\n"
   ]
  },
  {
   "cell_type": "code",
   "execution_count": 79,
   "id": "ed50a420",
   "metadata": {},
   "outputs": [
    {
     "data": {
      "text/plain": [
       "array([[[1., 1., 1., 1., 1.],\n",
       "        [1., 1., 1., 1., 1.],\n",
       "        [1., 1., 1., 1., 1.]],\n",
       "\n",
       "       [[1., 1., 1., 1., 1.],\n",
       "        [1., 1., 1., 1., 1.],\n",
       "        [1., 1., 1., 1., 1.]]])"
      ]
     },
     "execution_count": 79,
     "metadata": {},
     "output_type": "execute_result"
    }
   ],
   "source": [
    "c=np.reshape(b,(2, 3, 5))\n",
    "\n",
    "c"
   ]
  },
  {
   "cell_type": "code",
   "execution_count": null,
   "id": "474c2b65",
   "metadata": {},
   "outputs": [],
   "source": [
    "#10. Try to add a and c. Now it should work. Assign the sum to varialbe \"d\". But why does it work now?\n"
   ]
  },
  {
   "cell_type": "code",
   "execution_count": 81,
   "id": "4e8d5307",
   "metadata": {},
   "outputs": [
    {
     "data": {
      "text/plain": [
       "array([[[1.95096264, 1.94399562, 1.60880665, 1.00614173, 1.00515397],\n",
       "        [1.72525907, 1.01890289, 1.41995144, 1.39377435, 1.72795836],\n",
       "        [1.65994872, 1.95581975, 1.64621471, 1.44783004, 1.29185361]],\n",
       "\n",
       "       [[1.47217929, 1.08278896, 1.94048282, 1.4383007 , 1.02270541],\n",
       "        [1.53037842, 1.42415618, 1.78468022, 1.98766183, 1.77958378],\n",
       "        [1.77049789, 1.01398945, 1.65688378, 1.19077171, 1.15741183]]])"
      ]
     },
     "execution_count": 81,
     "metadata": {},
     "output_type": "execute_result"
    }
   ],
   "source": [
    "d = a + c\n",
    "d"
   ]
  },
  {
   "cell_type": "code",
   "execution_count": null,
   "id": "1d97ef1e",
   "metadata": {},
   "outputs": [],
   "source": [
    "#11. Print a and d. Notice the difference and relation of the two array in terms of the values? Explain"
   ]
  },
  {
   "cell_type": "code",
   "execution_count": 88,
   "id": "2195dca7",
   "metadata": {},
   "outputs": [
    {
     "name": "stdout",
     "output_type": "stream",
     "text": [
      "[[[0.95096264 0.94399562 0.60880665 0.00614173 0.00515397]\n",
      "  [0.72525907 0.01890289 0.41995144 0.39377435 0.72795836]\n",
      "  [0.65994872 0.95581975 0.64621471 0.44783004 0.29185361]]\n",
      "\n",
      " [[0.47217929 0.08278896 0.94048282 0.4383007  0.02270541]\n",
      "  [0.53037842 0.42415618 0.78468022 0.98766183 0.77958378]\n",
      "  [0.77049789 0.01398945 0.65688378 0.19077171 0.15741183]]]\n",
      "[[[1.95096264 1.94399562 1.60880665 1.00614173 1.00515397]\n",
      "  [1.72525907 1.01890289 1.41995144 1.39377435 1.72795836]\n",
      "  [1.65994872 1.95581975 1.64621471 1.44783004 1.29185361]]\n",
      "\n",
      " [[1.47217929 1.08278896 1.94048282 1.4383007  1.02270541]\n",
      "  [1.53037842 1.42415618 1.78468022 1.98766183 1.77958378]\n",
      "  [1.77049789 1.01398945 1.65688378 1.19077171 1.15741183]]]\n"
     ]
    }
   ],
   "source": [
    "print(a)\n",
    "print(d)"
   ]
  },
  {
   "cell_type": "code",
   "execution_count": null,
   "id": "54cb2533",
   "metadata": {},
   "outputs": [],
   "source": [
    "#a la matriz d le hemos sumado +1 a todos los elementos"
   ]
  },
  {
   "cell_type": "code",
   "execution_count": null,
   "id": "f7355243",
   "metadata": {},
   "outputs": [],
   "source": [
    "#12. Multiply a and c. Assign the result to e."
   ]
  },
  {
   "cell_type": "code",
   "execution_count": 89,
   "id": "542ba06e",
   "metadata": {},
   "outputs": [
    {
     "data": {
      "text/plain": [
       "array([[[0.95096264, 0.94399562, 0.60880665, 0.00614173, 0.00515397],\n",
       "        [0.72525907, 0.01890289, 0.41995144, 0.39377435, 0.72795836],\n",
       "        [0.65994872, 0.95581975, 0.64621471, 0.44783004, 0.29185361]],\n",
       "\n",
       "       [[0.47217929, 0.08278896, 0.94048282, 0.4383007 , 0.02270541],\n",
       "        [0.53037842, 0.42415618, 0.78468022, 0.98766183, 0.77958378],\n",
       "        [0.77049789, 0.01398945, 0.65688378, 0.19077171, 0.15741183]]])"
      ]
     },
     "execution_count": 89,
     "metadata": {},
     "output_type": "execute_result"
    }
   ],
   "source": [
    "e = a*c\n",
    "e"
   ]
  },
  {
   "cell_type": "code",
   "execution_count": null,
   "id": "f095279e",
   "metadata": {},
   "outputs": [],
   "source": [
    "#13. Does e equal to a? Why or why not?"
   ]
  },
  {
   "cell_type": "code",
   "execution_count": 90,
   "id": "16074801",
   "metadata": {},
   "outputs": [
    {
     "data": {
      "text/plain": [
       "array([[[ True,  True,  True,  True,  True],\n",
       "        [ True,  True,  True,  True,  True],\n",
       "        [ True,  True,  True,  True,  True]],\n",
       "\n",
       "       [[ True,  True,  True,  True,  True],\n",
       "        [ True,  True,  True,  True,  True],\n",
       "        [ True,  True,  True,  True,  True]]])"
      ]
     },
     "execution_count": 90,
     "metadata": {},
     "output_type": "execute_result"
    }
   ],
   "source": [
    "e == a"
   ]
  },
  {
   "cell_type": "code",
   "execution_count": 91,
   "id": "7bb0db4e",
   "metadata": {},
   "outputs": [
    {
     "data": {
      "text/plain": [
       "True"
      ]
     },
     "execution_count": 91,
     "metadata": {},
     "output_type": "execute_result"
    }
   ],
   "source": [
    "np.array_equal(e,a)"
   ]
  },
  {
   "cell_type": "code",
   "execution_count": null,
   "id": "2301d9b6",
   "metadata": {},
   "outputs": [],
   "source": [
    "#14. Identify the max, min, and mean values in d. Assign those values to variables \"d_max\", \"d_min\", and \"d_mean\""
   ]
  },
  {
   "cell_type": "code",
   "execution_count": 98,
   "id": "0abcf57d",
   "metadata": {},
   "outputs": [
    {
     "name": "stdout",
     "output_type": "stream",
     "text": [
      "1.005153969865653\n",
      "1.5018348605135392\n",
      "1.9876618259406729\n"
     ]
    }
   ],
   "source": [
    "d_min=np.min(d)\n",
    "d_mean=np.mean(d)\n",
    "d_max=np.max(d)\n",
    "\n",
    "print(d_min)\n",
    "print(d_mean)\n",
    "print(d_max)"
   ]
  },
  {
   "cell_type": "code",
   "execution_count": null,
   "id": "8b81c346",
   "metadata": {},
   "outputs": [],
   "source": [
    "#15. Now we want to label the values in d. First create an empty array \"f\" with the same shape (i.e. 2x3x5) as d using `np.empty`."
   ]
  },
  {
   "cell_type": "code",
   "execution_count": 100,
   "id": "ab00b2b8",
   "metadata": {},
   "outputs": [
    {
     "data": {
      "text/plain": [
       "array([[[0.95096264, 0.94399562, 0.60880665, 0.00614173, 0.00515397],\n",
       "        [0.72525907, 0.01890289, 0.41995144, 0.39377435, 0.72795836],\n",
       "        [0.65994872, 0.95581975, 0.64621471, 0.44783004, 0.29185361]],\n",
       "\n",
       "       [[0.47217929, 0.08278896, 0.94048282, 0.4383007 , 0.02270541],\n",
       "        [0.53037842, 0.42415618, 0.78468022, 0.98766183, 0.77958378],\n",
       "        [0.77049789, 0.01398945, 0.65688378, 0.19077171, 0.15741183]]])"
      ]
     },
     "execution_count": 100,
     "metadata": {},
     "output_type": "execute_result"
    }
   ],
   "source": [
    "f=np.empty((2,3,5))\n",
    "f"
   ]
  },
  {
   "cell_type": "code",
   "execution_count": null,
   "id": "b7b3c082",
   "metadata": {},
   "outputs": [],
   "source": [
    "\"\"\"\n",
    "#16. Populate the values in f. For each value in d, if it's larger than d_min but smaller than d_mean, assign 25 to the corresponding value in f.\n",
    "If a value in d is larger than d_mean but smaller than d_max, assign 75 to the corresponding value in f.\n",
    "If a value equals to d_mean, assign 50 to the corresponding value in f.\n",
    "Assign 0 to the corresponding value(s) in f for d_min in d.\n",
    "Assign 100 to the corresponding value(s) in f for d_max in d.\n",
    "In the end, f should have only the following values: 0, 25, 50, 75, and 100.\n",
    "Note: you don't have to use Numpy in this question.\n",
    "\"\"\""
   ]
  },
  {
   "cell_type": "code",
   "execution_count": 141,
   "id": "01a6e9c2",
   "metadata": {},
   "outputs": [
    {
     "data": {
      "text/plain": [
       "array([[[ 75,  75,  75,  25,   0],\n",
       "        [ 75,  25,  25,  25,  75],\n",
       "        [ 75,  75,  75,  25,  25]],\n",
       "\n",
       "       [[ 25,  25,  75,  25,  25],\n",
       "        [ 75,  25,  75, 100,  75],\n",
       "        [ 75,  25,  75,  25,  25]]])"
      ]
     },
     "execution_count": 141,
     "metadata": {},
     "output_type": "execute_result"
    }
   ],
   "source": [
    "f=np.where((d>d_min) & (d<d_mean),\n",
    "           25,\n",
    "           np.where(d == d_mean,\n",
    "                    50,\n",
    "                    np.where(d == d_min,\n",
    "                             0,\n",
    "                             np.where(d == d_max, 100, 75))))\n",
    "\n",
    "f"
   ]
  },
  {
   "cell_type": "code",
   "execution_count": 142,
   "id": "dc7608d9",
   "metadata": {},
   "outputs": [
    {
     "name": "stdout",
     "output_type": "stream",
     "text": [
      "[[[1.95096264 1.94399562 1.60880665 1.00614173 1.00515397]\n",
      "  [1.72525907 1.01890289 1.41995144 1.39377435 1.72795836]\n",
      "  [1.65994872 1.95581975 1.64621471 1.44783004 1.29185361]]\n",
      "\n",
      " [[1.47217929 1.08278896 1.94048282 1.4383007  1.02270541]\n",
      "  [1.53037842 1.42415618 1.78468022 1.98766183 1.77958378]\n",
      "  [1.77049789 1.01398945 1.65688378 1.19077171 1.15741183]]]\n",
      "[[[ 75  75  75  25   0]\n",
      "  [ 75  25  25  25  75]\n",
      "  [ 75  75  75  25  25]]\n",
      "\n",
      " [[ 25  25  75  25  25]\n",
      "  [ 75  25  75 100  75]\n",
      "  [ 75  25  75  25  25]]]\n"
     ]
    }
   ],
   "source": [
    "print(d)\n",
    "print(f)"
   ]
  },
  {
   "cell_type": "code",
   "execution_count": null,
   "id": "5c97c172",
   "metadata": {},
   "outputs": [],
   "source": []
  }
 ],
 "metadata": {
  "kernelspec": {
   "display_name": "Python 3 (ipykernel)",
   "language": "python",
   "name": "python3"
  },
  "language_info": {
   "codemirror_mode": {
    "name": "ipython",
    "version": 3
   },
   "file_extension": ".py",
   "mimetype": "text/x-python",
   "name": "python",
   "nbconvert_exporter": "python",
   "pygments_lexer": "ipython3",
   "version": "3.9.12"
  }
 },
 "nbformat": 4,
 "nbformat_minor": 5
}
