{
 "cells": [
  {
   "cell_type": "markdown",
   "id": "dd342f27",
   "metadata": {},
   "source": [
    "1. Import the NUMPY package under the name np."
   ]
  },
  {
   "cell_type": "code",
   "execution_count": 1,
   "id": "5e7799cb",
   "metadata": {},
   "outputs": [
    {
     "name": "stdout",
     "output_type": "stream",
     "text": [
      "Requirement already satisfied: numpy in c:\\users\\pombo\\anaconda3\\envs\\snowflakes2\\lib\\site-packages (1.23.4)\n",
      "Note: you may need to restart the kernel to use updated packages.\n"
     ]
    }
   ],
   "source": [
    "%pip install numpy\n",
    "import numpy as np"
   ]
  },
  {
   "cell_type": "markdown",
   "id": "43c9a058",
   "metadata": {},
   "source": [
    "2. Print the NUMPY version and the configuration.\n"
   ]
  },
  {
   "cell_type": "code",
   "execution_count": 2,
   "id": "ac6e3f16",
   "metadata": {},
   "outputs": [
    {
     "name": "stdout",
     "output_type": "stream",
     "text": [
      "1.23.4\n"
     ]
    }
   ],
   "source": [
    "print(np.__version__)"
   ]
  },
  {
   "cell_type": "markdown",
   "id": "33f9cb4c",
   "metadata": {},
   "source": [
    "3. Generate a 2x3x5 3-dimensional array with random values. Assign the array to variable \"a\".\n",
    "  Challenge: there are at least three easy ways that use numpy to generate random arrays. How many ways can you find?"
   ]
  },
  {
   "cell_type": "code",
   "execution_count": 3,
   "id": "58ee5467",
   "metadata": {},
   "outputs": [
    {
     "data": {
      "text/plain": [
       "array([[[0.33535027, 0.23036571, 0.4802969 , 0.40257583, 0.40583805],\n",
       "        [0.34233282, 0.71287849, 0.38541943, 0.16948066, 0.49055566],\n",
       "        [0.5026792 , 0.51882507, 0.62449594, 0.11792709, 0.96033991]],\n",
       "\n",
       "       [[0.4395458 , 0.19055744, 0.48446066, 0.23076016, 0.37576112],\n",
       "        [0.03559226, 0.0668854 , 0.23742405, 0.61660363, 0.32314808],\n",
       "        [0.40067724, 0.75569824, 0.65727318, 0.63686456, 0.63758042]]])"
      ]
     },
     "execution_count": 3,
     "metadata": {},
     "output_type": "execute_result"
    }
   ],
   "source": [
    "a = np.random.random((2, 3, 5))\n",
    "\n",
    "a\n"
   ]
  },
  {
   "cell_type": "code",
   "execution_count": 4,
   "id": "7a05ed1e",
   "metadata": {},
   "outputs": [
    {
     "data": {
      "text/plain": [
       "array([[[2, 9, 8, 3, 5],\n",
       "        [8, 4, 7, 6, 4],\n",
       "        [4, 4, 5, 6, 9]],\n",
       "\n",
       "       [[0, 9, 6, 3, 8],\n",
       "        [5, 0, 2, 2, 7],\n",
       "        [6, 1, 0, 7, 0]]])"
      ]
     },
     "execution_count": 4,
     "metadata": {},
     "output_type": "execute_result"
    }
   ],
   "source": [
    "a = np.random.randint(10, size=(2, 3, 5))\n",
    "\n",
    "a"
   ]
  },
  {
   "cell_type": "markdown",
   "id": "aa3a7ca1",
   "metadata": {},
   "source": [
    "4. Print a."
   ]
  },
  {
   "cell_type": "code",
   "execution_count": 5,
   "id": "54d3912b",
   "metadata": {},
   "outputs": [
    {
     "data": {
      "text/plain": [
       "array([[[0.19512706, 0.00114373, 0.3528512 , 0.69625532, 0.54828694],\n",
       "        [0.15801888, 0.90771462, 0.15266291, 0.45054656, 0.0548249 ],\n",
       "        [0.40091423, 0.94837496, 0.99145819, 0.22135467, 0.37432145]],\n",
       "\n",
       "       [[0.7258349 , 0.76479034, 0.12317046, 0.34384309, 0.77901889],\n",
       "        [0.8932527 , 0.49447792, 0.0310684 , 0.30697268, 0.10161833],\n",
       "        [0.71064577, 0.78331499, 0.82981923, 0.90440866, 0.24970162]]])"
      ]
     },
     "execution_count": 5,
     "metadata": {},
     "output_type": "execute_result"
    }
   ],
   "source": [
    "a = np.random.rand(2,3,5)\n",
    "\n",
    "a"
   ]
  },
  {
   "cell_type": "code",
   "execution_count": 6,
   "id": "e4c7c965",
   "metadata": {},
   "outputs": [
    {
     "name": "stdout",
     "output_type": "stream",
     "text": [
      "[[[0.19512706 0.00114373 0.3528512  0.69625532 0.54828694]\n",
      "  [0.15801888 0.90771462 0.15266291 0.45054656 0.0548249 ]\n",
      "  [0.40091423 0.94837496 0.99145819 0.22135467 0.37432145]]\n",
      "\n",
      " [[0.7258349  0.76479034 0.12317046 0.34384309 0.77901889]\n",
      "  [0.8932527  0.49447792 0.0310684  0.30697268 0.10161833]\n",
      "  [0.71064577 0.78331499 0.82981923 0.90440866 0.24970162]]]\n"
     ]
    }
   ],
   "source": [
    "print(a)"
   ]
  },
  {
   "cell_type": "markdown",
   "id": "481d2dc9",
   "metadata": {},
   "source": [
    "5. Create a 5x2x3 3-dimensional array with all values equaling 1.\n",
    "Assign the array to variable \"b\""
   ]
  },
  {
   "cell_type": "code",
   "execution_count": 7,
   "id": "29cb43e1",
   "metadata": {},
   "outputs": [
    {
     "data": {
      "text/plain": [
       "array([[[1, 1],\n",
       "        [1, 1],\n",
       "        [1, 1]],\n",
       "\n",
       "       [[1, 1],\n",
       "        [1, 1],\n",
       "        [1, 1]],\n",
       "\n",
       "       [[1, 1],\n",
       "        [1, 1],\n",
       "        [1, 1]],\n",
       "\n",
       "       [[1, 1],\n",
       "        [1, 1],\n",
       "        [1, 1]],\n",
       "\n",
       "       [[1, 1],\n",
       "        [1, 1],\n",
       "        [1, 1]]])"
      ]
     },
     "execution_count": 7,
     "metadata": {},
     "output_type": "execute_result"
    }
   ],
   "source": [
    "b = np.ones((5,3,2), dtype=int)\n",
    "\n",
    "b"
   ]
  },
  {
   "cell_type": "markdown",
   "id": "e9679d74",
   "metadata": {},
   "source": [
    "6. Print b."
   ]
  },
  {
   "cell_type": "code",
   "execution_count": 8,
   "id": "856471bb",
   "metadata": {},
   "outputs": [
    {
     "name": "stdout",
     "output_type": "stream",
     "text": [
      "[[[1 1]\n",
      "  [1 1]\n",
      "  [1 1]]\n",
      "\n",
      " [[1 1]\n",
      "  [1 1]\n",
      "  [1 1]]\n",
      "\n",
      " [[1 1]\n",
      "  [1 1]\n",
      "  [1 1]]\n",
      "\n",
      " [[1 1]\n",
      "  [1 1]\n",
      "  [1 1]]\n",
      "\n",
      " [[1 1]\n",
      "  [1 1]\n",
      "  [1 1]]]\n"
     ]
    }
   ],
   "source": [
    "print(b)"
   ]
  },
  {
   "cell_type": "markdown",
   "id": "0cd35d0d",
   "metadata": {},
   "source": [
    "7. Do a and b have the same size? How do you prove that in Python code?"
   ]
  },
  {
   "cell_type": "code",
   "execution_count": 9,
   "id": "1f9c5f1b",
   "metadata": {},
   "outputs": [
    {
     "data": {
      "text/plain": [
       "True"
      ]
     },
     "execution_count": 9,
     "metadata": {},
     "output_type": "execute_result"
    }
   ],
   "source": [
    "a.size == b.size  #Tienen el mismo numero de elementos, pero no la misma forma..."
   ]
  },
  {
   "cell_type": "code",
   "execution_count": 10,
   "id": "85c1c20f",
   "metadata": {},
   "outputs": [
    {
     "name": "stdout",
     "output_type": "stream",
     "text": [
      "(2, 3, 5)\n",
      "(5, 3, 2)\n"
     ]
    },
    {
     "ename": "AttributeError",
     "evalue": "'numpy.ndarray' object has no attribute 's'",
     "output_type": "error",
     "traceback": [
      "\u001b[1;31m---------------------------------------------------------------------------\u001b[0m",
      "\u001b[1;31mAttributeError\u001b[0m                            Traceback (most recent call last)",
      "Input \u001b[1;32mIn [10]\u001b[0m, in \u001b[0;36m<cell line: 6>\u001b[1;34m()\u001b[0m\n\u001b[0;32m      4\u001b[0m test1 \u001b[38;5;241m=\u001b[39m []\n\u001b[0;32m      5\u001b[0m test2 \u001b[38;5;241m=\u001b[39m []\n\u001b[1;32m----> 6\u001b[0m \u001b[38;5;28mprint\u001b[39m(a\u001b[38;5;241m.\u001b[39mshape \u001b[38;5;241m==\u001b[39m \u001b[43mb\u001b[49m\u001b[38;5;241;43m.\u001b[39;49m\u001b[43ms\u001b[49m)\n",
      "\u001b[1;31mAttributeError\u001b[0m: 'numpy.ndarray' object has no attribute 's'"
     ]
    }
   ],
   "source": [
    "print(a.shape)\n",
    "print(b.shape)\n",
    "test = []\n",
    "test1 = []\n",
    "test2 = []\n",
    "print(a.shape == b.s)"
   ]
  },
  {
   "cell_type": "markdown",
   "id": "bcecf249",
   "metadata": {},
   "source": [
    "8. Are you able to add a and b? Why or why not?"
   ]
  },
  {
   "cell_type": "code",
   "execution_count": 11,
   "id": "21bc58d3",
   "metadata": {},
   "outputs": [
    {
     "ename": "ValueError",
     "evalue": "operands could not be broadcast together with shapes (2,3,5) (5,3,2) ",
     "output_type": "error",
     "traceback": [
      "\u001b[1;31m---------------------------------------------------------------------------\u001b[0m",
      "\u001b[1;31mValueError\u001b[0m                                Traceback (most recent call last)",
      "Input \u001b[1;32mIn [11]\u001b[0m, in \u001b[0;36m<cell line: 1>\u001b[1;34m()\u001b[0m\n\u001b[1;32m----> 1\u001b[0m test \u001b[38;5;241m=\u001b[39m \u001b[43ma\u001b[49m\u001b[43m \u001b[49m\u001b[38;5;241;43m+\u001b[39;49m\u001b[43m \u001b[49m\u001b[43mb\u001b[49m\n",
      "\u001b[1;31mValueError\u001b[0m: operands could not be broadcast together with shapes (2,3,5) (5,3,2) "
     ]
    }
   ],
   "source": [
    "test = a + b  #It is nor possible, as to be able to add one matrix to another one the have to have the same shape!!!\n",
    "\n",
    "\n"
   ]
  },
  {
   "cell_type": "markdown",
   "id": "9811cfe7",
   "metadata": {},
   "source": [
    "9. Transpose b so that it has the same structure of a (i.e. become a 2x3x5 array). Assign the transposed array to varialbe \"c\"."
   ]
  },
  {
   "cell_type": "code",
   "execution_count": 12,
   "id": "824df698",
   "metadata": {},
   "outputs": [
    {
     "data": {
      "text/plain": [
       "array([[[1, 1, 1, 1, 1],\n",
       "        [1, 1, 1, 1, 1],\n",
       "        [1, 1, 1, 1, 1]],\n",
       "\n",
       "       [[1, 1, 1, 1, 1],\n",
       "        [1, 1, 1, 1, 1],\n",
       "        [1, 1, 1, 1, 1]]])"
      ]
     },
     "execution_count": 12,
     "metadata": {},
     "output_type": "execute_result"
    }
   ],
   "source": [
    "c = b.T\n",
    "\n",
    "c"
   ]
  },
  {
   "cell_type": "markdown",
   "id": "45b1865d",
   "metadata": {},
   "source": [
    "10. Try to add a and c. Now it should work. Assign the sum to varialbe \"d\". But why does it work now?"
   ]
  },
  {
   "cell_type": "code",
   "execution_count": 13,
   "id": "1f9b43ee",
   "metadata": {},
   "outputs": [
    {
     "name": "stdout",
     "output_type": "stream",
     "text": [
      "\n",
      "(2, 3, 5)==(2, 3, 5)\n",
      "\n",
      " (2, 3, 5) == (2, 3, 5)\n"
     ]
    }
   ],
   "source": [
    "d = a + c\n",
    "\n",
    "\n",
    "\n",
    "#It works because they have the same shape.\n",
    "\n",
    "print('\\n'+str(a.shape) + '==' + str(c.shape))\n",
    "\n",
    "print('\\n', a.shape , '==' , c.shape)"
   ]
  },
  {
   "cell_type": "markdown",
   "id": "3c33df33",
   "metadata": {},
   "source": [
    "11. Print a and d. Notice the difference and relation of the two array in terms of the values? Explain."
   ]
  },
  {
   "cell_type": "code",
   "execution_count": 14,
   "id": "7a753979",
   "metadata": {},
   "outputs": [
    {
     "name": "stdout",
     "output_type": "stream",
     "text": [
      "a = [[[0.19512706 0.00114373 0.3528512  0.69625532 0.54828694]\n",
      "  [0.15801888 0.90771462 0.15266291 0.45054656 0.0548249 ]\n",
      "  [0.40091423 0.94837496 0.99145819 0.22135467 0.37432145]]\n",
      "\n",
      " [[0.7258349  0.76479034 0.12317046 0.34384309 0.77901889]\n",
      "  [0.8932527  0.49447792 0.0310684  0.30697268 0.10161833]\n",
      "  [0.71064577 0.78331499 0.82981923 0.90440866 0.24970162]]]\n",
      "\n",
      "\n",
      "d =  [[[1.19512706 1.00114373 1.3528512  1.69625532 1.54828694]\n",
      "  [1.15801888 1.90771462 1.15266291 1.45054656 1.0548249 ]\n",
      "  [1.40091423 1.94837496 1.99145819 1.22135467 1.37432145]]\n",
      "\n",
      " [[1.7258349  1.76479034 1.12317046 1.34384309 1.77901889]\n",
      "  [1.8932527  1.49447792 1.0310684  1.30697268 1.10161833]\n",
      "  [1.71064577 1.78331499 1.82981923 1.90440866 1.24970162]]]\n"
     ]
    }
   ],
   "source": [
    "print('a =',a)\n",
    "print('\\n')\n",
    "print('d = ',d)"
   ]
  },
  {
   "cell_type": "markdown",
   "id": "f936b550",
   "metadata": {},
   "source": [
    "12. Multiply a and c. Assign the result to e."
   ]
  },
  {
   "cell_type": "code",
   "execution_count": 15,
   "id": "02f9bc4e",
   "metadata": {},
   "outputs": [
    {
     "name": "stdout",
     "output_type": "stream",
     "text": [
      "(2, 3, 5)\n",
      "\n",
      "\n",
      "[[[0.19512706 0.00114373 0.3528512  0.69625532 0.54828694]\n",
      "  [0.15801888 0.90771462 0.15266291 0.45054656 0.0548249 ]\n",
      "  [0.40091423 0.94837496 0.99145819 0.22135467 0.37432145]]\n",
      "\n",
      " [[0.7258349  0.76479034 0.12317046 0.34384309 0.77901889]\n",
      "  [0.8932527  0.49447792 0.0310684  0.30697268 0.10161833]\n",
      "  [0.71064577 0.78331499 0.82981923 0.90440866 0.24970162]]]\n",
      "\n",
      "\n",
      "(2, 3, 5)\n",
      "\n",
      "\n",
      "[[[0.19512706 0.00114373 0.3528512  0.69625532 0.54828694]\n",
      "  [0.15801888 0.90771462 0.15266291 0.45054656 0.0548249 ]\n",
      "  [0.40091423 0.94837496 0.99145819 0.22135467 0.37432145]]\n",
      "\n",
      " [[0.7258349  0.76479034 0.12317046 0.34384309 0.77901889]\n",
      "  [0.8932527  0.49447792 0.0310684  0.30697268 0.10161833]\n",
      "  [0.71064577 0.78331499 0.82981923 0.90440866 0.24970162]]]\n",
      "\n",
      "\n"
     ]
    }
   ],
   "source": [
    "e = a * c\n",
    "\n",
    "print(e.shape)\n",
    "print('\\n')\n",
    "print(e)\n",
    "print('\\n')\n",
    "\n",
    "e = np.multiply(a, c)\n",
    "\n",
    "print(e.shape)\n",
    "print('\\n')\n",
    "print(e)\n",
    "print('\\n')\n",
    "\n",
    "#e = np.dot(a,b) #metodo no ejecutable\n",
    "\n",
    "# print(e.shape)\n",
    "#print('\\n')\n",
    "#print(e)\n",
    "#print('\\n')\n",
    "\n",
    "#e = np.matmul(a,c) #metodo no ejecutable\n",
    "\n",
    "#print(e.shape)\n",
    "#print('\\n')\n",
    "#print(e)\n",
    "#print('\\n')"
   ]
  },
  {
   "cell_type": "markdown",
   "id": "d82dcdd8",
   "metadata": {},
   "source": [
    "13. Does e equal to a? Why or why not?"
   ]
  },
  {
   "cell_type": "code",
   "execution_count": 16,
   "id": "e7ebd4c0",
   "metadata": {},
   "outputs": [
    {
     "data": {
      "text/plain": [
       "array([[[ True,  True,  True,  True,  True],\n",
       "        [ True,  True,  True,  True,  True],\n",
       "        [ True,  True,  True,  True,  True]],\n",
       "\n",
       "       [[ True,  True,  True,  True,  True],\n",
       "        [ True,  True,  True,  True,  True],\n",
       "        [ True,  True,  True,  True,  True]]])"
      ]
     },
     "execution_count": 16,
     "metadata": {},
     "output_type": "execute_result"
    }
   ],
   "source": [
    "\n",
    "'''\n",
    "Al multiplicar por los métodos que han funcionado se multiplica elemento a elemento, \n",
    "y en este caso al haber multiplicado una matriz random por una llena de 1s el resultado es la misma matriz random.\n",
    "\n",
    "'''\n",
    "\n",
    "np.equal(a, e) "
   ]
  },
  {
   "cell_type": "markdown",
   "id": "ed126434",
   "metadata": {},
   "source": [
    "14. Identify the max, min, and mean values in d. Assign those values to variables \"d_max\", \"d_min\", and \"d_mean\""
   ]
  },
  {
   "cell_type": "code",
   "execution_count": 17,
   "id": "cb3d0e1c",
   "metadata": {},
   "outputs": [
    {
     "name": "stdout",
     "output_type": "stream",
     "text": [
      "[[[1.19512706 1.00114373 1.3528512  1.69625532 1.54828694]\n",
      "  [1.15801888 1.90771462 1.15266291 1.45054656 1.0548249 ]\n",
      "  [1.40091423 1.94837496 1.99145819 1.22135467 1.37432145]]\n",
      "\n",
      " [[1.7258349  1.76479034 1.12317046 1.34384309 1.77901889]\n",
      "  [1.8932527  1.49447792 1.0310684  1.30697268 1.10161833]\n",
      "  [1.71064577 1.78331499 1.82981923 1.90440866 1.24970162]]]\n",
      "\n",
      "El máximo de la matriz d es =  1.991458188263589\n",
      "\n",
      "El minimo de la matriz d es =  1.0011437305807545\n",
      "\n",
      "La media de la matriz d es =  1.4831931207268367\n"
     ]
    }
   ],
   "source": [
    "print(d)\n",
    "\n",
    "d_max = d.max()\n",
    "print('\\nEl máximo de la matriz d es = ', d_max)\n",
    "d_min = d.min()\n",
    "print('\\nEl minimo de la matriz d es = ', d_min)\n",
    "d_mean = d.mean()\n",
    "print('\\nLa media de la matriz d es = ', d_mean)\n",
    "\n"
   ]
  },
  {
   "cell_type": "markdown",
   "id": "56b3e47c",
   "metadata": {},
   "source": [
    "15. Now we want to label the values in d. First create an empty array \"f\" with the same shape (i.e. 2x3x5) as d using `np.empty`."
   ]
  },
  {
   "cell_type": "code",
   "execution_count": 18,
   "id": "7176b110",
   "metadata": {},
   "outputs": [
    {
     "data": {
      "text/plain": [
       "array([[[0, 0, 0, 0, 0],\n",
       "        [0, 0, 0, 0, 0],\n",
       "        [0, 0, 0, 0, 0]],\n",
       "\n",
       "       [[0, 0, 0, 0, 0],\n",
       "        [0, 0, 0, 0, 0],\n",
       "        [0, 0, 0, 0, 0]]])"
      ]
     },
     "execution_count": 18,
     "metadata": {},
     "output_type": "execute_result"
    }
   ],
   "source": [
    "f = np.empty((2,3,5), dtype=int)\n",
    "\n",
    "f"
   ]
  },
  {
   "cell_type": "markdown",
   "id": "3b5a67ae",
   "metadata": {},
   "source": [
    "16. Populate the values in f. For each value in d, if it's larger than d_min but smaller than d_mean, assign 25 to the corresponding value in f.\n",
    "If a value in d is larger than d_mean but smaller than d_max, assign 75 to the corresponding value in f.\n",
    "If a value equals to d_mean, assign 50 to the corresponding value in f.\n",
    "Assign 0 to the corresponding value(s) in f for d_min in d.\n",
    "Assign 100 to the corresponding value(s) in f for d_max in d.\n",
    "In the end, f should have only the following values: 0, 25, 50, 75, and 100.\n",
    "Note: you don't have to use Numpy in this question."
   ]
  },
  {
   "cell_type": "code",
   "execution_count": 19,
   "id": "cfd5e321",
   "metadata": {},
   "outputs": [
    {
     "data": {
      "text/plain": [
       "array([[[ 25,   0,  25,  75,  75],\n",
       "        [ 25,  75,  25,  25,  25],\n",
       "        [ 25,  75, 100,  25,  25]],\n",
       "\n",
       "       [[ 75,  75,  25,  25,  75],\n",
       "        [ 75,  75,  25,  25,  25],\n",
       "        [ 75,  75,  75,  75,  25]]])"
      ]
     },
     "execution_count": 19,
     "metadata": {},
     "output_type": "execute_result"
    }
   ],
   "source": [
    "f = np.where(d==d_min, 0,f)\n",
    "\n",
    "f = np.where((d>d_min)&(d<d_mean), 25,f)\n",
    "\n",
    "f = np.where(d==d_mean, 50,f)\n",
    "\n",
    "f = np.where((d<d_max)&(d>d_mean), 75,f)\n",
    "\n",
    "f = np.where(d==d_max, 100,f)\n",
    "\n",
    "\n",
    "\n",
    "'''\n",
    "print(d)\n",
    "\n",
    "d_max = d.max()\n",
    "print('\\nEl máximo de la matriz d es = ', d_max)\n",
    "d_min = d.min()\n",
    "print('\\nEl minimo de la matriz d es = ', d_min)\n",
    "d_mean = d.mean()\n",
    "print('\\nLa media de la matriz d es = ', d_mean)\n",
    "\n",
    "\n",
    "\n",
    "'''\n",
    "\n",
    "f"
   ]
  },
  {
   "cell_type": "markdown",
   "id": "e9541bdc",
   "metadata": {},
   "source": [
    "17. Print d and f. Do you have your expected f?\n",
    "For instance, if your d is:\n",
    "\n",
    "array([[[1.85836099, 1.67064465, 1.62576044, 1.40243961, 1.88454931],[1.75354326, 1.69403643, 1.36729252, 1.61415071, 1.12104981],[1.72201435, 1.1862918 , 1.87078449, 1.7726778 , 1.88180042]],[[1.44747908, 1.31673383, 1.02000951, 1.52218947, 1.97066381],[1.79129243, 1.74983003, 1.96028037, 1.85166831, 1.65450881],[1.18068344, 1.9587381 , 1.00656599, 1.93402165, 1.73514584]]])\n",
    "\n",
    "Your f should be:\n",
    "\n",
    "array([[[ 75.,  75.,  75.,  25.,  75.],[ 75.,  75.,  25.,  25.,  25.],[ 75.,  25.,  75.,  75.,  75.]],\n",
    " [[ 25.,  25.,  25.,  25., 100.],[ 75.,  75.,  75.,  75.,  75.],[ 25.,  75.,   0.,  75.,  75.]]])"
   ]
  },
  {
   "cell_type": "code",
   "execution_count": 20,
   "id": "70776862",
   "metadata": {},
   "outputs": [
    {
     "name": "stdout",
     "output_type": "stream",
     "text": [
      "[[[1.19512706 1.00114373 1.3528512  1.69625532 1.54828694]\n",
      "  [1.15801888 1.90771462 1.15266291 1.45054656 1.0548249 ]\n",
      "  [1.40091423 1.94837496 1.99145819 1.22135467 1.37432145]]\n",
      "\n",
      " [[1.7258349  1.76479034 1.12317046 1.34384309 1.77901889]\n",
      "  [1.8932527  1.49447792 1.0310684  1.30697268 1.10161833]\n",
      "  [1.71064577 1.78331499 1.82981923 1.90440866 1.24970162]]]\n",
      "\n",
      "\n",
      "\n",
      "El máximo de la matriz d es =  1.991458188263589\n",
      "\n",
      "El minimo de la matriz d es =  1.0011437305807545\n",
      "\n",
      "La media de la matriz d es =  1.4831931207268367\n",
      "\n",
      "\n",
      "[[[ 25   0  25  75  75]\n",
      "  [ 25  75  25  25  25]\n",
      "  [ 25  75 100  25  25]]\n",
      "\n",
      " [[ 75  75  25  25  75]\n",
      "  [ 75  75  25  25  25]\n",
      "  [ 75  75  75  75  25]]]\n"
     ]
    }
   ],
   "source": [
    "print(d)\n",
    "print('\\n')\n",
    "\n",
    "d_max = d.max()\n",
    "print('\\nEl máximo de la matriz d es = ', d_max)\n",
    "d_min = d.min()\n",
    "print('\\nEl minimo de la matriz d es = ', d_min)\n",
    "d_mean = d.mean()\n",
    "print('\\nLa media de la matriz d es = ', d_mean)\n",
    "print('\\n')\n",
    "print(f)\n",
    "\n"
   ]
  },
  {
   "cell_type": "markdown",
   "id": "cf68c6b3",
   "metadata": {},
   "source": [
    "18. Bonus question: instead of using numbers (i.e. 0, 25, 50, 75, and 100), how to use string values \n",
    "(\"A\", \"B\", \"C\", \"D\", and \"E\") to label the array elements? You are expecting the result to be:\n",
    "array([[[ 'D',  'D',  'D',  'B',  'D'],\n",
    "        [ 'D',  'D',  'B',  'B',  'B'],\n",
    "        [ 'D',  'B',  'D',  'D',  'D']],\n",
    "\n",
    "       [[ 'B',  'B',  'B',  'B',  'E'],\n",
    "        [ 'D',  'D',  'D',  'D',  'D'],\n",
    "        [ 'B',  'D',   'A',  'D', 'D']]])\n",
    "Again, you don't need Numpy in this question."
   ]
  },
  {
   "cell_type": "code",
   "execution_count": 21,
   "id": "b47cc85a",
   "metadata": {},
   "outputs": [
    {
     "name": "stdout",
     "output_type": "stream",
     "text": [
      "[[['B' 'A' 'B' 'D' 'D']\n",
      "  ['B' 'D' 'B' 'B' 'B']\n",
      "  ['B' 'D' 'E' 'B' 'B']]\n",
      "\n",
      " [['D' 'D' 'B' 'B' 'D']\n",
      "  ['D' 'D' 'B' 'B' 'B']\n",
      "  ['D' 'D' 'D' 'D' 'B']]]\n"
     ]
    }
   ],
   "source": [
    "g = np.empty((2,3,5), dtype=int)\n",
    "\n",
    "\n",
    "g = np.where(d==d_min, 'A',g)\n",
    "\n",
    "g = np.where((d>d_min)&(d<d_mean), 'B',g)\n",
    "\n",
    "g = np.where(d==d_mean, 'C',g)\n",
    "\n",
    "g = np.where((d<d_max)&(d>d_mean), 'D',g)\n",
    "\n",
    "g = np.where(d==d_max, 'E',g)\n",
    "\n",
    "print(g)\n"
   ]
  },
  {
   "cell_type": "code",
   "execution_count": null,
   "id": "4d423672",
   "metadata": {},
   "outputs": [],
   "source": []
  }
 ],
 "metadata": {
  "kernelspec": {
   "display_name": "Python 3 (ipykernel)",
   "language": "python",
   "name": "python3"
  },
  "language_info": {
   "codemirror_mode": {
    "name": "ipython",
    "version": 3
   },
   "file_extension": ".py",
   "mimetype": "text/x-python",
   "name": "python",
   "nbconvert_exporter": "python",
   "pygments_lexer": "ipython3",
   "version": "3.10.4"
  }
 },
 "nbformat": 4,
 "nbformat_minor": 5
}
