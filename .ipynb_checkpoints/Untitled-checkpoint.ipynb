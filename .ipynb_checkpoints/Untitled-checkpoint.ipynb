{
 "cells": [
  {
   "cell_type": "code",
   "execution_count": 1,
   "id": "ba04107a",
   "metadata": {},
   "outputs": [
    {
     "name": "stdout",
     "output_type": "stream",
     "text": [
      "Requirement already satisfied: numpy in /Users/jaimemanrique/opt/anaconda3/lib/python3.9/site-packages (1.21.5)\n",
      "Note: you may need to restart the kernel to use updated packages.\n"
     ]
    }
   ],
   "source": [
    "pip install numpy"
   ]
  },
  {
   "cell_type": "code",
   "execution_count": 2,
   "id": "8d4250a2",
   "metadata": {},
   "outputs": [],
   "source": [
    "import numpy as np"
   ]
  },
  {
   "cell_type": "code",
   "execution_count": 4,
   "id": "bb7fdd5e",
   "metadata": {},
   "outputs": [
    {
     "name": "stdout",
     "output_type": "stream",
     "text": [
      "1.21.5\n"
     ]
    }
   ],
   "source": [
    "print(np.__version__)"
   ]
  },
  {
   "cell_type": "code",
   "execution_count": 9,
   "id": "5fe27667",
   "metadata": {},
   "outputs": [
    {
     "data": {
      "text/plain": [
       "array([[[0.95230038, 0.02321893, 0.71073212, 0.63770448, 0.03252311],\n",
       "        [0.89646542, 0.0612071 , 0.64833992, 0.41120757, 0.4953051 ],\n",
       "        [0.44941575, 0.36676199, 0.89787761, 0.09167982, 0.63719121]],\n",
       "\n",
       "       [[0.31487424, 0.40429135, 0.59994238, 0.39012276, 0.08015369],\n",
       "        [0.33120252, 0.20099493, 0.36531321, 0.37586649, 0.24028187],\n",
       "        [0.99669321, 0.81465854, 0.14307824, 0.72779786, 0.72792916]]])"
      ]
     },
     "execution_count": 9,
     "metadata": {},
     "output_type": "execute_result"
    }
   ],
   "source": [
    "#3. Generate a 2x3x5 3-dimensional array with random values. Assign the array to variable \"a\"\n",
    "# Challenge: there are at least three easy ways that use numpy to generate random arrays. How many ways can you find?\n",
    "a = np.random.random((2,3,5))\n",
    "a"
   ]
  },
  {
   "cell_type": "code",
   "execution_count": 14,
   "id": "d311408e",
   "metadata": {},
   "outputs": [
    {
     "data": {
      "text/plain": [
       "array([[[1, 1, 1],\n",
       "        [1, 1, 1]],\n",
       "\n",
       "       [[1, 1, 1],\n",
       "        [1, 1, 1]],\n",
       "\n",
       "       [[1, 1, 1],\n",
       "        [1, 1, 1]],\n",
       "\n",
       "       [[1, 1, 1],\n",
       "        [1, 1, 1]],\n",
       "\n",
       "       [[1, 1, 1],\n",
       "        [1, 1, 1]]])"
      ]
     },
     "execution_count": 14,
     "metadata": {},
     "output_type": "execute_result"
    }
   ],
   "source": [
    "b = np.ones((5,2,3),dtype = int)\n",
    "b"
   ]
  },
  {
   "cell_type": "code",
   "execution_count": 17,
   "id": "986e2cbc",
   "metadata": {},
   "outputs": [
    {
     "data": {
      "text/plain": [
       "True"
      ]
     },
     "execution_count": 17,
     "metadata": {},
     "output_type": "execute_result"
    }
   ],
   "source": [
    "np.size(a) == np.size(b)"
   ]
  },
  {
   "cell_type": "code",
   "execution_count": 23,
   "id": "6ef777d4",
   "metadata": {},
   "outputs": [
    {
     "data": {
      "text/plain": [
       "array([[[1, 1, 1, 1, 1],\n",
       "        [1, 1, 1, 1, 1],\n",
       "        [1, 1, 1, 1, 1]],\n",
       "\n",
       "       [[1, 1, 1, 1, 1],\n",
       "        [1, 1, 1, 1, 1],\n",
       "        [1, 1, 1, 1, 1]]])"
      ]
     },
     "execution_count": 23,
     "metadata": {},
     "output_type": "execute_result"
    }
   ],
   "source": [
    "c = np.reshape(b,(2,3,5))\n",
    "c\n",
    "# "
   ]
  },
  {
   "cell_type": "code",
   "execution_count": 27,
   "id": "5a10a5be",
   "metadata": {},
   "outputs": [
    {
     "data": {
      "text/plain": [
       "array([[[1.95230038, 1.02321893, 1.71073212, 1.63770448, 1.03252311],\n",
       "        [1.89646542, 1.0612071 , 1.64833992, 1.41120757, 1.4953051 ],\n",
       "        [1.44941575, 1.36676199, 1.89787761, 1.09167982, 1.63719121]],\n",
       "\n",
       "       [[1.31487424, 1.40429135, 1.59994238, 1.39012276, 1.08015369],\n",
       "        [1.33120252, 1.20099493, 1.36531321, 1.37586649, 1.24028187],\n",
       "        [1.99669321, 1.81465854, 1.14307824, 1.72779786, 1.72792916]]])"
      ]
     },
     "execution_count": 27,
     "metadata": {},
     "output_type": "execute_result"
    }
   ],
   "source": [
    "d = a + c\n",
    "d"
   ]
  },
  {
   "cell_type": "code",
   "execution_count": 29,
   "id": "7fac607e",
   "metadata": {},
   "outputs": [
    {
     "name": "stdout",
     "output_type": "stream",
     "text": [
      "[[[0.95230038 0.02321893 0.71073212 0.63770448 0.03252311]\n",
      "  [0.89646542 0.0612071  0.64833992 0.41120757 0.4953051 ]\n",
      "  [0.44941575 0.36676199 0.89787761 0.09167982 0.63719121]]\n",
      "\n",
      " [[0.31487424 0.40429135 0.59994238 0.39012276 0.08015369]\n",
      "  [0.33120252 0.20099493 0.36531321 0.37586649 0.24028187]\n",
      "  [0.99669321 0.81465854 0.14307824 0.72779786 0.72792916]]]\n",
      "[[[1.95230038 1.02321893 1.71073212 1.63770448 1.03252311]\n",
      "  [1.89646542 1.0612071  1.64833992 1.41120757 1.4953051 ]\n",
      "  [1.44941575 1.36676199 1.89787761 1.09167982 1.63719121]]\n",
      "\n",
      " [[1.31487424 1.40429135 1.59994238 1.39012276 1.08015369]\n",
      "  [1.33120252 1.20099493 1.36531321 1.37586649 1.24028187]\n",
      "  [1.99669321 1.81465854 1.14307824 1.72779786 1.72792916]]]\n"
     ]
    }
   ],
   "source": [
    "print(a)\n",
    "print(d)"
   ]
  },
  {
   "cell_type": "code",
   "execution_count": 31,
   "id": "1a6c3301",
   "metadata": {},
   "outputs": [
    {
     "data": {
      "text/plain": [
       "array([[[0.95230038, 0.02321893, 0.71073212, 0.63770448, 0.03252311],\n",
       "        [0.89646542, 0.0612071 , 0.64833992, 0.41120757, 0.4953051 ],\n",
       "        [0.44941575, 0.36676199, 0.89787761, 0.09167982, 0.63719121]],\n",
       "\n",
       "       [[0.31487424, 0.40429135, 0.59994238, 0.39012276, 0.08015369],\n",
       "        [0.33120252, 0.20099493, 0.36531321, 0.37586649, 0.24028187],\n",
       "        [0.99669321, 0.81465854, 0.14307824, 0.72779786, 0.72792916]]])"
      ]
     },
     "execution_count": 31,
     "metadata": {},
     "output_type": "execute_result"
    }
   ],
   "source": [
    "e = a*c\n",
    "e"
   ]
  },
  {
   "cell_type": "code",
   "execution_count": 33,
   "id": "82b7c28b",
   "metadata": {},
   "outputs": [
    {
     "data": {
      "text/plain": [
       "True"
      ]
     },
     "execution_count": 33,
     "metadata": {},
     "output_type": "execute_result"
    }
   ],
   "source": [
    "np.array_equal(e,a)"
   ]
  },
  {
   "cell_type": "code",
   "execution_count": 35,
   "id": "149ece88",
   "metadata": {},
   "outputs": [
    {
     "name": "stdout",
     "output_type": "stream",
     "text": [
      "1.9966932092988223\n"
     ]
    }
   ],
   "source": [
    "d_max = np.max(d)\n",
    "print(d_max)"
   ]
  },
  {
   "cell_type": "code",
   "execution_count": 37,
   "id": "f0bec152",
   "metadata": {},
   "outputs": [
    {
     "name": "stdout",
     "output_type": "stream",
     "text": [
      "1.023218925255871\n"
     ]
    }
   ],
   "source": [
    "d_min = np.min(d)\n",
    "print(d_min)"
   ]
  },
  {
   "cell_type": "code",
   "execution_count": 38,
   "id": "a34ca4a1",
   "metadata": {},
   "outputs": [
    {
     "name": "stdout",
     "output_type": "stream",
     "text": [
      "1.467504365143275\n"
     ]
    }
   ],
   "source": [
    "d_mean = np.mean(d)\n",
    "print(d_mean)"
   ]
  },
  {
   "cell_type": "code",
   "execution_count": 40,
   "id": "0c3e65ac",
   "metadata": {},
   "outputs": [
    {
     "data": {
      "text/plain": [
       "array([[[0.95230038, 0.02321893, 0.71073212, 0.63770448, 0.03252311],\n",
       "        [0.89646542, 0.0612071 , 0.64833992, 0.41120757, 0.4953051 ],\n",
       "        [0.44941575, 0.36676199, 0.89787761, 0.09167982, 0.63719121]],\n",
       "\n",
       "       [[0.31487424, 0.40429135, 0.59994238, 0.39012276, 0.08015369],\n",
       "        [0.33120252, 0.20099493, 0.36531321, 0.37586649, 0.24028187],\n",
       "        [0.99669321, 0.81465854, 0.14307824, 0.72779786, 0.72792916]]])"
      ]
     },
     "execution_count": 40,
     "metadata": {},
     "output_type": "execute_result"
    }
   ],
   "source": [
    "f = np.empty((2,3,5), dtype = float)\n",
    "f"
   ]
  },
  {
   "cell_type": "markdown",
   "id": "d2506365",
   "metadata": {},
   "source": [
    "#16. Populate the values in f. For each value in d, if it's larger than d_min but smaller than d_mean, assign 25 to the corresponding value in f.\n",
    "If a value in d is larger than d_mean but smaller than d_max, assign 75 to the corresponding value in f.\n",
    "If a value equals to d_mean, assign 50 to the corresponding value in f.\n",
    "Assign 0 to the corresponding value(s) in f for d_min in d.\n",
    "Assign 100 to the corresponding value(s) in f for d_max in d.\n",
    "In the end, f should have only the following values: 0, 25, 50, 75, and 100.\n",
    "Note: you don't have to use Numpy in this question."
   ]
  },
  {
   "cell_type": "code",
   "execution_count": 70,
   "id": "69b24955",
   "metadata": {
    "scrolled": true
   },
   "outputs": [
    {
     "data": {
      "text/plain": [
       "array([[[91, 75, 91, 91, 91],\n",
       "        [91, 91, 91, 91, 91],\n",
       "        [91, 91, 91, 91, 91]],\n",
       "\n",
       "       [[91, 91, 91, 91, 91],\n",
       "        [91, 91, 91, 91, 91],\n",
       "        [75, 91, 91, 91, 91]]])"
      ]
     },
     "execution_count": 70,
     "metadata": {},
     "output_type": "execute_result"
    }
   ],
   "source": [
    "f = np.where((d> d_min) & (d< d_mean),25,75)|np.where((d> d_mean) & (d< d_max),25,75)\n",
    "f"
   ]
  },
  {
   "cell_type": "code",
   "execution_count": 71,
   "id": "1d4ded31",
   "metadata": {},
   "outputs": [
    {
     "data": {
      "text/plain": [
       "array([[[ 25,   0,  25,  25,  75],\n",
       "        [ 25,  75,  25,  75,  25],\n",
       "        [ 75,  75,  25,  75,  25]],\n",
       "\n",
       "       [[ 75,  75,  25,  75,  75],\n",
       "        [ 75,  75,  75,  75,  75],\n",
       "        [100,  25,  75,  25,  25]]])"
      ]
     },
     "execution_count": 71,
     "metadata": {},
     "output_type": "execute_result"
    }
   ],
   "source": [
    "f = np.where((d> d_mean) & (d< d_max),\n",
    "             25,\n",
    "             np.where(d == d_mean,\n",
    "                      50,\n",
    "                      np.where(d == d_min,\n",
    "                               0,\n",
    "                               np.where (d == d_max,100,75))))\n",
    "f    "
   ]
  },
  {
   "cell_type": "code",
   "execution_count": 72,
   "id": "bd64b2a3",
   "metadata": {},
   "outputs": [
    {
     "data": {
      "text/plain": [
       "array([[[ 25,   0,  25,  25,  75],\n",
       "        [ 25,  75,  25,  75,  25],\n",
       "        [ 75,  75,  25,  75,  25]],\n",
       "\n",
       "       [[ 75,  75,  25,  75,  75],\n",
       "        [ 75,  75,  75,  75,  75],\n",
       "        [100,  25,  75,  25,  25]]])"
      ]
     },
     "execution_count": 72,
     "metadata": {},
     "output_type": "execute_result"
    }
   ],
   "source": [
    "f"
   ]
  },
  {
   "cell_type": "code",
   "execution_count": 73,
   "id": "3ddd7216",
   "metadata": {},
   "outputs": [
    {
     "data": {
      "text/plain": [
       "array([[[1.95230038, 1.02321893, 1.71073212, 1.63770448, 1.03252311],\n",
       "        [1.89646542, 1.0612071 , 1.64833992, 1.41120757, 1.4953051 ],\n",
       "        [1.44941575, 1.36676199, 1.89787761, 1.09167982, 1.63719121]],\n",
       "\n",
       "       [[1.31487424, 1.40429135, 1.59994238, 1.39012276, 1.08015369],\n",
       "        [1.33120252, 1.20099493, 1.36531321, 1.37586649, 1.24028187],\n",
       "        [1.99669321, 1.81465854, 1.14307824, 1.72779786, 1.72792916]]])"
      ]
     },
     "execution_count": 73,
     "metadata": {},
     "output_type": "execute_result"
    }
   ],
   "source": [
    "d"
   ]
  },
  {
   "cell_type": "code",
   "execution_count": null,
   "id": "1ef95810",
   "metadata": {},
   "outputs": [],
   "source": []
  }
 ],
 "metadata": {
  "kernelspec": {
   "display_name": "Python 3 (ipykernel)",
   "language": "python",
   "name": "python3"
  },
  "language_info": {
   "codemirror_mode": {
    "name": "ipython",
    "version": 3
   },
   "file_extension": ".py",
   "mimetype": "text/x-python",
   "name": "python",
   "nbconvert_exporter": "python",
   "pygments_lexer": "ipython3",
   "version": "3.9.12"
  }
 },
 "nbformat": 4,
 "nbformat_minor": 5
}
