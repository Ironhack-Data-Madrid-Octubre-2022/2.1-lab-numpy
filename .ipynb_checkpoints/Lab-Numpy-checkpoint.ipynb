{
 "cells": [
  {
   "cell_type": "markdown",
   "id": "261df004",
   "metadata": {},
   "source": [
    "## 1. Import the NUMPY package under the name np."
   ]
  },
  {
   "cell_type": "code",
   "execution_count": 1,
   "id": "01431d08",
   "metadata": {},
   "outputs": [],
   "source": [
    "\n",
    "import numpy as np"
   ]
  },
  {
   "cell_type": "markdown",
   "id": "446bfd86",
   "metadata": {},
   "source": [
    "## 2. Print the NUMPY version and the configuration."
   ]
  },
  {
   "cell_type": "code",
   "execution_count": 2,
   "id": "07f4650d",
   "metadata": {},
   "outputs": [
    {
     "name": "stdout",
     "output_type": "stream",
     "text": [
      "1.21.6\n",
      "blas_mkl_info:\n",
      "  NOT AVAILABLE\n",
      "blis_info:\n",
      "  NOT AVAILABLE\n",
      "openblas_info:\n",
      "    libraries = ['openblas', 'openblas']\n",
      "    library_dirs = ['/usr/local/lib']\n",
      "    language = c\n",
      "    define_macros = [('HAVE_CBLAS', None)]\n",
      "    runtime_library_dirs = ['/usr/local/lib']\n",
      "blas_opt_info:\n",
      "    libraries = ['openblas', 'openblas']\n",
      "    library_dirs = ['/usr/local/lib']\n",
      "    language = c\n",
      "    define_macros = [('HAVE_CBLAS', None)]\n",
      "    runtime_library_dirs = ['/usr/local/lib']\n",
      "lapack_mkl_info:\n",
      "  NOT AVAILABLE\n",
      "openblas_lapack_info:\n",
      "    libraries = ['openblas', 'openblas']\n",
      "    library_dirs = ['/usr/local/lib']\n",
      "    language = c\n",
      "    define_macros = [('HAVE_CBLAS', None)]\n",
      "    runtime_library_dirs = ['/usr/local/lib']\n",
      "lapack_opt_info:\n",
      "    libraries = ['openblas', 'openblas']\n",
      "    library_dirs = ['/usr/local/lib']\n",
      "    language = c\n",
      "    define_macros = [('HAVE_CBLAS', None)]\n",
      "    runtime_library_dirs = ['/usr/local/lib']\n",
      "Supported SIMD extensions in this NumPy install:\n",
      "    baseline = SSE,SSE2,SSE3\n",
      "    found = SSSE3,SSE41,POPCNT,SSE42,AVX,F16C,FMA3,AVX2\n",
      "    not found = AVX512F,AVX512CD,AVX512_KNL,AVX512_SKX,AVX512_CLX,AVX512_CNL,AVX512_ICL\n",
      "None\n"
     ]
    }
   ],
   "source": [
    "print(np.__version__)\n",
    "print(np.show_config())"
   ]
  },
  {
   "cell_type": "markdown",
   "id": "158be530",
   "metadata": {},
   "source": [
    "## 3. Generate a 2x3x5 3-dimensional array with random values. Assign the array to variable \"a\"\n",
    "Challenge: there are at least three easy ways that use numpy to generate random arrays. How many ways can you find?"
   ]
  },
  {
   "cell_type": "code",
   "execution_count": 9,
   "id": "18415502",
   "metadata": {},
   "outputs": [],
   "source": [
    "a=np.random.random((2, 3, 5))\n",
    "\n",
    "a2=np.random.rand(2, 3, 5)\n",
    "\n",
    "a3=np.random.randint(1,size=(2, 3, 5))"
   ]
  },
  {
   "cell_type": "markdown",
   "id": "4b06eeab",
   "metadata": {},
   "source": [
    "## 4. Print a."
   ]
  },
  {
   "cell_type": "code",
   "execution_count": 11,
   "id": "77c2fc70",
   "metadata": {},
   "outputs": [
    {
     "data": {
      "text/plain": [
       "array([[[0.48624538, 0.03940292, 0.21577047, 0.97375839, 0.60521012],\n",
       "        [0.62321788, 0.86913254, 0.51125656, 0.42774325, 0.84186588],\n",
       "        [0.82083582, 0.64326759, 0.53062658, 0.61940298, 0.46976695]],\n",
       "\n",
       "       [[0.97852872, 0.39090861, 0.75554055, 0.06601846, 0.10856371],\n",
       "        [0.52425879, 0.72024901, 0.39246395, 0.28832771, 0.05925264],\n",
       "        [0.6726172 , 0.43717394, 0.60205026, 0.531443  , 0.05918172]]])"
      ]
     },
     "execution_count": 11,
     "metadata": {},
     "output_type": "execute_result"
    }
   ],
   "source": [
    "a"
   ]
  },
  {
   "cell_type": "markdown",
   "id": "f7a84dd3",
   "metadata": {},
   "source": [
    "\n",
    "## 5. Create a 5x2x3 3-dimensional array with all values equaling 1.\n",
    "Assign the array to variable \"b\""
   ]
  },
  {
   "cell_type": "code",
   "execution_count": 21,
   "id": "b0bd214f",
   "metadata": {},
   "outputs": [
    {
     "data": {
      "text/plain": [
       "array([[[1, 1, 1],\n",
       "        [1, 1, 1]],\n",
       "\n",
       "       [[1, 1, 1],\n",
       "        [1, 1, 1]],\n",
       "\n",
       "       [[1, 1, 1],\n",
       "        [1, 1, 1]],\n",
       "\n",
       "       [[1, 1, 1],\n",
       "        [1, 1, 1]],\n",
       "\n",
       "       [[1, 1, 1],\n",
       "        [1, 1, 1]]])"
      ]
     },
     "execution_count": 21,
     "metadata": {},
     "output_type": "execute_result"
    }
   ],
   "source": [
    "b=np.random.randint(1,2,size=(5, 2, 3))\n",
    "b"
   ]
  },
  {
   "cell_type": "code",
   "execution_count": 23,
   "id": "50d500c0",
   "metadata": {},
   "outputs": [
    {
     "data": {
      "text/plain": [
       "array([[[1, 1, 1],\n",
       "        [1, 1, 1]],\n",
       "\n",
       "       [[1, 1, 1],\n",
       "        [1, 1, 1]],\n",
       "\n",
       "       [[1, 1, 1],\n",
       "        [1, 1, 1]],\n",
       "\n",
       "       [[1, 1, 1],\n",
       "        [1, 1, 1]],\n",
       "\n",
       "       [[1, 1, 1],\n",
       "        [1, 1, 1]]])"
      ]
     },
     "execution_count": 23,
     "metadata": {},
     "output_type": "execute_result"
    }
   ],
   "source": [
    "b=np.full((5,2,3),1)\n",
    "b"
   ]
  },
  {
   "cell_type": "markdown",
   "id": "f01a0e5d",
   "metadata": {},
   "source": [
    "## 6.Print b."
   ]
  },
  {
   "cell_type": "code",
   "execution_count": 24,
   "id": "71f875d6",
   "metadata": {},
   "outputs": [
    {
     "data": {
      "text/plain": [
       "array([[[1, 1, 1],\n",
       "        [1, 1, 1]],\n",
       "\n",
       "       [[1, 1, 1],\n",
       "        [1, 1, 1]],\n",
       "\n",
       "       [[1, 1, 1],\n",
       "        [1, 1, 1]],\n",
       "\n",
       "       [[1, 1, 1],\n",
       "        [1, 1, 1]],\n",
       "\n",
       "       [[1, 1, 1],\n",
       "        [1, 1, 1]]])"
      ]
     },
     "execution_count": 24,
     "metadata": {},
     "output_type": "execute_result"
    }
   ],
   "source": [
    "b"
   ]
  },
  {
   "cell_type": "markdown",
   "id": "04e33e62",
   "metadata": {},
   "source": [
    "## 7. Do a and b have the same size? How do you prove that in Python code?"
   ]
  },
  {
   "cell_type": "code",
   "execution_count": 31,
   "id": "c77ac41f",
   "metadata": {},
   "outputs": [
    {
     "name": "stdout",
     "output_type": "stream",
     "text": [
      "(2, 3, 5)\n",
      "(5, 2, 3)\n"
     ]
    },
    {
     "data": {
      "text/plain": [
       "False"
      ]
     },
     "execution_count": 31,
     "metadata": {},
     "output_type": "execute_result"
    }
   ],
   "source": [
    "print( a.shape)\n",
    "print( b.shape)\n",
    "a.shape == b.shape\n"
   ]
  },
  {
   "cell_type": "markdown",
   "id": "4b91cffa",
   "metadata": {},
   "source": [
    "## 8. Are you able to add a and b? Why or why not?"
   ]
  },
  {
   "cell_type": "code",
   "execution_count": null,
   "id": "d91b7a82",
   "metadata": {},
   "outputs": [],
   "source": [
    "#No, ya que las dimensiones son distintas"
   ]
  },
  {
   "cell_type": "markdown",
   "id": "8bc6a9f4",
   "metadata": {},
   "source": [
    "## 9. Transpose b so that it has the same structure of a (i.e. become a 2x3x5 array). Assign the transposed array to varialbe \"c\"."
   ]
  },
  {
   "cell_type": "code",
   "execution_count": 45,
   "id": "d2cedc38",
   "metadata": {},
   "outputs": [
    {
     "data": {
      "text/plain": [
       "array([[[1, 1, 1, 1, 1],\n",
       "        [1, 1, 1, 1, 1],\n",
       "        [1, 1, 1, 1, 1]],\n",
       "\n",
       "       [[1, 1, 1, 1, 1],\n",
       "        [1, 1, 1, 1, 1],\n",
       "        [1, 1, 1, 1, 1]]])"
      ]
     },
     "execution_count": 45,
     "metadata": {},
     "output_type": "execute_result"
    }
   ],
   "source": [
    "c=b.reshape(5,3,2).T\n",
    "\n",
    "c\n"
   ]
  },
  {
   "cell_type": "markdown",
   "id": "9c15f7fe",
   "metadata": {},
   "source": [
    "## 10. Try to add a and c. Now it should work. Assign the sum to varialbe \"d\". But why does it work now?"
   ]
  },
  {
   "cell_type": "code",
   "execution_count": 48,
   "id": "4c8240e8",
   "metadata": {},
   "outputs": [
    {
     "data": {
      "text/plain": [
       "array([[[1.48624538, 1.03940292, 1.21577047, 1.97375839, 1.60521012],\n",
       "        [1.62321788, 1.86913254, 1.51125656, 1.42774325, 1.84186588],\n",
       "        [1.82083582, 1.64326759, 1.53062658, 1.61940298, 1.46976695]],\n",
       "\n",
       "       [[1.97852872, 1.39090861, 1.75554055, 1.06601846, 1.10856371],\n",
       "        [1.52425879, 1.72024901, 1.39246395, 1.28832771, 1.05925264],\n",
       "        [1.6726172 , 1.43717394, 1.60205026, 1.531443  , 1.05918172]]])"
      ]
     },
     "execution_count": 48,
     "metadata": {},
     "output_type": "execute_result"
    }
   ],
   "source": [
    "d=np.array(a) + np.array(c)\n",
    "d\n",
    "#Porque ahora ambas matrices tienen la misma dimensión"
   ]
  },
  {
   "cell_type": "markdown",
   "id": "736fa42b",
   "metadata": {},
   "source": [
    "## 11. Print a and d. Notice the difference and relation of the two array in terms of the values? Explain."
   ]
  },
  {
   "cell_type": "code",
   "execution_count": 54,
   "id": "6642a2c3",
   "metadata": {},
   "outputs": [
    {
     "name": "stdout",
     "output_type": "stream",
     "text": [
      "[[[0.48624538 0.03940292 0.21577047 0.97375839 0.60521012]\n",
      "  [0.62321788 0.86913254 0.51125656 0.42774325 0.84186588]\n",
      "  [0.82083582 0.64326759 0.53062658 0.61940298 0.46976695]]\n",
      "\n",
      " [[0.97852872 0.39090861 0.75554055 0.06601846 0.10856371]\n",
      "  [0.52425879 0.72024901 0.39246395 0.28832771 0.05925264]\n",
      "  [0.6726172  0.43717394 0.60205026 0.531443   0.05918172]]]\n",
      "[[[1.48624538 1.03940292 1.21577047 1.97375839 1.60521012]\n",
      "  [1.62321788 1.86913254 1.51125656 1.42774325 1.84186588]\n",
      "  [1.82083582 1.64326759 1.53062658 1.61940298 1.46976695]]\n",
      "\n",
      " [[1.97852872 1.39090861 1.75554055 1.06601846 1.10856371]\n",
      "  [1.52425879 1.72024901 1.39246395 1.28832771 1.05925264]\n",
      "  [1.6726172  1.43717394 1.60205026 1.531443   1.05918172]]]\n"
     ]
    }
   ],
   "source": [
    "print(a)\n",
    "\n",
    "print(d)"
   ]
  },
  {
   "cell_type": "markdown",
   "id": "b9e67044",
   "metadata": {},
   "source": [
    "## 12. Multiply a and c. Assign the result to e."
   ]
  },
  {
   "cell_type": "code",
   "execution_count": 55,
   "id": "8c54d66a",
   "metadata": {},
   "outputs": [
    {
     "data": {
      "text/plain": [
       "array([[[0.48624538, 0.03940292, 0.21577047, 0.97375839, 0.60521012],\n",
       "        [0.62321788, 0.86913254, 0.51125656, 0.42774325, 0.84186588],\n",
       "        [0.82083582, 0.64326759, 0.53062658, 0.61940298, 0.46976695]],\n",
       "\n",
       "       [[0.97852872, 0.39090861, 0.75554055, 0.06601846, 0.10856371],\n",
       "        [0.52425879, 0.72024901, 0.39246395, 0.28832771, 0.05925264],\n",
       "        [0.6726172 , 0.43717394, 0.60205026, 0.531443  , 0.05918172]]])"
      ]
     },
     "execution_count": 55,
     "metadata": {},
     "output_type": "execute_result"
    }
   ],
   "source": [
    "e=np.array(a) * np.array(c)\n",
    "e"
   ]
  },
  {
   "cell_type": "markdown",
   "id": "e64482b7",
   "metadata": {},
   "source": [
    "## 13. Does e equal to a? Why or why not?"
   ]
  },
  {
   "cell_type": "code",
   "execution_count": 56,
   "id": "e457de46",
   "metadata": {},
   "outputs": [
    {
     "data": {
      "text/plain": [
       "True"
      ]
     },
     "execution_count": 56,
     "metadata": {},
     "output_type": "execute_result"
    }
   ],
   "source": [
    "np.array_equal(e,a)\n",
    "#Porque e= a*c, siendo todos los valores de c 1"
   ]
  },
  {
   "cell_type": "markdown",
   "id": "ae4806b5",
   "metadata": {},
   "source": [
    "## 14. Identify the max, min, and mean values in d. Assign those values to variables \"d_max\", \"d_min\", and \"d_mean\""
   ]
  },
  {
   "cell_type": "code",
   "execution_count": 78,
   "id": "24ae08ab",
   "metadata": {},
   "outputs": [
    {
     "data": {
      "text/plain": [
       "1.508802719650714"
      ]
     },
     "execution_count": 78,
     "metadata": {},
     "output_type": "execute_result"
    }
   ],
   "source": [
    "d_mean=d.mean() \n",
    "d_mean"
   ]
  },
  {
   "cell_type": "code",
   "execution_count": 79,
   "id": "09425654",
   "metadata": {},
   "outputs": [
    {
     "data": {
      "text/plain": [
       "1.9785287229375959"
      ]
     },
     "execution_count": 79,
     "metadata": {},
     "output_type": "execute_result"
    }
   ],
   "source": [
    "d_max=d.max()\n",
    "d_max"
   ]
  },
  {
   "cell_type": "code",
   "execution_count": 80,
   "id": "e69c45c0",
   "metadata": {},
   "outputs": [
    {
     "data": {
      "text/plain": [
       "1.0394029173591828"
      ]
     },
     "execution_count": 80,
     "metadata": {},
     "output_type": "execute_result"
    }
   ],
   "source": [
    "d_min=d.min()\n",
    "d_min"
   ]
  },
  {
   "cell_type": "markdown",
   "id": "c6e03ce3",
   "metadata": {},
   "source": [
    "## 15. Now we want to label the values in d. First create an empty array \"f\" with the same shape (i.e. 2x3x5) as d using `np.empty`."
   ]
  },
  {
   "cell_type": "code",
   "execution_count": 81,
   "id": "fa8d03b1",
   "metadata": {},
   "outputs": [
    {
     "data": {
      "text/plain": [
       "array([[[0.48624538, 0.03940292, 0.21577047, 0.97375839, 0.60521012],\n",
       "        [0.62321788, 0.86913254, 0.51125656, 0.42774325, 0.84186588],\n",
       "        [0.82083582, 0.64326759, 0.53062658, 0.61940298, 0.46976695]],\n",
       "\n",
       "       [[0.97852872, 0.39090861, 0.75554055, 0.06601846, 0.10856371],\n",
       "        [0.52425879, 0.72024901, 0.39246395, 0.28832771, 0.05925264],\n",
       "        [0.6726172 , 0.43717394, 0.60205026, 0.531443  , 0.05918172]]])"
      ]
     },
     "execution_count": 81,
     "metadata": {},
     "output_type": "execute_result"
    }
   ],
   "source": [
    "f=np.empty([2,3,5])\n",
    "f"
   ]
  },
  {
   "cell_type": "markdown",
   "id": "8a61780a",
   "metadata": {},
   "source": [
    "## 16. Populate the values in f. \n",
    "#### For each value in d, if it's larger than d_min but smaller than d_mean, assign 25 to the corresponding value in f.\n",
    "#### If a value in d is larger than d_mean but smaller than d_max, assign 75 to the corresponding value in f.\n",
    "#### If a value equals to d_mean, assign 50 to the corresponding value in f.\n",
    "#### Assign 0 to the corresponding value(s) in f for d_min in d.\n",
    "#### Assign 100 to the corresponding value(s) in f for d_max in d.\n",
    "#### In the end, f should have only the following values: 0, 25, 50, 75, and 100.\n",
    "#### Note: you don't have to use Numpy in this question."
   ]
  },
  {
   "cell_type": "code",
   "execution_count": 102,
   "id": "e9958f28",
   "metadata": {},
   "outputs": [],
   "source": [
    "f=np.where((d>d_min) & (d<d_mean),25,np.where((d>d_mean) & (d<d_max),75,np.where((d==d_mean),50,np.where((d==d_max),100,0))))"
   ]
  },
  {
   "cell_type": "code",
   "execution_count": 103,
   "id": "b1ef4e74",
   "metadata": {},
   "outputs": [
    {
     "data": {
      "text/plain": [
       "array([[[ 25,   0,  25,  75,  75],\n",
       "        [ 75,  75,  75,  25,  75],\n",
       "        [ 75,  75,  75,  75,  25]],\n",
       "\n",
       "       [[100,  25,  75,  25,  25],\n",
       "        [ 75,  75,  25,  25,  25],\n",
       "        [ 75,  25,  75,  75,  25]]])"
      ]
     },
     "execution_count": 103,
     "metadata": {},
     "output_type": "execute_result"
    }
   ],
   "source": [
    "f"
   ]
  },
  {
   "cell_type": "code",
   "execution_count": 113,
   "id": "44a6e330",
   "metadata": {},
   "outputs": [
    {
     "data": {
      "text/plain": [
       "array([[[ 25,   0,  25,  75,  75],\n",
       "        [ 75,  75,  75,  25,  75],\n",
       "        [ 75,  75,  75,  75,  25]],\n",
       "\n",
       "       [[100,  25,  75,  25,  25],\n",
       "        [ 75,  75,  25,  25,  25],\n",
       "        [ 75,  25,  75,  75,  25]]])"
      ]
     },
     "execution_count": 113,
     "metadata": {},
     "output_type": "execute_result"
    }
   ],
   "source": [
    "conditions=[(d>d_min) & (d<d_mean),(d>d_mean) & (d<d_max),(d==d_mean),(d==d_max),(d==d_min)]\n",
    "choices=[25,75,50,100,0]\n",
    "\n",
    "f=np.select(conditions,choices)\n",
    "f"
   ]
  },
  {
   "cell_type": "markdown",
   "id": "9291da9b",
   "metadata": {},
   "source": [
    "##  17. Print d and f. Do you have your expected f?\n",
    " For instance, if your d is:\n",
    " array\n",
    " \n",
    "     ([[[1.85836099, 1.67064465, 1.62576044, 1.40243961, 1.88454931],\n",
    "        [1.75354326, 1.69403643, 1.36729252, 1.61415071, 1.12104981],\n",
    "        [1.72201435, 1.1862918 , 1.87078449, 1.7726778 , 1.88180042]],\n",
    "\n",
    "       [[1.44747908, 1.31673383, 1.02000951, 1.52218947, 1.97066381],\n",
    "        [1.79129243, 1.74983003, 1.96028037, 1.85166831, 1.65450881],\n",
    "        [1.18068344, 1.9587381 , 1.00656599, 1.93402165, 1.73514584]]])\n",
    "\n",
    " Your f should be:\n",
    " array\n",
    " \n",
    "     ([[[ 75.,  75.,  75.,  25.,  75.],\n",
    "        [ 75.,  75.,  25.,  25.,  25.],\n",
    "        [ 75.,  25.,  75.,  75.,  75.]],\n",
    "\n",
    "       [[ 25.,  25.,  25.,  25., 100.],\n",
    "        [ 75.,  75.,  75.,  75.,  75.],\n",
    "        [ 25.,  75.,   0.,  75.,  75.]]])"
   ]
  },
  {
   "cell_type": "code",
   "execution_count": 114,
   "id": "a3a92482",
   "metadata": {},
   "outputs": [
    {
     "name": "stdout",
     "output_type": "stream",
     "text": [
      "[[[1.48624538 1.03940292 1.21577047 1.97375839 1.60521012]\n",
      "  [1.62321788 1.86913254 1.51125656 1.42774325 1.84186588]\n",
      "  [1.82083582 1.64326759 1.53062658 1.61940298 1.46976695]]\n",
      "\n",
      " [[1.97852872 1.39090861 1.75554055 1.06601846 1.10856371]\n",
      "  [1.52425879 1.72024901 1.39246395 1.28832771 1.05925264]\n",
      "  [1.6726172  1.43717394 1.60205026 1.531443   1.05918172]]]\n",
      "[[[ 25   0  25  75  75]\n",
      "  [ 75  75  75  25  75]\n",
      "  [ 75  75  75  75  25]]\n",
      "\n",
      " [[100  25  75  25  25]\n",
      "  [ 75  75  25  25  25]\n",
      "  [ 75  25  75  75  25]]]\n"
     ]
    }
   ],
   "source": [
    "print(d)\n",
    "print(f)"
   ]
  },
  {
   "cell_type": "markdown",
   "id": "8a8c0a5e",
   "metadata": {},
   "source": [
    "## 18. Bonus question: instead of using numbers (i.e. 0, 25, 50, 75, and 100), how to use string values \n",
    "(\"A\", \"B\", \"C\", \"D\", and \"E\") to label the array elements? You are expecting the result to be:\n",
    "array\n",
    "\n",
    "    ([[[ 'D',  'D',  'D',  'B',  'D'],\n",
    "        [ 'D',  'D',  'B',  'B',  'B'],\n",
    "        [ 'D',  'B',  'D',  'D',  'D']],\n",
    "\n",
    "       [[ 'B',  'B',  'B',  'B',  'E'],\n",
    "        [ 'D',  'D',  'D',  'D',  'D'],\n",
    "        [ 'B',  'D',   'A',  'D', 'D']]])\n",
    "Again, you don't need Numpy in this question."
   ]
  },
  {
   "cell_type": "code",
   "execution_count": 117,
   "id": "c133fb41",
   "metadata": {},
   "outputs": [
    {
     "name": "stdout",
     "output_type": "stream",
     "text": [
      "[[['A' 'E' 'A' 'B' 'B']\n",
      "  ['B' 'B' 'B' 'A' 'B']\n",
      "  ['B' 'B' 'B' 'B' 'A']]\n",
      "\n",
      " [['D' 'A' 'B' 'A' 'A']\n",
      "  ['B' 'B' 'A' 'A' 'A']\n",
      "  ['B' 'A' 'B' 'B' 'A']]]\n"
     ]
    }
   ],
   "source": [
    "conditions=[(d>d_min) & (d<d_mean),(d>d_mean) & (d<d_max),(d==d_mean),(d==d_max),(d==d_min)]\n",
    "choices=['A','B','C','D','E']\n",
    "\n",
    "g=np.select(conditions,choices)\n",
    "print(g)"
   ]
  },
  {
   "cell_type": "code",
   "execution_count": null,
   "id": "981f5b97",
   "metadata": {},
   "outputs": [],
   "source": []
  }
 ],
 "metadata": {
  "kernelspec": {
   "display_name": "clase",
   "language": "python",
   "name": "clase"
  },
  "language_info": {
   "codemirror_mode": {
    "name": "ipython",
    "version": 3
   },
   "file_extension": ".py",
   "mimetype": "text/x-python",
   "name": "python",
   "nbconvert_exporter": "python",
   "pygments_lexer": "ipython3",
   "version": "3.7.13"
  }
 },
 "nbformat": 4,
 "nbformat_minor": 5
}
