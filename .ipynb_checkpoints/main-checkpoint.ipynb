{
 "cells": [
  {
   "cell_type": "markdown",
   "id": "31e68a67",
   "metadata": {},
   "source": [
    "#1. Import the NUMPY package under the name np."
   ]
  },
  {
   "cell_type": "code",
   "execution_count": 1,
   "id": "11003227",
   "metadata": {},
   "outputs": [],
   "source": [
    "import numpy as np"
   ]
  },
  {
   "cell_type": "markdown",
   "id": "51da8f79",
   "metadata": {},
   "source": [
    "#2. Print the NUMPY version and the configuration."
   ]
  },
  {
   "cell_type": "code",
   "execution_count": 4,
   "id": "5bc1f43a",
   "metadata": {},
   "outputs": [
    {
     "name": "stdout",
     "output_type": "stream",
     "text": [
      "1.21.5\n",
      "blas_mkl_info:\n",
      "    libraries = ['mkl_rt']\n",
      "    library_dirs = ['C:/IronHack/anaconda3\\\\Library\\\\lib']\n",
      "    define_macros = [('SCIPY_MKL_H', None), ('HAVE_CBLAS', None)]\n",
      "    include_dirs = ['C:/IronHack/anaconda3\\\\Library\\\\include']\n",
      "blas_opt_info:\n",
      "    libraries = ['mkl_rt']\n",
      "    library_dirs = ['C:/IronHack/anaconda3\\\\Library\\\\lib']\n",
      "    define_macros = [('SCIPY_MKL_H', None), ('HAVE_CBLAS', None)]\n",
      "    include_dirs = ['C:/IronHack/anaconda3\\\\Library\\\\include']\n",
      "lapack_mkl_info:\n",
      "    libraries = ['mkl_rt']\n",
      "    library_dirs = ['C:/IronHack/anaconda3\\\\Library\\\\lib']\n",
      "    define_macros = [('SCIPY_MKL_H', None), ('HAVE_CBLAS', None)]\n",
      "    include_dirs = ['C:/IronHack/anaconda3\\\\Library\\\\include']\n",
      "lapack_opt_info:\n",
      "    libraries = ['mkl_rt']\n",
      "    library_dirs = ['C:/IronHack/anaconda3\\\\Library\\\\lib']\n",
      "    define_macros = [('SCIPY_MKL_H', None), ('HAVE_CBLAS', None)]\n",
      "    include_dirs = ['C:/IronHack/anaconda3\\\\Library\\\\include']\n",
      "Supported SIMD extensions in this NumPy install:\n",
      "    baseline = SSE,SSE2,SSE3\n",
      "    found = SSSE3,SSE41,POPCNT,SSE42,AVX,F16C,FMA3,AVX2,AVX512F,AVX512CD,AVX512_SKX,AVX512_CLX,AVX512_CNL\n",
      "    not found = \n",
      "None\n"
     ]
    }
   ],
   "source": [
    "print(np.__version__)\n",
    "print(np.show_config())"
   ]
  },
  {
   "cell_type": "markdown",
   "id": "70fa7a60",
   "metadata": {},
   "source": [
    "#3. Generate a 2x3x5 3-dimensional array with random values. Assign the array to variable \"a\"\n",
    "#Challenge: there are at least three easy ways that use numpy to generate random arrays. How many ways can you find?"
   ]
  },
  {
   "cell_type": "code",
   "execution_count": 6,
   "id": "1e5353a7",
   "metadata": {},
   "outputs": [],
   "source": [
    "a = np.random.random((2,3,5))"
   ]
  },
  {
   "cell_type": "markdown",
   "id": "65ce6f0e",
   "metadata": {},
   "source": [
    "#4. Print a."
   ]
  },
  {
   "cell_type": "code",
   "execution_count": 7,
   "id": "98a34dd7",
   "metadata": {},
   "outputs": [
    {
     "name": "stdout",
     "output_type": "stream",
     "text": [
      "[[[0.48765304 0.37708256 0.11250466 0.02991927 0.32782282]\n",
      "  [0.95922822 0.82681131 0.03093587 0.4160899  0.8180786 ]\n",
      "  [0.26572944 0.88511048 0.01413634 0.36210113 0.26545996]]\n",
      "\n",
      " [[0.75719018 0.69825578 0.71231682 0.91939724 0.51626813]\n",
      "  [0.22338239 0.8482948  0.02120755 0.9057735  0.8635368 ]\n",
      "  [0.49063642 0.04144567 0.16741302 0.44003267 0.77655808]]]\n"
     ]
    }
   ],
   "source": [
    "print(a)"
   ]
  },
  {
   "cell_type": "markdown",
   "id": "dc328b42",
   "metadata": {},
   "source": [
    "#5. Create a 5x2x3 3-dimensional array with all values equaling 1.\n",
    "#Assign the array to variable \"b\""
   ]
  },
  {
   "cell_type": "code",
   "execution_count": 12,
   "id": "21db6265",
   "metadata": {},
   "outputs": [],
   "source": [
    "b = np.ones((5,2,3))"
   ]
  },
  {
   "cell_type": "markdown",
   "id": "87139605",
   "metadata": {},
   "source": [
    "#6. Print b."
   ]
  },
  {
   "cell_type": "code",
   "execution_count": 13,
   "id": "5f69e404",
   "metadata": {},
   "outputs": [
    {
     "name": "stdout",
     "output_type": "stream",
     "text": [
      "[[[1. 1. 1.]\n",
      "  [1. 1. 1.]]\n",
      "\n",
      " [[1. 1. 1.]\n",
      "  [1. 1. 1.]]\n",
      "\n",
      " [[1. 1. 1.]\n",
      "  [1. 1. 1.]]\n",
      "\n",
      " [[1. 1. 1.]\n",
      "  [1. 1. 1.]]\n",
      "\n",
      " [[1. 1. 1.]\n",
      "  [1. 1. 1.]]]\n"
     ]
    }
   ],
   "source": [
    "print(b)"
   ]
  },
  {
   "cell_type": "markdown",
   "id": "8e8bbc66",
   "metadata": {},
   "source": [
    "#7. Do a and b have the same size? How do you prove that in Python code?"
   ]
  },
  {
   "cell_type": "code",
   "execution_count": 14,
   "id": "01138752",
   "metadata": {},
   "outputs": [
    {
     "name": "stdout",
     "output_type": "stream",
     "text": [
      "30\n",
      "30\n"
     ]
    }
   ],
   "source": [
    "print(a.size)\n",
    "print(b.size)"
   ]
  },
  {
   "cell_type": "markdown",
   "id": "a5e5c86b",
   "metadata": {},
   "source": [
    "#8. Are you able to add a and b? Why or why not?"
   ]
  },
  {
   "cell_type": "code",
   "execution_count": 15,
   "id": "2a698e20",
   "metadata": {},
   "outputs": [
    {
     "ename": "ValueError",
     "evalue": "operands could not be broadcast together with shapes (2,3,5) (5,2,3) ",
     "output_type": "error",
     "traceback": [
      "\u001b[1;31m---------------------------------------------------------------------------\u001b[0m",
      "\u001b[1;31mValueError\u001b[0m                                Traceback (most recent call last)",
      "Input \u001b[1;32mIn [15]\u001b[0m, in \u001b[0;36m<cell line: 1>\u001b[1;34m()\u001b[0m\n\u001b[1;32m----> 1\u001b[0m \u001b[43mnp\u001b[49m\u001b[38;5;241;43m.\u001b[39;49m\u001b[43madd\u001b[49m\u001b[43m(\u001b[49m\u001b[43ma\u001b[49m\u001b[43m,\u001b[49m\u001b[43m \u001b[49m\u001b[43mb\u001b[49m\u001b[43m)\u001b[49m\n",
      "\u001b[1;31mValueError\u001b[0m: operands could not be broadcast together with shapes (2,3,5) (5,2,3) "
     ]
    }
   ],
   "source": [
    "np.add(a, b)"
   ]
  },
  {
   "cell_type": "markdown",
   "id": "d3cc4525",
   "metadata": {},
   "source": [
    "#9. Transpose b so that it has the same structure of a (i.e. become a 2x3x5 array). Assign the transposed array to varialbe \"c\"."
   ]
  },
  {
   "cell_type": "code",
   "execution_count": 21,
   "id": "2c1ac4aa",
   "metadata": {},
   "outputs": [
    {
     "data": {
      "text/plain": [
       "array([[[1., 1., 1., 1., 1.],\n",
       "        [1., 1., 1., 1., 1.],\n",
       "        [1., 1., 1., 1., 1.]],\n",
       "\n",
       "       [[1., 1., 1., 1., 1.],\n",
       "        [1., 1., 1., 1., 1.],\n",
       "        [1., 1., 1., 1., 1.]]])"
      ]
     },
     "execution_count": 21,
     "metadata": {},
     "output_type": "execute_result"
    }
   ],
   "source": [
    "c = np.transpose(b, (1,2,0))\n",
    "c"
   ]
  },
  {
   "cell_type": "markdown",
   "id": "32d4b689",
   "metadata": {},
   "source": [
    "#10. Try to add a and c. Now it should work. Assign the sum to varialbe \"d\". But why does it work now?"
   ]
  },
  {
   "cell_type": "code",
   "execution_count": 24,
   "id": "f3467cd6",
   "metadata": {},
   "outputs": [
    {
     "data": {
      "text/plain": [
       "array([[[1.48765304, 1.37708256, 1.11250466, 1.02991927, 1.32782282],\n",
       "        [1.95922822, 1.82681131, 1.03093587, 1.4160899 , 1.8180786 ],\n",
       "        [1.26572944, 1.88511048, 1.01413634, 1.36210113, 1.26545996]],\n",
       "\n",
       "       [[1.75719018, 1.69825578, 1.71231682, 1.91939724, 1.51626813],\n",
       "        [1.22338239, 1.8482948 , 1.02120755, 1.9057735 , 1.8635368 ],\n",
       "        [1.49063642, 1.04144567, 1.16741302, 1.44003267, 1.77655808]]])"
      ]
     },
     "execution_count": 24,
     "metadata": {},
     "output_type": "execute_result"
    }
   ],
   "source": [
    "d = np.add(a, c)\n",
    "d"
   ]
  },
  {
   "cell_type": "markdown",
   "id": "4fa45a8e",
   "metadata": {},
   "source": [
    "#11. Print a and d. Notice the difference and relation of the two array in terms of the values? Explain."
   ]
  },
  {
   "cell_type": "code",
   "execution_count": 25,
   "id": "a2f89409",
   "metadata": {},
   "outputs": [
    {
     "name": "stdout",
     "output_type": "stream",
     "text": [
      "[[[0.48765304 0.37708256 0.11250466 0.02991927 0.32782282]\n",
      "  [0.95922822 0.82681131 0.03093587 0.4160899  0.8180786 ]\n",
      "  [0.26572944 0.88511048 0.01413634 0.36210113 0.26545996]]\n",
      "\n",
      " [[0.75719018 0.69825578 0.71231682 0.91939724 0.51626813]\n",
      "  [0.22338239 0.8482948  0.02120755 0.9057735  0.8635368 ]\n",
      "  [0.49063642 0.04144567 0.16741302 0.44003267 0.77655808]]]\n",
      "[[[1.48765304 1.37708256 1.11250466 1.02991927 1.32782282]\n",
      "  [1.95922822 1.82681131 1.03093587 1.4160899  1.8180786 ]\n",
      "  [1.26572944 1.88511048 1.01413634 1.36210113 1.26545996]]\n",
      "\n",
      " [[1.75719018 1.69825578 1.71231682 1.91939724 1.51626813]\n",
      "  [1.22338239 1.8482948  1.02120755 1.9057735  1.8635368 ]\n",
      "  [1.49063642 1.04144567 1.16741302 1.44003267 1.77655808]]]\n"
     ]
    }
   ],
   "source": [
    "print(a)\n",
    "print(d)\n",
    "#Los valores de 'd' tiene una unidad más, por que sumamos la traspruesta de b con a"
   ]
  },
  {
   "cell_type": "markdown",
   "id": "093f85e4",
   "metadata": {},
   "source": [
    "#12. Multiply a and c. Assign the result to e."
   ]
  },
  {
   "cell_type": "code",
   "execution_count": 26,
   "id": "e1f36f8d",
   "metadata": {},
   "outputs": [
    {
     "data": {
      "text/plain": [
       "array([[[0.48765304, 0.37708256, 0.11250466, 0.02991927, 0.32782282],\n",
       "        [0.95922822, 0.82681131, 0.03093587, 0.4160899 , 0.8180786 ],\n",
       "        [0.26572944, 0.88511048, 0.01413634, 0.36210113, 0.26545996]],\n",
       "\n",
       "       [[0.75719018, 0.69825578, 0.71231682, 0.91939724, 0.51626813],\n",
       "        [0.22338239, 0.8482948 , 0.02120755, 0.9057735 , 0.8635368 ],\n",
       "        [0.49063642, 0.04144567, 0.16741302, 0.44003267, 0.77655808]]])"
      ]
     },
     "execution_count": 26,
     "metadata": {},
     "output_type": "execute_result"
    }
   ],
   "source": [
    "e = a * c\n",
    "e"
   ]
  },
  {
   "cell_type": "markdown",
   "id": "3509cc0f",
   "metadata": {},
   "source": [
    "#13. Does e equal to a? Why or why not?"
   ]
  },
  {
   "cell_type": "code",
   "execution_count": 31,
   "id": "05266fb2",
   "metadata": {},
   "outputs": [
    {
     "data": {
      "text/plain": [
       "array([[[ True,  True,  True,  True,  True],\n",
       "        [ True,  True,  True,  True,  True],\n",
       "        [ True,  True,  True,  True,  True]],\n",
       "\n",
       "       [[ True,  True,  True,  True,  True],\n",
       "        [ True,  True,  True,  True,  True],\n",
       "        [ True,  True,  True,  True,  True]]])"
      ]
     },
     "execution_count": 31,
     "metadata": {},
     "output_type": "execute_result"
    }
   ],
   "source": [
    "e == a\n",
    "#Al multiplicar lo multiplicas por uno toda la matriz"
   ]
  },
  {
   "cell_type": "markdown",
   "id": "f0171a06",
   "metadata": {},
   "source": [
    "#14. Identify the max, min, and mean values in d. Assign those values to variables \"d_max\", \"d_min\", and \"d_mean\""
   ]
  },
  {
   "cell_type": "code",
   "execution_count": 33,
   "id": "422c66cc",
   "metadata": {},
   "outputs": [
    {
     "name": "stdout",
     "output_type": "stream",
     "text": [
      "1.95922822044194 1.0141363446206613 1.4853457539628796\n"
     ]
    }
   ],
   "source": [
    "d_max = np.max(d)\n",
    "d_min = np.min(d)\n",
    "d_mean = np.mean(d)\n",
    "print(d_max, d_min, d_mean)"
   ]
  },
  {
   "cell_type": "markdown",
   "id": "3b1c16ad",
   "metadata": {},
   "source": [
    "#15. Now we want to label the values in d. First create an empty array \"f\" with the same shape (i.e. 2x3x5) as d using `np.empty`."
   ]
  },
  {
   "cell_type": "code",
   "execution_count": 35,
   "id": "720d1bbe",
   "metadata": {},
   "outputs": [
    {
     "data": {
      "text/plain": [
       "array([[[0.48765304, 0.37708256, 0.11250466, 0.02991927, 0.32782282],\n",
       "        [0.95922822, 0.82681131, 0.03093587, 0.4160899 , 0.8180786 ],\n",
       "        [0.26572944, 0.88511048, 0.01413634, 0.36210113, 0.26545996]],\n",
       "\n",
       "       [[0.75719018, 0.69825578, 0.71231682, 0.91939724, 0.51626813],\n",
       "        [0.22338239, 0.8482948 , 0.02120755, 0.9057735 , 0.8635368 ],\n",
       "        [0.49063642, 0.04144567, 0.16741302, 0.44003267, 0.77655808]]])"
      ]
     },
     "execution_count": 35,
     "metadata": {},
     "output_type": "execute_result"
    }
   ],
   "source": [
    "f = np.empty((2,3,5))\n",
    "f"
   ]
  },
  {
   "cell_type": "markdown",
   "id": "6c6b7d91",
   "metadata": {},
   "source": [
    "#16. Populate the values in f. For each value in d, if it's larger than d_min but smaller than d_mean, assign 25 to the corresponding value in f.\n",
    "If a value in d is larger than d_mean but smaller than d_max, assign 75 to the corresponding value in f.\n",
    "If a value equals to d_mean, assign 50 to the corresponding value in f.\n",
    "Assign 0 to the corresponding value(s) in f for d_min in d.\n",
    "Assign 100 to the corresponding value(s) in f for d_max in d.\n",
    "In the end, f should have only the following values: 0, 25, 50, 75, and 100.\n",
    "Note: you don't have to use Numpy in this question."
   ]
  },
  {
   "cell_type": "code",
   "execution_count": 49,
   "id": "65e2a428",
   "metadata": {},
   "outputs": [],
   "source": [
    "f_max = np.where(d == d_min, 0, 0)\n",
    "f_mean = np.where(d == d_mean, 50, 0)\n",
    "f_min = np.where(d == d_max, 100, 0)\n",
    "f_25 = np.where((d_min<d) & (d_mean>d), 25, 0)\n",
    "f_75 = np.where((d_mean<d) & (d_max>d), 75, 0)\n",
    "f = f_max + f_mean + f_min + f_25 + f_75"
   ]
  },
  {
   "cell_type": "markdown",
   "id": "c9c3f577",
   "metadata": {},
   "source": [
    "#17. Print d and f. Do you have your expected f?\n",
    "For instance, if your d is:\n",
    "array([[[1.85836099, 1.67064465, 1.62576044, 1.40243961, 1.88454931],\n",
    "        [1.75354326, 1.69403643, 1.36729252, 1.61415071, 1.12104981],\n",
    "        [1.72201435, 1.1862918 , 1.87078449, 1.7726778 , 1.88180042]],\n",
    "\n",
    "       [[1.44747908, 1.31673383, 1.02000951, 1.52218947, 1.97066381],\n",
    "        [1.79129243, 1.74983003, 1.96028037, 1.85166831, 1.65450881],\n",
    "        [1.18068344, 1.9587381 , 1.00656599, 1.93402165, 1.73514584]]])\n",
    "\n",
    "Your f should be:\n",
    "array([[[ 75.,  75.,  75.,  25.,  75.],\n",
    "        [ 75.,  75.,  25.,  25.,  25.],\n",
    "        [ 75.,  25.,  75.,  75.,  75.]],\n",
    "\n",
    "       [[ 25.,  25.,  25.,  25., 100.],\n",
    "        [ 75.,  75.,  75.,  75.,  75.],\n",
    "        [ 25.,  75.,   0.,  75.,  75.]]])"
   ]
  },
  {
   "cell_type": "code",
   "execution_count": 50,
   "id": "e0b4770f",
   "metadata": {},
   "outputs": [
    {
     "name": "stdout",
     "output_type": "stream",
     "text": [
      "[[[1.48765304 1.37708256 1.11250466 1.02991927 1.32782282]\n",
      "  [1.95922822 1.82681131 1.03093587 1.4160899  1.8180786 ]\n",
      "  [1.26572944 1.88511048 1.01413634 1.36210113 1.26545996]]\n",
      "\n",
      " [[1.75719018 1.69825578 1.71231682 1.91939724 1.51626813]\n",
      "  [1.22338239 1.8482948  1.02120755 1.9057735  1.8635368 ]\n",
      "  [1.49063642 1.04144567 1.16741302 1.44003267 1.77655808]]]\n",
      "[[[ 75  25  25  25  25]\n",
      "  [100  75  25  25  75]\n",
      "  [ 25  75   0  25  25]]\n",
      "\n",
      " [[ 75  75  75  75  75]\n",
      "  [ 25  75  25  75  75]\n",
      "  [ 75  25  25  25  75]]]\n"
     ]
    }
   ],
   "source": [
    "print(d)\n",
    "print(f)"
   ]
  },
  {
   "cell_type": "markdown",
   "id": "6abd49f6",
   "metadata": {},
   "source": [
    "#18. Bonus question: instead of using numbers (i.e. 0, 25, 50, 75, and 100), how to use string values \n",
    "(\"A\", \"B\", \"C\", \"D\", and \"E\") to label the array elements? You are expecting the result to be:\n",
    "array([[[ 'D',  'D',  'D',  'B',  'D'],\n",
    "        [ 'D',  'D',  'B',  'B',  'B'],\n",
    "        [ 'D',  'B',  'D',  'D',  'D']],\n",
    "\n",
    "       [[ 'B',  'B',  'B',  'B',  'E'],\n",
    "        [ 'D',  'D',  'D',  'D',  'D'],\n",
    "        [ 'B',  'D',   'A',  'D', 'D']]])\n",
    "Again, you don't need Numpy in this question."
   ]
  },
  {
   "cell_type": "code",
   "execution_count": 62,
   "id": "fcef08c1",
   "metadata": {},
   "outputs": [
    {
     "ename": "UFuncTypeError",
     "evalue": "ufunc 'add' did not contain a loop with signature matching types (dtype('<U1'), dtype('<U1')) -> None",
     "output_type": "error",
     "traceback": [
      "\u001b[1;31m---------------------------------------------------------------------------\u001b[0m",
      "\u001b[1;31mUFuncTypeError\u001b[0m                            Traceback (most recent call last)",
      "Input \u001b[1;32mIn [62]\u001b[0m, in \u001b[0;36m<cell line: 6>\u001b[1;34m()\u001b[0m\n\u001b[0;32m      4\u001b[0m g_25 \u001b[38;5;241m=\u001b[39m np\u001b[38;5;241m.\u001b[39mwhere((d_min\u001b[38;5;241m<\u001b[39md) \u001b[38;5;241m&\u001b[39m (d_mean\u001b[38;5;241m>\u001b[39md), \u001b[38;5;124m'\u001b[39m\u001b[38;5;124mB\u001b[39m\u001b[38;5;124m'\u001b[39m, \u001b[38;5;124m'\u001b[39m\u001b[38;5;124m'\u001b[39m)\n\u001b[0;32m      5\u001b[0m g_75 \u001b[38;5;241m=\u001b[39m np\u001b[38;5;241m.\u001b[39mwhere((d_mean\u001b[38;5;241m<\u001b[39md) \u001b[38;5;241m&\u001b[39m (d_max\u001b[38;5;241m>\u001b[39md), \u001b[38;5;124m'\u001b[39m\u001b[38;5;124mD\u001b[39m\u001b[38;5;124m'\u001b[39m, \u001b[38;5;124m'\u001b[39m\u001b[38;5;124m'\u001b[39m)\n\u001b[1;32m----> 6\u001b[0m g \u001b[38;5;241m=\u001b[39m \u001b[43mg_max\u001b[49m\u001b[43m \u001b[49m\u001b[38;5;241;43m+\u001b[39;49m\u001b[43m \u001b[49m\u001b[43mg_mean\u001b[49m \u001b[38;5;241m+\u001b[39m g_min \u001b[38;5;241m+\u001b[39m g_25 \u001b[38;5;241m+\u001b[39m g_75\n",
      "\u001b[1;31mUFuncTypeError\u001b[0m: ufunc 'add' did not contain a loop with signature matching types (dtype('<U1'), dtype('<U1')) -> None"
     ]
    }
   ],
   "source": [
    "g_max = np.where(d == d_min, 'A', '')\n",
    "g_mean = np.where(d == d_mean, 'C', '')\n",
    "g_min = np.where(d == d_max, 'E', '')\n",
    "g_25 = np.where((d_min<d) & (d_mean>d), 'B', '')\n",
    "g_75 = np.where((d_mean<d) & (d_max>d), 'D', '')\n",
    "g = g_max + g_mean + g_min + g_25 + g_75"
   ]
  },
  {
   "cell_type": "code",
   "execution_count": null,
   "id": "43922b37",
   "metadata": {},
   "outputs": [],
   "source": []
  }
 ],
 "metadata": {
  "kernelspec": {
   "display_name": "Python 3 (ipykernel)",
   "language": "python",
   "name": "python3"
  },
  "language_info": {
   "codemirror_mode": {
    "name": "ipython",
    "version": 3
   },
   "file_extension": ".py",
   "mimetype": "text/x-python",
   "name": "python",
   "nbconvert_exporter": "python",
   "pygments_lexer": "ipython3",
   "version": "3.9.12"
  }
 },
 "nbformat": 4,
 "nbformat_minor": 5
}
