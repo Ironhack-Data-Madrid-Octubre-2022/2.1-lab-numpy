{
 "cells": [
  {
   "cell_type": "markdown",
   "id": "e049c86d",
   "metadata": {},
   "source": [
    "#1. Import the NUMPY package under the name np."
   ]
  },
  {
   "cell_type": "code",
   "execution_count": 1,
   "id": "c244775d",
   "metadata": {},
   "outputs": [
    {
     "name": "stdout",
     "output_type": "stream",
     "text": [
      "Requirement already satisfied: numpy in /Users/rociomoreno/opt/anaconda3/lib/python3.9/site-packages (1.21.5)\n",
      "Note: you may need to restart the kernel to use updated packages.\n"
     ]
    }
   ],
   "source": [
    "%pip install numpy"
   ]
  },
  {
   "cell_type": "code",
   "execution_count": 2,
   "id": "f6b4c0ee",
   "metadata": {},
   "outputs": [],
   "source": [
    "import numpy as np"
   ]
  },
  {
   "cell_type": "markdown",
   "id": "320fded6",
   "metadata": {},
   "source": [
    "#2. Print the NUMPY version and the configuration."
   ]
  },
  {
   "cell_type": "code",
   "execution_count": 3,
   "id": "c02d39d1",
   "metadata": {},
   "outputs": [
    {
     "name": "stdout",
     "output_type": "stream",
     "text": [
      "1.21.5\n"
     ]
    }
   ],
   "source": [
    "print(np.__version__)"
   ]
  },
  {
   "cell_type": "markdown",
   "id": "b372da7a",
   "metadata": {},
   "source": [
    "#3. Generate a 2x3x5 3-dimensional array with random values. Assign the array to variable \"a\"\n",
    "# Challenge: there are at least three easy ways that use numpy to generate random arrays. How many ways can you find?"
   ]
  },
  {
   "cell_type": "code",
   "execution_count": 4,
   "id": "35f868a0",
   "metadata": {},
   "outputs": [],
   "source": [
    "a = np.random.random((2,3,5))"
   ]
  },
  {
   "cell_type": "code",
   "execution_count": 5,
   "id": "42f1176d",
   "metadata": {},
   "outputs": [
    {
     "data": {
      "text/plain": [
       "array([[[0.15683663, 0.62118334, 0.98708927, 0.9501171 , 0.902272  ],\n",
       "        [0.75024072, 0.66993049, 0.75732055, 0.96591213, 0.04914531],\n",
       "        [0.93997344, 0.7820237 , 0.40330846, 0.92970548, 0.00812555]],\n",
       "\n",
       "       [[0.02138261, 0.58978665, 0.09613706, 0.32395858, 0.63026228],\n",
       "        [0.50158268, 0.03387051, 0.32483974, 0.94185877, 0.65449993],\n",
       "        [0.23145463, 0.80905918, 0.73201   , 0.5102044 , 0.89812227]]])"
      ]
     },
     "execution_count": 5,
     "metadata": {},
     "output_type": "execute_result"
    }
   ],
   "source": [
    "a"
   ]
  },
  {
   "cell_type": "markdown",
   "id": "9591874d",
   "metadata": {},
   "source": [
    " Create a 5x2x3 3-dimensional array with all values equaling 1.\n",
    "#Assign the array to variable \"b\"\n"
   ]
  },
  {
   "cell_type": "code",
   "execution_count": 6,
   "id": "14397360",
   "metadata": {},
   "outputs": [],
   "source": [
    "b = np.ones((5,2,3),dtype=int)"
   ]
  },
  {
   "cell_type": "code",
   "execution_count": 7,
   "id": "17325704",
   "metadata": {},
   "outputs": [
    {
     "data": {
      "text/plain": [
       "array([[[1, 1, 1],\n",
       "        [1, 1, 1]],\n",
       "\n",
       "       [[1, 1, 1],\n",
       "        [1, 1, 1]],\n",
       "\n",
       "       [[1, 1, 1],\n",
       "        [1, 1, 1]],\n",
       "\n",
       "       [[1, 1, 1],\n",
       "        [1, 1, 1]],\n",
       "\n",
       "       [[1, 1, 1],\n",
       "        [1, 1, 1]]])"
      ]
     },
     "execution_count": 7,
     "metadata": {},
     "output_type": "execute_result"
    }
   ],
   "source": [
    "b"
   ]
  },
  {
   "cell_type": "markdown",
   "id": "aa3794b5",
   "metadata": {},
   "source": [
    "#7. Do a and b have the same size? How do you prove that in Python code?\n"
   ]
  },
  {
   "cell_type": "code",
   "execution_count": 8,
   "id": "6c4a43dd",
   "metadata": {},
   "outputs": [
    {
     "data": {
      "text/plain": [
       "True"
      ]
     },
     "execution_count": 8,
     "metadata": {},
     "output_type": "execute_result"
    }
   ],
   "source": [
    "np.size(a) == np.size(b)"
   ]
  },
  {
   "cell_type": "markdown",
   "id": "a5105a86",
   "metadata": {},
   "source": [
    "#8. Are you able to add a and b? Why or why not?\n"
   ]
  },
  {
   "cell_type": "code",
   "execution_count": 9,
   "id": "73b27d72",
   "metadata": {},
   "outputs": [
    {
     "ename": "TypeError",
     "evalue": "add() takes from 2 to 3 positional arguments but 1 were given",
     "output_type": "error",
     "traceback": [
      "\u001b[0;31m---------------------------------------------------------------------------\u001b[0m",
      "\u001b[0;31mTypeError\u001b[0m                                 Traceback (most recent call last)",
      "Input \u001b[0;32mIn [9]\u001b[0m, in \u001b[0;36m<cell line: 1>\u001b[0;34m()\u001b[0m\n\u001b[0;32m----> 1\u001b[0m c \u001b[38;5;241m=\u001b[39m \u001b[43mnp\u001b[49m\u001b[38;5;241;43m.\u001b[39;49m\u001b[43madd\u001b[49m\u001b[43m(\u001b[49m\u001b[43ma\u001b[49m\u001b[43m)\u001b[49m \u001b[38;5;241m+\u001b[39m np\u001b[38;5;241m.\u001b[39madd(b)\n",
      "\u001b[0;31mTypeError\u001b[0m: add() takes from 2 to 3 positional arguments but 1 were given"
     ]
    }
   ],
   "source": [
    "c = np.add(a) + np.add(b)"
   ]
  },
  {
   "cell_type": "markdown",
   "id": "4b830f34",
   "metadata": {},
   "source": [
    "#9. Transpose b so that it has the same structure of a (i.e. become a 2x3x5 array). Assign the transposed array to varialbe \"c\".\n"
   ]
  },
  {
   "cell_type": "code",
   "execution_count": 10,
   "id": "ec24d55d",
   "metadata": {},
   "outputs": [
    {
     "data": {
      "text/plain": [
       "array([[[1, 1, 1, 1, 1],\n",
       "        [1, 1, 1, 1, 1],\n",
       "        [1, 1, 1, 1, 1]],\n",
       "\n",
       "       [[1, 1, 1, 1, 1],\n",
       "        [1, 1, 1, 1, 1],\n",
       "        [1, 1, 1, 1, 1]]])"
      ]
     },
     "execution_count": 10,
     "metadata": {},
     "output_type": "execute_result"
    }
   ],
   "source": [
    "c = np.reshape(b,(2,3,5))\n",
    "c"
   ]
  },
  {
   "cell_type": "markdown",
   "id": "8d9a0a26",
   "metadata": {},
   "source": [
    "#10. Try to add a and c. Now it should work. Assign the sum to varialbe \"d\". But why does it work now?\n"
   ]
  },
  {
   "cell_type": "code",
   "execution_count": 11,
   "id": "e839e3c8",
   "metadata": {},
   "outputs": [
    {
     "data": {
      "text/plain": [
       "array([[[1.15683663, 1.62118334, 1.98708927, 1.9501171 , 1.902272  ],\n",
       "        [1.75024072, 1.66993049, 1.75732055, 1.96591213, 1.04914531],\n",
       "        [1.93997344, 1.7820237 , 1.40330846, 1.92970548, 1.00812555]],\n",
       "\n",
       "       [[1.02138261, 1.58978665, 1.09613706, 1.32395858, 1.63026228],\n",
       "        [1.50158268, 1.03387051, 1.32483974, 1.94185877, 1.65449993],\n",
       "        [1.23145463, 1.80905918, 1.73201   , 1.5102044 , 1.89812227]]])"
      ]
     },
     "execution_count": 11,
     "metadata": {},
     "output_type": "execute_result"
    }
   ],
   "source": [
    "d = a + c\n",
    "d"
   ]
  },
  {
   "cell_type": "markdown",
   "id": "285aa26f",
   "metadata": {},
   "source": [
    "#11. Print a and d. Notice the difference and relation of the two array in terms of the values? Explain.\n"
   ]
  },
  {
   "cell_type": "code",
   "execution_count": 12,
   "id": "7c049e65",
   "metadata": {},
   "outputs": [
    {
     "name": "stdout",
     "output_type": "stream",
     "text": [
      "[[[0.15683663 0.62118334 0.98708927 0.9501171  0.902272  ]\n",
      "  [0.75024072 0.66993049 0.75732055 0.96591213 0.04914531]\n",
      "  [0.93997344 0.7820237  0.40330846 0.92970548 0.00812555]]\n",
      "\n",
      " [[0.02138261 0.58978665 0.09613706 0.32395858 0.63026228]\n",
      "  [0.50158268 0.03387051 0.32483974 0.94185877 0.65449993]\n",
      "  [0.23145463 0.80905918 0.73201    0.5102044  0.89812227]]]\n",
      "[[[1.15683663 1.62118334 1.98708927 1.9501171  1.902272  ]\n",
      "  [1.75024072 1.66993049 1.75732055 1.96591213 1.04914531]\n",
      "  [1.93997344 1.7820237  1.40330846 1.92970548 1.00812555]]\n",
      "\n",
      " [[1.02138261 1.58978665 1.09613706 1.32395858 1.63026228]\n",
      "  [1.50158268 1.03387051 1.32483974 1.94185877 1.65449993]\n",
      "  [1.23145463 1.80905918 1.73201    1.5102044  1.89812227]]]\n"
     ]
    }
   ],
   "source": [
    "print(a)\n",
    "print(d)\n",
    "#son diferentes porque hemos sumado a + b"
   ]
  },
  {
   "cell_type": "markdown",
   "id": "c79aabbf",
   "metadata": {},
   "source": [
    "#12. Multiply a and c. Assign the result to e.\n"
   ]
  },
  {
   "cell_type": "code",
   "execution_count": 13,
   "id": "8e5f9604",
   "metadata": {},
   "outputs": [
    {
     "data": {
      "text/plain": [
       "array([[[0.15683663, 0.62118334, 0.98708927, 0.9501171 , 0.902272  ],\n",
       "        [0.75024072, 0.66993049, 0.75732055, 0.96591213, 0.04914531],\n",
       "        [0.93997344, 0.7820237 , 0.40330846, 0.92970548, 0.00812555]],\n",
       "\n",
       "       [[0.02138261, 0.58978665, 0.09613706, 0.32395858, 0.63026228],\n",
       "        [0.50158268, 0.03387051, 0.32483974, 0.94185877, 0.65449993],\n",
       "        [0.23145463, 0.80905918, 0.73201   , 0.5102044 , 0.89812227]]])"
      ]
     },
     "execution_count": 13,
     "metadata": {},
     "output_type": "execute_result"
    }
   ],
   "source": [
    "e = a * c\n",
    "e"
   ]
  },
  {
   "cell_type": "markdown",
   "id": "acfd94d5",
   "metadata": {},
   "source": [
    "#13. Does e equal to a? Why or why not?\n"
   ]
  },
  {
   "cell_type": "code",
   "execution_count": 14,
   "id": "4f269c8d",
   "metadata": {},
   "outputs": [
    {
     "data": {
      "text/plain": [
       "True"
      ]
     },
     "execution_count": 14,
     "metadata": {},
     "output_type": "execute_result"
    }
   ],
   "source": [
    "np.array_equal(e,a)\n",
    "#sí, porque la array a está compuesta por 1\n"
   ]
  },
  {
   "cell_type": "markdown",
   "id": "b7d487bc",
   "metadata": {},
   "source": [
    "#14. Identify the max, min, and mean values in d. Assign those values to variables \"d_max\", \"d_min\", and \"d_mean\"\n"
   ]
  },
  {
   "cell_type": "code",
   "execution_count": 15,
   "id": "6d40ba0f",
   "metadata": {},
   "outputs": [
    {
     "data": {
      "text/plain": [
       "1.9870892684934949"
      ]
     },
     "execution_count": 15,
     "metadata": {},
     "output_type": "execute_result"
    }
   ],
   "source": [
    "d_max = np.max(d)\n",
    "d_max"
   ]
  },
  {
   "cell_type": "code",
   "execution_count": 16,
   "id": "e5cbc013",
   "metadata": {},
   "outputs": [
    {
     "data": {
      "text/plain": [
       "1.0081255482849307"
      ]
     },
     "execution_count": 16,
     "metadata": {},
     "output_type": "execute_result"
    }
   ],
   "source": [
    "d_min = np.min(d)\n",
    "d_min"
   ]
  },
  {
   "cell_type": "code",
   "execution_count": 17,
   "id": "36296083",
   "metadata": {},
   "outputs": [
    {
     "data": {
      "text/plain": [
       "1.5724071150782553"
      ]
     },
     "execution_count": 17,
     "metadata": {},
     "output_type": "execute_result"
    }
   ],
   "source": [
    "d_mean = np.mean(d)\n",
    "d_mean"
   ]
  },
  {
   "cell_type": "markdown",
   "id": "4d527260",
   "metadata": {},
   "source": [
    "#15. Now we want to label the values in d. First create an empty array \"f\" with the same shape (i.e. 2x3x5) as d using `np.empty`.\n"
   ]
  },
  {
   "cell_type": "code",
   "execution_count": 18,
   "id": "fb1267d8",
   "metadata": {},
   "outputs": [
    {
     "data": {
      "text/plain": [
       "array([[[0.15683663, 0.62118334, 0.98708927, 0.9501171 , 0.902272  ],\n",
       "        [0.75024072, 0.66993049, 0.75732055, 0.96591213, 0.04914531],\n",
       "        [0.93997344, 0.7820237 , 0.40330846, 0.92970548, 0.00812555]],\n",
       "\n",
       "       [[0.02138261, 0.58978665, 0.09613706, 0.32395858, 0.63026228],\n",
       "        [0.50158268, 0.03387051, 0.32483974, 0.94185877, 0.65449993],\n",
       "        [0.23145463, 0.80905918, 0.73201   , 0.5102044 , 0.89812227]]])"
      ]
     },
     "execution_count": 18,
     "metadata": {},
     "output_type": "execute_result"
    }
   ],
   "source": [
    "f = np.empty((2,3,5))\n",
    "f"
   ]
  },
  {
   "cell_type": "markdown",
   "id": "7e0d54df",
   "metadata": {},
   "source": [
    "\"\"\"\n",
    "#16. Populate the values in f. For each value in d, if it's larger than d_min but smaller than d_mean, assign 25 to the corresponding value in f.\n",
    "If a value in d is larger than d_mean but smaller than d_max, assign 75 to the corresponding value in f.\n",
    "If a value equals to d_mean, assign 50 to the corresponding value in f.\n",
    "Assign 0 to the corresponding value(s) in f for d_min in d.\n",
    "Assign 100 to the corresponding value(s) in f for d_max in d.\n",
    "In the end, f should have only the following values: 0, 25, 50, 75, and 100.\n",
    "Note: you don't have to use Numpy in this question.\n",
    "\"\"\"\n"
   ]
  },
  {
   "cell_type": "code",
   "execution_count": 40,
   "id": "56c76fb4",
   "metadata": {},
   "outputs": [],
   "source": [
    "f = np.where((d>d_min)&(d<d_mean), \n",
    "             25, \n",
    "             np.where(d == d_mean, \n",
    "                        50, \n",
    "                        np.where(d == d_min, \n",
    "                                 0, \n",
    "                                 np.where(d == d_max, 100, 75))))\n",
    " "
   ]
  },
  {
   "cell_type": "code",
   "execution_count": 41,
   "id": "930d328a",
   "metadata": {},
   "outputs": [
    {
     "data": {
      "text/plain": [
       "array([[[ 25,  75, 100,  75,  75],\n",
       "        [ 75,  75,  75,  75,  25],\n",
       "        [ 75,  75,  25,  75,   0]],\n",
       "\n",
       "       [[ 25,  75,  25,  25,  75],\n",
       "        [ 25,  25,  25,  75,  75],\n",
       "        [ 25,  75,  75,  25,  75]]])"
      ]
     },
     "execution_count": 41,
     "metadata": {},
     "output_type": "execute_result"
    }
   ],
   "source": [
    "f"
   ]
  },
  {
   "cell_type": "markdown",
   "id": "1bdc01f1",
   "metadata": {},
   "source": [
    "#17. Print d and f. Do you have your expected f?\n"
   ]
  },
  {
   "cell_type": "code",
   "execution_count": 42,
   "id": "b1cfc88f",
   "metadata": {},
   "outputs": [
    {
     "data": {
      "text/plain": [
       "array([[[ 25,  75, 100,  75,  75],\n",
       "        [ 75,  75,  75,  75,  25],\n",
       "        [ 75,  75,  25,  75,   0]],\n",
       "\n",
       "       [[ 25,  75,  25,  25,  75],\n",
       "        [ 25,  25,  25,  75,  75],\n",
       "        [ 25,  75,  75,  25,  75]]])"
      ]
     },
     "execution_count": 42,
     "metadata": {},
     "output_type": "execute_result"
    }
   ],
   "source": [
    "f"
   ]
  },
  {
   "cell_type": "code",
   "execution_count": 43,
   "id": "ca20aeb7",
   "metadata": {},
   "outputs": [
    {
     "data": {
      "text/plain": [
       "array([[[1.15683663, 1.62118334, 1.98708927, 1.9501171 , 1.902272  ],\n",
       "        [1.75024072, 1.66993049, 1.75732055, 1.96591213, 1.04914531],\n",
       "        [1.93997344, 1.7820237 , 1.40330846, 1.92970548, 1.00812555]],\n",
       "\n",
       "       [[1.02138261, 1.58978665, 1.09613706, 1.32395858, 1.63026228],\n",
       "        [1.50158268, 1.03387051, 1.32483974, 1.94185877, 1.65449993],\n",
       "        [1.23145463, 1.80905918, 1.73201   , 1.5102044 , 1.89812227]]])"
      ]
     },
     "execution_count": 43,
     "metadata": {},
     "output_type": "execute_result"
    }
   ],
   "source": [
    "d"
   ]
  }
 ],
 "metadata": {
  "kernelspec": {
   "display_name": "Python 3 (ipykernel)",
   "language": "python",
   "name": "python3"
  },
  "language_info": {
   "codemirror_mode": {
    "name": "ipython",
    "version": 3
   },
   "file_extension": ".py",
   "mimetype": "text/x-python",
   "name": "python",
   "nbconvert_exporter": "python",
   "pygments_lexer": "ipython3",
   "version": "3.9.12"
  }
 },
 "nbformat": 4,
 "nbformat_minor": 5
}
