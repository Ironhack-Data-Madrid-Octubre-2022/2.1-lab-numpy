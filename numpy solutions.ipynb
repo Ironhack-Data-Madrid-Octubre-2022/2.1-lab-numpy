{
 "cells": [
  {
   "cell_type": "code",
   "execution_count": 12,
   "id": "2a0f05de",
   "metadata": {},
   "outputs": [],
   "source": [
    "#1. Import the NUMPY package under the name np.\n",
    "import numpy as np"
   ]
  },
  {
   "cell_type": "code",
   "execution_count": 13,
   "id": "6cb7840c",
   "metadata": {},
   "outputs": [
    {
     "ename": "NameError",
     "evalue": "name 'numpy' is not defined",
     "output_type": "error",
     "traceback": [
      "\u001b[1;31m---------------------------------------------------------------------------\u001b[0m",
      "\u001b[1;31mNameError\u001b[0m                                 Traceback (most recent call last)",
      "Input \u001b[1;32mIn [13]\u001b[0m, in \u001b[0;36m<cell line: 3>\u001b[1;34m()\u001b[0m\n\u001b[0;32m      1\u001b[0m \u001b[38;5;66;03m#2. Print the NUMPY version and the configuration.\u001b[39;00m\n\u001b[1;32m----> 3\u001b[0m \u001b[43mnumpy\u001b[49m\u001b[38;5;241m.\u001b[39minfo\n",
      "\u001b[1;31mNameError\u001b[0m: name 'numpy' is not defined"
     ]
    }
   ],
   "source": [
    "#2. Print the NUMPY version and the configuration.\n",
    "\n",
    "numpy.info"
   ]
  },
  {
   "cell_type": "code",
   "execution_count": 14,
   "id": "28378c33",
   "metadata": {},
   "outputs": [
    {
     "data": {
      "text/plain": [
       "'1.21.5'"
      ]
     },
     "execution_count": 14,
     "metadata": {},
     "output_type": "execute_result"
    }
   ],
   "source": [
    "np.version.version"
   ]
  },
  {
   "cell_type": "code",
   "execution_count": 7,
   "id": "524f09dc",
   "metadata": {},
   "outputs": [
    {
     "name": "stdout",
     "output_type": "stream",
     "text": [
      "blas_mkl_info:\n",
      "    libraries = ['mkl_rt']\n",
      "    library_dirs = ['C:/Users/pablo/Anaconda3\\\\Library\\\\lib']\n",
      "    define_macros = [('SCIPY_MKL_H', None), ('HAVE_CBLAS', None)]\n",
      "    include_dirs = ['C:/Users/pablo/Anaconda3\\\\Library\\\\include']\n",
      "blas_opt_info:\n",
      "    libraries = ['mkl_rt']\n",
      "    library_dirs = ['C:/Users/pablo/Anaconda3\\\\Library\\\\lib']\n",
      "    define_macros = [('SCIPY_MKL_H', None), ('HAVE_CBLAS', None)]\n",
      "    include_dirs = ['C:/Users/pablo/Anaconda3\\\\Library\\\\include']\n",
      "lapack_mkl_info:\n",
      "    libraries = ['mkl_rt']\n",
      "    library_dirs = ['C:/Users/pablo/Anaconda3\\\\Library\\\\lib']\n",
      "    define_macros = [('SCIPY_MKL_H', None), ('HAVE_CBLAS', None)]\n",
      "    include_dirs = ['C:/Users/pablo/Anaconda3\\\\Library\\\\include']\n",
      "lapack_opt_info:\n",
      "    libraries = ['mkl_rt']\n",
      "    library_dirs = ['C:/Users/pablo/Anaconda3\\\\Library\\\\lib']\n",
      "    define_macros = [('SCIPY_MKL_H', None), ('HAVE_CBLAS', None)]\n",
      "    include_dirs = ['C:/Users/pablo/Anaconda3\\\\Library\\\\include']\n",
      "Supported SIMD extensions in this NumPy install:\n",
      "    baseline = SSE,SSE2,SSE3\n",
      "    found = SSSE3,SSE41,POPCNT,SSE42,AVX,F16C,FMA3,AVX2\n",
      "    not found = AVX512F,AVX512CD,AVX512_SKX,AVX512_CLX,AVX512_CNL\n",
      "None\n"
     ]
    }
   ],
   "source": [
    "print(np.show_config())"
   ]
  },
  {
   "cell_type": "code",
   "execution_count": null,
   "id": "90233a9d",
   "metadata": {},
   "outputs": [],
   "source": [
    "#3. Generate a 2x3x5 3-dimensional array with random values. Assign the array to variable \"a\"\n",
    "# Challenge: there are at least three easy ways that use numpy to generate random arrays. How many ways can you find?"
   ]
  },
  {
   "cell_type": "code",
   "execution_count": 15,
   "id": "7e315754",
   "metadata": {},
   "outputs": [],
   "source": [
    "a=np.random.random((2,3,5))\n",
    "a=np.random.randint(0,1, size=(2,3,5))\n",
    "a=np.random.rand(2,3,5)"
   ]
  },
  {
   "cell_type": "code",
   "execution_count": 16,
   "id": "8817db72",
   "metadata": {},
   "outputs": [],
   "source": [
    "#4. Print a."
   ]
  },
  {
   "cell_type": "code",
   "execution_count": 17,
   "id": "127800cd",
   "metadata": {},
   "outputs": [
    {
     "name": "stdout",
     "output_type": "stream",
     "text": [
      "[[[0.26764444 0.75731039 0.50312809 0.14170966 0.2582436 ]\n",
      "  [0.0011993  0.94337058 0.41795401 0.20060885 0.15550682]\n",
      "  [0.41585007 0.7898915  0.93646823 0.99617938 0.8259884 ]]\n",
      "\n",
      " [[0.11078988 0.41812957 0.23364994 0.84312271 0.09772485]\n",
      "  [0.90642239 0.27547561 0.81603585 0.90489034 0.55290991]\n",
      "  [0.68554288 0.75117948 0.76337574 0.86936034 0.89619897]]]\n"
     ]
    }
   ],
   "source": [
    "print(a)"
   ]
  },
  {
   "cell_type": "code",
   "execution_count": null,
   "id": "1a8b87d5",
   "metadata": {},
   "outputs": [],
   "source": [
    "#5. Create a 5x2x3 3-dimensional array with all values equaling 1.\n",
    "#Assign the array to variable \"b\""
   ]
  },
  {
   "cell_type": "code",
   "execution_count": 18,
   "id": "1c39d2c6",
   "metadata": {},
   "outputs": [],
   "source": [
    "b=np.ones((5,2,3))"
   ]
  },
  {
   "cell_type": "code",
   "execution_count": 67,
   "id": "c0d15022",
   "metadata": {},
   "outputs": [],
   "source": [
    "#6. Print b.\n"
   ]
  },
  {
   "cell_type": "code",
   "execution_count": 19,
   "id": "a6eb4b8c",
   "metadata": {},
   "outputs": [
    {
     "name": "stdout",
     "output_type": "stream",
     "text": [
      "[[[1. 1. 1.]\n",
      "  [1. 1. 1.]]\n",
      "\n",
      " [[1. 1. 1.]\n",
      "  [1. 1. 1.]]\n",
      "\n",
      " [[1. 1. 1.]\n",
      "  [1. 1. 1.]]\n",
      "\n",
      " [[1. 1. 1.]\n",
      "  [1. 1. 1.]]\n",
      "\n",
      " [[1. 1. 1.]\n",
      "  [1. 1. 1.]]]\n"
     ]
    }
   ],
   "source": [
    "print(b)"
   ]
  },
  {
   "cell_type": "code",
   "execution_count": null,
   "id": "21164c62",
   "metadata": {},
   "outputs": [],
   "source": [
    "#7. Do a and b have the same size? How do you prove that in Python code?"
   ]
  },
  {
   "cell_type": "code",
   "execution_count": 20,
   "id": "e77b96c0",
   "metadata": {},
   "outputs": [
    {
     "data": {
      "text/plain": [
       "30"
      ]
     },
     "execution_count": 20,
     "metadata": {},
     "output_type": "execute_result"
    }
   ],
   "source": [
    "a.size"
   ]
  },
  {
   "cell_type": "code",
   "execution_count": 21,
   "id": "8393674b",
   "metadata": {},
   "outputs": [
    {
     "data": {
      "text/plain": [
       "30"
      ]
     },
     "execution_count": 21,
     "metadata": {},
     "output_type": "execute_result"
    }
   ],
   "source": [
    "b.size"
   ]
  },
  {
   "cell_type": "code",
   "execution_count": 22,
   "id": "f156032b",
   "metadata": {},
   "outputs": [
    {
     "data": {
      "text/plain": [
       "True"
      ]
     },
     "execution_count": 22,
     "metadata": {},
     "output_type": "execute_result"
    }
   ],
   "source": [
    "a.size == b.size"
   ]
  },
  {
   "cell_type": "code",
   "execution_count": null,
   "id": "e0ed848b",
   "metadata": {},
   "outputs": [],
   "source": [
    "#8. Are you able to add a and b? Why or why not?"
   ]
  },
  {
   "cell_type": "code",
   "execution_count": null,
   "id": "b2d27138",
   "metadata": {},
   "outputs": [],
   "source": []
  },
  {
   "cell_type": "code",
   "execution_count": null,
   "id": "ec052379",
   "metadata": {},
   "outputs": [],
   "source": [
    "#9. Transpose b so that it has the same structure of a (i.e. become a 2x3x5 array). Assign the transposed array to varialbe \"c\".\n"
   ]
  },
  {
   "cell_type": "code",
   "execution_count": 23,
   "id": "b277a297",
   "metadata": {},
   "outputs": [],
   "source": [
    "c = b.reshape(2,3,5)\n"
   ]
  },
  {
   "cell_type": "code",
   "execution_count": 24,
   "id": "c853d5f9",
   "metadata": {},
   "outputs": [
    {
     "name": "stdout",
     "output_type": "stream",
     "text": [
      "[[[1. 1. 1. 1. 1.]\n",
      "  [1. 1. 1. 1. 1.]\n",
      "  [1. 1. 1. 1. 1.]]\n",
      "\n",
      " [[1. 1. 1. 1. 1.]\n",
      "  [1. 1. 1. 1. 1.]\n",
      "  [1. 1. 1. 1. 1.]]]\n"
     ]
    }
   ],
   "source": [
    "print(c)"
   ]
  },
  {
   "cell_type": "code",
   "execution_count": 25,
   "id": "0593b6a4",
   "metadata": {},
   "outputs": [
    {
     "name": "stdout",
     "output_type": "stream",
     "text": [
      "(2, 3, 5)\n",
      "(5, 2, 3)\n",
      "(2, 3, 5)\n"
     ]
    }
   ],
   "source": [
    "\n",
    "print(a.shape)\n",
    "print(b.shape)\n",
    "print(c.shape)"
   ]
  },
  {
   "cell_type": "code",
   "execution_count": null,
   "id": "800c7035",
   "metadata": {},
   "outputs": [],
   "source": [
    "#10. Try to add a and c. Now it should work. Assign the sum to varialbe \"d\". But why does it work now?"
   ]
  },
  {
   "cell_type": "code",
   "execution_count": 26,
   "id": "d9512239",
   "metadata": {},
   "outputs": [],
   "source": [
    "d = np.add(a,c)"
   ]
  },
  {
   "cell_type": "code",
   "execution_count": 27,
   "id": "ff856045",
   "metadata": {},
   "outputs": [
    {
     "name": "stdout",
     "output_type": "stream",
     "text": [
      "(2, 3, 5)\n"
     ]
    }
   ],
   "source": [
    "print(d.shape)"
   ]
  },
  {
   "cell_type": "code",
   "execution_count": 28,
   "id": "43bfd6c8",
   "metadata": {},
   "outputs": [
    {
     "name": "stdout",
     "output_type": "stream",
     "text": [
      "[[[1.26764444 1.75731039 1.50312809 1.14170966 1.2582436 ]\n",
      "  [1.0011993  1.94337058 1.41795401 1.20060885 1.15550682]\n",
      "  [1.41585007 1.7898915  1.93646823 1.99617938 1.8259884 ]]\n",
      "\n",
      " [[1.11078988 1.41812957 1.23364994 1.84312271 1.09772485]\n",
      "  [1.90642239 1.27547561 1.81603585 1.90489034 1.55290991]\n",
      "  [1.68554288 1.75117948 1.76337574 1.86936034 1.89619897]]]\n"
     ]
    }
   ],
   "source": [
    "print(d)"
   ]
  },
  {
   "cell_type": "code",
   "execution_count": null,
   "id": "8620f246",
   "metadata": {},
   "outputs": [],
   "source": [
    "#11. Print a and d. Notice the difference and relation of the two array in terms of the values? Explain.\n"
   ]
  },
  {
   "cell_type": "code",
   "execution_count": 29,
   "id": "9709f7e7",
   "metadata": {},
   "outputs": [
    {
     "data": {
      "text/plain": [
       "array([[[ True,  True,  True,  True,  True],\n",
       "        [ True,  True,  True,  True,  True],\n",
       "        [ True,  True,  True,  True,  True]],\n",
       "\n",
       "       [[ True,  True,  True,  True,  True],\n",
       "        [ True,  True,  True,  True,  True],\n",
       "        [ True,  True,  True,  True,  True]]])"
      ]
     },
     "execution_count": 29,
     "metadata": {},
     "output_type": "execute_result"
    }
   ],
   "source": [
    "a + 1 == d"
   ]
  },
  {
   "cell_type": "code",
   "execution_count": null,
   "id": "dbd2b522",
   "metadata": {},
   "outputs": [],
   "source": [
    "#12. Multiply a and c. Assign the result to e.\n"
   ]
  },
  {
   "cell_type": "code",
   "execution_count": 30,
   "id": "49402f90",
   "metadata": {},
   "outputs": [],
   "source": [
    "e = np.multiply(a,c)"
   ]
  },
  {
   "cell_type": "code",
   "execution_count": 31,
   "id": "922a4476",
   "metadata": {},
   "outputs": [
    {
     "name": "stdout",
     "output_type": "stream",
     "text": [
      "[[[0.26764444 0.75731039 0.50312809 0.14170966 0.2582436 ]\n",
      "  [0.0011993  0.94337058 0.41795401 0.20060885 0.15550682]\n",
      "  [0.41585007 0.7898915  0.93646823 0.99617938 0.8259884 ]]\n",
      "\n",
      " [[0.11078988 0.41812957 0.23364994 0.84312271 0.09772485]\n",
      "  [0.90642239 0.27547561 0.81603585 0.90489034 0.55290991]\n",
      "  [0.68554288 0.75117948 0.76337574 0.86936034 0.89619897]]]\n"
     ]
    }
   ],
   "source": [
    "print(e)"
   ]
  },
  {
   "cell_type": "code",
   "execution_count": 32,
   "id": "3c93ff00",
   "metadata": {},
   "outputs": [
    {
     "name": "stdout",
     "output_type": "stream",
     "text": [
      "[[[0.26764444 0.75731039 0.50312809 0.14170966 0.2582436 ]\n",
      "  [0.0011993  0.94337058 0.41795401 0.20060885 0.15550682]\n",
      "  [0.41585007 0.7898915  0.93646823 0.99617938 0.8259884 ]]\n",
      "\n",
      " [[0.11078988 0.41812957 0.23364994 0.84312271 0.09772485]\n",
      "  [0.90642239 0.27547561 0.81603585 0.90489034 0.55290991]\n",
      "  [0.68554288 0.75117948 0.76337574 0.86936034 0.89619897]]]\n",
      "[[[1. 1. 1. 1. 1.]\n",
      "  [1. 1. 1. 1. 1.]\n",
      "  [1. 1. 1. 1. 1.]]\n",
      "\n",
      " [[1. 1. 1. 1. 1.]\n",
      "  [1. 1. 1. 1. 1.]\n",
      "  [1. 1. 1. 1. 1.]]]\n"
     ]
    }
   ],
   "source": [
    "print(a)\n",
    "print(c)"
   ]
  },
  {
   "cell_type": "code",
   "execution_count": null,
   "id": "b25ccb4a",
   "metadata": {},
   "outputs": [],
   "source": [
    "#13. Does e equal to a? Why or why not?"
   ]
  },
  {
   "cell_type": "code",
   "execution_count": 33,
   "id": "08c9f49b",
   "metadata": {},
   "outputs": [
    {
     "data": {
      "text/plain": [
       "array([[[ True,  True,  True,  True,  True],\n",
       "        [ True,  True,  True,  True,  True],\n",
       "        [ True,  True,  True,  True,  True]],\n",
       "\n",
       "       [[ True,  True,  True,  True,  True],\n",
       "        [ True,  True,  True,  True,  True],\n",
       "        [ True,  True,  True,  True,  True]]])"
      ]
     },
     "execution_count": 33,
     "metadata": {},
     "output_type": "execute_result"
    }
   ],
   "source": [
    "a*1 == e\n",
    "# cualquier matriz multiplicada por la matriz identidad da la matriz\n"
   ]
  },
  {
   "cell_type": "code",
   "execution_count": null,
   "id": "632ee42b",
   "metadata": {},
   "outputs": [],
   "source": [
    "#14. Identify the max, min, and mean values in d. Assign those values to variables \"d_max\", \"d_min\", and \"d_mean\"\n"
   ]
  },
  {
   "cell_type": "code",
   "execution_count": 34,
   "id": "cc23b2a0",
   "metadata": {},
   "outputs": [],
   "source": [
    "d_max = np.max(d)"
   ]
  },
  {
   "cell_type": "code",
   "execution_count": 87,
   "id": "46f789e0",
   "metadata": {},
   "outputs": [
    {
     "name": "stdout",
     "output_type": "stream",
     "text": [
      "1.9658267958890958\n"
     ]
    }
   ],
   "source": [
    "print(d_max)"
   ]
  },
  {
   "cell_type": "code",
   "execution_count": 35,
   "id": "63ae3c32",
   "metadata": {},
   "outputs": [
    {
     "name": "stdout",
     "output_type": "stream",
     "text": [
      "1.0011993009150673\n",
      "1.5578620595639971\n"
     ]
    }
   ],
   "source": [
    "d_min = np.min(d)\n",
    "print(d_min)\n",
    "d_mean = np.mean(d)\n",
    "print (d_mean)"
   ]
  },
  {
   "cell_type": "code",
   "execution_count": 89,
   "id": "f843fd04",
   "metadata": {},
   "outputs": [],
   "source": [
    "#15. Now we want to label the values in d. First create an empty array \"f\" with the same shape (i.e. 2x3x5) as d using `np.empty`.\n"
   ]
  },
  {
   "cell_type": "code",
   "execution_count": 36,
   "id": "9693cd3a",
   "metadata": {},
   "outputs": [],
   "source": [
    "f = np.empty((2,3,5))"
   ]
  },
  {
   "cell_type": "code",
   "execution_count": 37,
   "id": "ac009f2a",
   "metadata": {},
   "outputs": [
    {
     "name": "stdout",
     "output_type": "stream",
     "text": [
      "[[[0.26764444 0.75731039 0.50312809 0.14170966 0.2582436 ]\n",
      "  [0.0011993  0.94337058 0.41795401 0.20060885 0.15550682]\n",
      "  [0.41585007 0.7898915  0.93646823 0.99617938 0.8259884 ]]\n",
      "\n",
      " [[0.11078988 0.41812957 0.23364994 0.84312271 0.09772485]\n",
      "  [0.90642239 0.27547561 0.81603585 0.90489034 0.55290991]\n",
      "  [0.68554288 0.75117948 0.76337574 0.86936034 0.89619897]]]\n"
     ]
    }
   ],
   "source": [
    "print(f)"
   ]
  },
  {
   "cell_type": "code",
   "execution_count": null,
   "id": "eab817a4",
   "metadata": {},
   "outputs": [],
   "source": [
    "\"\"\"\n",
    "#16. Populate the values in f. For each value in d, if it's larger than d_min but smaller than d_mean, assign 25 to the corresponding value in f.\n",
    "If a value in d is larger than d_mean but smaller than d_max, assign 75 to the corresponding value in f.\n",
    "If a value equals to d_mean, assign 50 to the corresponding value in f.\n",
    "Assign 0 to the corresponding value(s) in f for d_min in d.\n",
    "Assign 100 to the corresponding value(s) in f for d_max in d.\n",
    "In the end, f should have only the following values: 0, 25, 50, 75, and 100.\n",
    "Note: you don't have to use Numpy in this question.\n",
    "\"\"\""
   ]
  },
  {
   "cell_type": "code",
   "execution_count": 38,
   "id": "e061a6b0",
   "metadata": {},
   "outputs": [
    {
     "name": "stdout",
     "output_type": "stream",
     "text": [
      "[[[1.26764444 1.75731039 1.50312809 1.14170966 1.2582436 ]\n",
      "  [1.0011993  1.94337058 1.41795401 1.20060885 1.15550682]\n",
      "  [1.41585007 1.7898915  1.93646823 1.99617938 1.8259884 ]]\n",
      "\n",
      " [[1.11078988 1.41812957 1.23364994 1.84312271 1.09772485]\n",
      "  [1.90642239 1.27547561 1.81603585 1.90489034 1.55290991]\n",
      "  [1.68554288 1.75117948 1.76337574 1.86936034 1.89619897]]]\n"
     ]
    }
   ],
   "source": [
    "print(d)"
   ]
  },
  {
   "cell_type": "code",
   "execution_count": 51,
   "id": "03ae7e87",
   "metadata": {},
   "outputs": [
    {
     "name": "stdout",
     "output_type": "stream",
     "text": [
      "[[[ 25.  75.  25.  25.  25.]\n",
      "  [  0.  75.  25.  25.  25.]\n",
      "  [ 25.  75.  75. 100.  75.]]\n",
      "\n",
      " [[ 25.  25.  25.  75.  25.]\n",
      "  [ 75.  25.  75.  75.  25.]\n",
      "  [ 75.  75.  75.  75.  75.]]]\n",
      "[[[ 25.  75.  25.  25.  25.]\n",
      "  [  0.  75.  25.  25.  25.]\n",
      "  [ 25.  75.  75. 100.  75.]]\n",
      "\n",
      " [[ 25.  25.  25.  75.  25.]\n",
      "  [ 75.  25.  75.  75.  25.]\n",
      "  [ 75.  75.  75.  75.  75.]]]\n"
     ]
    }
   ],
   "source": [
    "for matrices in d:\n",
    "    \n",
    "    for matriz in matrices :\n",
    "\n",
    "        for elemento in matriz :\n",
    "            if elemento > d_min and elemento < d_mean:\n",
    "                elemento = 25\n",
    "            elif elemento == d_mean:\n",
    "                elemento = 50\n",
    "            elif elemento == d_min:\n",
    "                elemento == 0\n",
    "            else:\n",
    "                elemento == 100\n",
    "                \n",
    "           \n",
    "    print(f)\n"
   ]
  },
  {
   "cell_type": "code",
   "execution_count": 52,
   "id": "6e2d76bf",
   "metadata": {},
   "outputs": [
    {
     "name": "stdout",
     "output_type": "stream",
     "text": [
      "[[[ 25.  75.  25.  25.  25.]\n",
      "  [  0.  75.  25.  25.  25.]\n",
      "  [ 25.  75.  75. 100.  75.]]\n",
      "\n",
      " [[ 25.  25.  25.  75.  25.]\n",
      "  [ 75.  25.  75.  75.  25.]\n",
      "  [ 75.  75.  75.  75.  75.]]]\n"
     ]
    }
   ],
   "source": [
    "print(f)"
   ]
  },
  {
   "cell_type": "code",
   "execution_count": null,
   "id": "54dc1701",
   "metadata": {},
   "outputs": [],
   "source": [
    "for matriz in range (2):\n",
    "    for vector in range (3):\n",
    "        for elemento in range(5):\n",
    "            if d[matriz][vector][elemento] > d_min and d[matriz][vector][elemento] < d_mean:\n",
    "                f[matriz][vector][elemento]=25\n",
    "            elif d[matriz][vector][elemento]>d_mean and d[matriz][vector][elemento] <d_max:\n",
    "                f[matriz][vector][elemento]=75\n",
    "            elif d[matriz][vector][elemento]==d_mean:\n",
    "                f[matriz][vector][elemento]=50\n",
    "            elif d[matriz][vector][elemento]==d_min:\n",
    "                f[matriz][vector][elemento]=0\n",
    "            elif d[matriz][vector][elemento]==d_max:\n",
    "                f[matriz][vector][elemento]=100"
   ]
  },
  {
   "cell_type": "code",
   "execution_count": 53,
   "id": "12c1b2a1",
   "metadata": {},
   "outputs": [
    {
     "name": "stdout",
     "output_type": "stream",
     "text": [
      "[[[ 25.  75.  25.  25.  25.]\n",
      "  [  0.  75.  25.  25.  25.]\n",
      "  [ 25.  75.  75. 100.  75.]]\n",
      "\n",
      " [[ 25.  25.  25.  75.  25.]\n",
      "  [ 75.  25.  75.  75.  25.]\n",
      "  [ 75.  75.  75.  75.  75.]]]\n"
     ]
    }
   ],
   "source": [
    "print(f)"
   ]
  },
  {
   "cell_type": "code",
   "execution_count": null,
   "id": "3267753b",
   "metadata": {},
   "outputs": [],
   "source": [
    "#17. Print d and f. Do you have your expected f?"
   ]
  },
  {
   "cell_type": "code",
   "execution_count": 54,
   "id": "640eed5b",
   "metadata": {},
   "outputs": [
    {
     "name": "stdout",
     "output_type": "stream",
     "text": [
      "[[[1.26764444 1.75731039 1.50312809 1.14170966 1.2582436 ]\n",
      "  [1.0011993  1.94337058 1.41795401 1.20060885 1.15550682]\n",
      "  [1.41585007 1.7898915  1.93646823 1.99617938 1.8259884 ]]\n",
      "\n",
      " [[1.11078988 1.41812957 1.23364994 1.84312271 1.09772485]\n",
      "  [1.90642239 1.27547561 1.81603585 1.90489034 1.55290991]\n",
      "  [1.68554288 1.75117948 1.76337574 1.86936034 1.89619897]]]\n",
      "[[[ 25.  75.  25.  25.  25.]\n",
      "  [  0.  75.  25.  25.  25.]\n",
      "  [ 25.  75.  75. 100.  75.]]\n",
      "\n",
      " [[ 25.  25.  25.  75.  25.]\n",
      "  [ 75.  25.  75.  75.  25.]\n",
      "  [ 75.  75.  75.  75.  75.]]]\n"
     ]
    }
   ],
   "source": [
    "print(d)\n",
    "print(f)"
   ]
  },
  {
   "cell_type": "code",
   "execution_count": null,
   "id": "1b90576a",
   "metadata": {},
   "outputs": [],
   "source": []
  }
 ],
 "metadata": {
  "kernelspec": {
   "display_name": "Python 3 (ipykernel)",
   "language": "python",
   "name": "python3"
  },
  "language_info": {
   "codemirror_mode": {
    "name": "ipython",
    "version": 3
   },
   "file_extension": ".py",
   "mimetype": "text/x-python",
   "name": "python",
   "nbconvert_exporter": "python",
   "pygments_lexer": "ipython3",
   "version": "3.9.12"
  }
 },
 "nbformat": 4,
 "nbformat_minor": 5
}
