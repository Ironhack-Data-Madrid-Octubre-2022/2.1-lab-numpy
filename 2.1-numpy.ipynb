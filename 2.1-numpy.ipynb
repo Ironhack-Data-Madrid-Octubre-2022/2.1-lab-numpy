{
 "cells": [
  {
   "cell_type": "markdown",
   "id": "58f50ac3",
   "metadata": {},
   "source": [
    "#1. Import the NUMPY package under the name np."
   ]
  },
  {
   "cell_type": "code",
   "execution_count": 1,
   "id": "633ccca3",
   "metadata": {},
   "outputs": [],
   "source": [
    "import numpy as np"
   ]
  },
  {
   "cell_type": "markdown",
   "id": "af682785",
   "metadata": {},
   "source": [
    "#2. Print the NUMPY version and the configuration."
   ]
  },
  {
   "cell_type": "code",
   "execution_count": 2,
   "id": "cbaa4e00",
   "metadata": {},
   "outputs": [
    {
     "name": "stdout",
     "output_type": "stream",
     "text": [
      "1.23.4\n"
     ]
    }
   ],
   "source": [
    "print(np.__version__)"
   ]
  },
  {
   "cell_type": "code",
   "execution_count": 3,
   "id": "ebd230ea",
   "metadata": {},
   "outputs": [
    {
     "name": "stdout",
     "output_type": "stream",
     "text": [
      "openblas64__info:\n",
      "    library_dirs = ['D:\\\\a\\\\numpy\\\\numpy\\\\build\\\\openblas64__info']\n",
      "    libraries = ['openblas64__info']\n",
      "    language = f77\n",
      "    define_macros = [('HAVE_CBLAS', None), ('BLAS_SYMBOL_SUFFIX', '64_'), ('HAVE_BLAS_ILP64', None)]\n",
      "blas_ilp64_opt_info:\n",
      "    library_dirs = ['D:\\\\a\\\\numpy\\\\numpy\\\\build\\\\openblas64__info']\n",
      "    libraries = ['openblas64__info']\n",
      "    language = f77\n",
      "    define_macros = [('HAVE_CBLAS', None), ('BLAS_SYMBOL_SUFFIX', '64_'), ('HAVE_BLAS_ILP64', None)]\n",
      "openblas64__lapack_info:\n",
      "    library_dirs = ['D:\\\\a\\\\numpy\\\\numpy\\\\build\\\\openblas64__lapack_info']\n",
      "    libraries = ['openblas64__lapack_info']\n",
      "    language = f77\n",
      "    define_macros = [('HAVE_CBLAS', None), ('BLAS_SYMBOL_SUFFIX', '64_'), ('HAVE_BLAS_ILP64', None), ('HAVE_LAPACKE', None)]\n",
      "lapack_ilp64_opt_info:\n",
      "    library_dirs = ['D:\\\\a\\\\numpy\\\\numpy\\\\build\\\\openblas64__lapack_info']\n",
      "    libraries = ['openblas64__lapack_info']\n",
      "    language = f77\n",
      "    define_macros = [('HAVE_CBLAS', None), ('BLAS_SYMBOL_SUFFIX', '64_'), ('HAVE_BLAS_ILP64', None), ('HAVE_LAPACKE', None)]\n",
      "Supported SIMD extensions in this NumPy install:\n",
      "    baseline = SSE,SSE2,SSE3\n",
      "    found = SSSE3,SSE41,POPCNT,SSE42,AVX,F16C,FMA3,AVX2\n",
      "    not found = AVX512F,AVX512CD,AVX512_SKX,AVX512_CLX,AVX512_CNL,AVX512_ICL\n",
      "None\n"
     ]
    }
   ],
   "source": [
    "print(np.show_config())"
   ]
  },
  {
   "cell_type": "markdown",
   "id": "438536d5",
   "metadata": {},
   "source": [
    "#3. Generate a 2x3x5 3-dimensional array with random values. Assign the array to variable \"a\"\n",
    "#. Challenge: there are at least three easy ways that use numpy to generate random arrays. How many ways can you find?"
   ]
  },
  {
   "cell_type": "code",
   "execution_count": 4,
   "id": "bfb9fbce",
   "metadata": {},
   "outputs": [],
   "source": [
    "a=np.random.random((2,3,5))\n"
   ]
  },
  {
   "cell_type": "markdown",
   "id": "9ab3af3c",
   "metadata": {},
   "source": [
    "#4. Print a."
   ]
  },
  {
   "cell_type": "code",
   "execution_count": 5,
   "id": "e346bf84",
   "metadata": {},
   "outputs": [
    {
     "name": "stdout",
     "output_type": "stream",
     "text": [
      "[[[0.23988357 0.18098123 0.88722765 0.35140529 0.81711744]\n",
      "  [0.5562313  0.19884143 0.8626568  0.39482702 0.68600262]\n",
      "  [0.78110457 0.26330509 0.86265149 0.30929586 0.24270997]]\n",
      "\n",
      " [[0.34515147 0.70302188 0.42423631 0.21122532 0.68195554]\n",
      "  [0.6206877  0.39393122 0.8283763  0.71235138 0.56997076]\n",
      "  [0.9409608  0.3272687  0.54782777 0.91952799 0.34563175]]]\n"
     ]
    }
   ],
   "source": [
    "print(a)"
   ]
  },
  {
   "cell_type": "markdown",
   "id": "616d48a2",
   "metadata": {},
   "source": [
    "#5. Create a 5x2x3 3-dimensional array with all values equaling 1.\n",
    "#Assign the array to variable \"b\""
   ]
  },
  {
   "cell_type": "code",
   "execution_count": 6,
   "id": "3a6a92d7",
   "metadata": {},
   "outputs": [],
   "source": [
    "b=np.ones((5,2,3))"
   ]
  },
  {
   "cell_type": "markdown",
   "id": "31670c46",
   "metadata": {},
   "source": [
    "#6. Print b."
   ]
  },
  {
   "cell_type": "code",
   "execution_count": 7,
   "id": "1f4aa6b1",
   "metadata": {},
   "outputs": [
    {
     "name": "stdout",
     "output_type": "stream",
     "text": [
      "[[[1. 1. 1.]\n",
      "  [1. 1. 1.]]\n",
      "\n",
      " [[1. 1. 1.]\n",
      "  [1. 1. 1.]]\n",
      "\n",
      " [[1. 1. 1.]\n",
      "  [1. 1. 1.]]\n",
      "\n",
      " [[1. 1. 1.]\n",
      "  [1. 1. 1.]]\n",
      "\n",
      " [[1. 1. 1.]\n",
      "  [1. 1. 1.]]]\n"
     ]
    }
   ],
   "source": [
    "print(b)"
   ]
  },
  {
   "cell_type": "markdown",
   "id": "3561a40d",
   "metadata": {},
   "source": [
    "#7. Do a and b have the same size? How do you prove that in Python code?"
   ]
  },
  {
   "cell_type": "code",
   "execution_count": 8,
   "id": "e56d1b5e",
   "metadata": {},
   "outputs": [
    {
     "name": "stdout",
     "output_type": "stream",
     "text": [
      "Size of a: 30\n",
      "Size of b: 30\n"
     ]
    }
   ],
   "source": [
    "print(\"Size of a:\",a.size)\n",
    "print(\"Size of b:\",b.size)"
   ]
  },
  {
   "cell_type": "markdown",
   "id": "afc6a517",
   "metadata": {},
   "source": [
    "#8. Are you able to add a and b? Why or why not?"
   ]
  },
  {
   "cell_type": "code",
   "execution_count": 9,
   "id": "da1db754",
   "metadata": {},
   "outputs": [
    {
     "ename": "ValueError",
     "evalue": "operands could not be broadcast together with shapes (2,3,5) (5,2,3) ",
     "output_type": "error",
     "traceback": [
      "\u001b[1;31m---------------------------------------------------------------------------\u001b[0m",
      "\u001b[1;31mValueError\u001b[0m                                Traceback (most recent call last)",
      "Cell \u001b[1;32mIn [9], line 1\u001b[0m\n\u001b[1;32m----> 1\u001b[0m \u001b[43ma\u001b[49m\u001b[38;5;241;43m+\u001b[39;49m\u001b[43mb\u001b[49m\n",
      "\u001b[1;31mValueError\u001b[0m: operands could not be broadcast together with shapes (2,3,5) (5,2,3) "
     ]
    }
   ],
   "source": [
    "a+b\n",
    "\n",
    "#ValueError: operands could not be broadcast together with shapes (2,3,5) (5,2,3) "
   ]
  },
  {
   "cell_type": "markdown",
   "id": "a0a725ef",
   "metadata": {},
   "source": [
    "\n",
    "#9. Transpose b so that it has the same structure of a (i.e. become a 2x3x5 array). Assign the transposed array to varialbe \"c\"."
   ]
  },
  {
   "cell_type": "code",
   "execution_count": 10,
   "id": "bc10fae4",
   "metadata": {},
   "outputs": [
    {
     "name": "stdout",
     "output_type": "stream",
     "text": [
      "[[[1. 1. 1. 1. 1.]\n",
      "  [1. 1. 1. 1. 1.]\n",
      "  [1. 1. 1. 1. 1.]]\n",
      "\n",
      " [[1. 1. 1. 1. 1.]\n",
      "  [1. 1. 1. 1. 1.]\n",
      "  [1. 1. 1. 1. 1.]]]\n"
     ]
    }
   ],
   "source": [
    "c=np.transpose(b,(1,2,0))\n",
    "print(c)"
   ]
  },
  {
   "cell_type": "markdown",
   "id": "ad7efa9f",
   "metadata": {},
   "source": [
    "#10. Try to add a and c. Now it should work. Assign the sum to varialbe \"d\". But why does it work now?"
   ]
  },
  {
   "cell_type": "code",
   "execution_count": 11,
   "id": "f54329e0",
   "metadata": {},
   "outputs": [
    {
     "name": "stdout",
     "output_type": "stream",
     "text": [
      "[[[1.23988357 1.18098123 1.88722765 1.35140529 1.81711744]\n",
      "  [1.5562313  1.19884143 1.8626568  1.39482702 1.68600262]\n",
      "  [1.78110457 1.26330509 1.86265149 1.30929586 1.24270997]]\n",
      "\n",
      " [[1.34515147 1.70302188 1.42423631 1.21122532 1.68195554]\n",
      "  [1.6206877  1.39393122 1.8283763  1.71235138 1.56997076]\n",
      "  [1.9409608  1.3272687  1.54782777 1.91952799 1.34563175]]]\n"
     ]
    }
   ],
   "source": [
    "d=a+c\n",
    "\n",
    "# Tienen las mismas dimensiones\n",
    "\n",
    "print(d)"
   ]
  },
  {
   "cell_type": "markdown",
   "id": "7565f4b9",
   "metadata": {},
   "source": [
    "#11. Print a and d. Notice the difference and relation of the two array in terms of the values? Explain."
   ]
  },
  {
   "cell_type": "code",
   "execution_count": 12,
   "id": "cd045540",
   "metadata": {},
   "outputs": [
    {
     "name": "stdout",
     "output_type": "stream",
     "text": [
      "[[[0.23988357 0.18098123 0.88722765 0.35140529 0.81711744]\n",
      "  [0.5562313  0.19884143 0.8626568  0.39482702 0.68600262]\n",
      "  [0.78110457 0.26330509 0.86265149 0.30929586 0.24270997]]\n",
      "\n",
      " [[0.34515147 0.70302188 0.42423631 0.21122532 0.68195554]\n",
      "  [0.6206877  0.39393122 0.8283763  0.71235138 0.56997076]\n",
      "  [0.9409608  0.3272687  0.54782777 0.91952799 0.34563175]]]\n",
      "\n",
      "[[[1.23988357 1.18098123 1.88722765 1.35140529 1.81711744]\n",
      "  [1.5562313  1.19884143 1.8626568  1.39482702 1.68600262]\n",
      "  [1.78110457 1.26330509 1.86265149 1.30929586 1.24270997]]\n",
      "\n",
      " [[1.34515147 1.70302188 1.42423631 1.21122532 1.68195554]\n",
      "  [1.6206877  1.39393122 1.8283763  1.71235138 1.56997076]\n",
      "  [1.9409608  1.3272687  1.54782777 1.91952799 1.34563175]]]\n"
     ]
    }
   ],
   "source": [
    "print(a)\n",
    "print(\"\")\n",
    "print(d)\n",
    "\n",
    "# La diferencia entre ambos es b, es decir, un valor de una unidad"
   ]
  },
  {
   "cell_type": "markdown",
   "id": "bcd14dbc",
   "metadata": {},
   "source": [
    "#12. Multiply a and c. Assign the result to e."
   ]
  },
  {
   "cell_type": "code",
   "execution_count": 13,
   "id": "289bdba6",
   "metadata": {},
   "outputs": [
    {
     "name": "stdout",
     "output_type": "stream",
     "text": [
      "[[[0.23988357 0.18098123 0.88722765 0.35140529 0.81711744]\n",
      "  [0.5562313  0.19884143 0.8626568  0.39482702 0.68600262]\n",
      "  [0.78110457 0.26330509 0.86265149 0.30929586 0.24270997]]\n",
      "\n",
      " [[0.34515147 0.70302188 0.42423631 0.21122532 0.68195554]\n",
      "  [0.6206877  0.39393122 0.8283763  0.71235138 0.56997076]\n",
      "  [0.9409608  0.3272687  0.54782777 0.91952799 0.34563175]]]\n"
     ]
    }
   ],
   "source": [
    "e=a*c\n",
    "\n",
    "print(e)"
   ]
  },
  {
   "cell_type": "markdown",
   "id": "4e9241e6",
   "metadata": {},
   "source": [
    "#13. Does e equal to a? Why or why not?"
   ]
  },
  {
   "cell_type": "code",
   "execution_count": 14,
   "id": "0677cec0",
   "metadata": {},
   "outputs": [
    {
     "data": {
      "text/plain": [
       "array([[[ True,  True,  True,  True,  True],\n",
       "        [ True,  True,  True,  True,  True],\n",
       "        [ True,  True,  True,  True,  True]],\n",
       "\n",
       "       [[ True,  True,  True,  True,  True],\n",
       "        [ True,  True,  True,  True,  True],\n",
       "        [ True,  True,  True,  True,  True]]])"
      ]
     },
     "execution_count": 14,
     "metadata": {},
     "output_type": "execute_result"
    }
   ],
   "source": [
    "e==a\n",
    "\n",
    "# Al multiplicar por 1, la matriz es la misma"
   ]
  },
  {
   "cell_type": "markdown",
   "id": "9f55d9aa",
   "metadata": {},
   "source": [
    "#14. Identify the max, min, and mean values in d. Assign those values to variables \"d_max\", \"d_min\", and \"d_mean\""
   ]
  },
  {
   "cell_type": "code",
   "execution_count": 15,
   "id": "8225960e",
   "metadata": {},
   "outputs": [
    {
     "name": "stdout",
     "output_type": "stream",
     "text": [
      "Max: 1.9409608004140728\n",
      "Min: 1.1809812253959888\n",
      "Mean: 1.5402122075684848\n"
     ]
    }
   ],
   "source": [
    "d_max=np.max(d)\n",
    "print(\"Max:\", d_max)\n",
    "d_min=np.min(d)\n",
    "print(\"Min:\", d_min)\n",
    "d_mean=np.mean(d)\n",
    "print(\"Mean:\", d_mean)"
   ]
  },
  {
   "cell_type": "markdown",
   "id": "b66498c7",
   "metadata": {},
   "source": [
    "#15. Now we want to label the values in d. First create an empty array \"f\" with the same shape (i.e. 2x3x5) as d using `np.empty`."
   ]
  },
  {
   "cell_type": "code",
   "execution_count": 16,
   "id": "5ac0b3df",
   "metadata": {},
   "outputs": [
    {
     "name": "stdout",
     "output_type": "stream",
     "text": [
      "[[[0.23988357 0.18098123 0.88722765 0.35140529 0.81711744]\n",
      "  [0.5562313  0.19884143 0.8626568  0.39482702 0.68600262]\n",
      "  [0.78110457 0.26330509 0.86265149 0.30929586 0.24270997]]\n",
      "\n",
      " [[0.34515147 0.70302188 0.42423631 0.21122532 0.68195554]\n",
      "  [0.6206877  0.39393122 0.8283763  0.71235138 0.56997076]\n",
      "  [0.9409608  0.3272687  0.54782777 0.91952799 0.34563175]]]\n"
     ]
    }
   ],
   "source": [
    "f=np.empty((2,3,5))\n",
    "\n",
    "print(f)"
   ]
  },
  {
   "cell_type": "markdown",
   "id": "2c55c68d",
   "metadata": {},
   "source": [
    "\"\"\"\n",
    "#16. Populate the values in f. For each value in d, if it's larger than d_min but smaller than d_mean, assign 25 to the corresponding value in f.\n",
    "If a value in d is larger than d_mean but smaller than d_max, assign 75 to the corresponding value in f.\n",
    "If a value equals to d_mean, assign 50 to the corresponding value in f.\n",
    "Assign 0 to the corresponding value(s) in f for d_min in d.\n",
    "Assign 100 to the corresponding value(s) in f for d_max in d.\n",
    "In the end, f should have only the following values: 0, 25, 50, 75, and 100.\n",
    "Note: you don't have to use Numpy in this question.\n",
    "\"\"\""
   ]
  },
  {
   "cell_type": "code",
   "execution_count": 17,
   "id": "b6fab895",
   "metadata": {},
   "outputs": [
    {
     "name": "stdout",
     "output_type": "stream",
     "text": [
      "[[[ 25   0  75  25  75]\n",
      "  [ 75  25  75  25  75]\n",
      "  [ 75  25  75  25  25]]\n",
      "\n",
      " [[ 25  75  25  25  75]\n",
      "  [ 75  25  75  75  75]\n",
      "  [100  25  75  75  25]]]\n"
     ]
    }
   ],
   "source": [
    "fmax=np.where(d==d_max, 100, 0)\n",
    "fmin=np.where(d==d_min, 0, 0)\n",
    "fmean=np.where(d==d_mean,50,0)\n",
    "f25=np.where((d>d_min) & (d<d_mean), 25,0)\n",
    "f75=np.where((d>d_mean) & (d<d_max), 75,0)\n",
    "\n",
    "\n",
    "f=fmax+fmin+fmean+f25+f75\n",
    "\n",
    "print(f)"
   ]
  },
  {
   "cell_type": "markdown",
   "id": "e6bc2a56",
   "metadata": {},
   "source": [
    "\"\"\"\n",
    "#17. Print d and f. Do you have your expected f?\n",
    "For instance, if your d is:\n",
    "array([[[1.85836099, 1.67064465, 1.62576044, 1.40243961, 1.88454931],\n",
    "        [1.75354326, 1.69403643, 1.36729252, 1.61415071, 1.12104981],\n",
    "        [1.72201435, 1.1862918 , 1.87078449, 1.7726778 , 1.88180042]],\n",
    "\n",
    "       [[1.44747908, 1.31673383, 1.02000951, 1.52218947, 1.97066381],\n",
    "        [1.79129243, 1.74983003, 1.96028037, 1.85166831, 1.65450881],\n",
    "        [1.18068344, 1.9587381 , 1.00656599, 1.93402165, 1.73514584]]])\n",
    "\n",
    "Your f should be:\n",
    "array([[[ 75.,  75.,  75.,  25.,  75.],\n",
    "        [ 75.,  75.,  25.,  25.,  25.],\n",
    "        [ 75.,  25.,  75.,  75.,  75.]],\n",
    "\n",
    "       [[ 25.,  25.,  25.,  25., 100.],\n",
    "        [ 75.,  75.,  75.,  75.,  75.],\n",
    "        [ 25.,  75.,   0.,  75.,  75.]]])\n",
    "\"\"\""
   ]
  },
  {
   "cell_type": "code",
   "execution_count": 18,
   "id": "d770fb75",
   "metadata": {},
   "outputs": [
    {
     "name": "stdout",
     "output_type": "stream",
     "text": [
      "[[[1.23988357 1.18098123 1.88722765 1.35140529 1.81711744]\n",
      "  [1.5562313  1.19884143 1.8626568  1.39482702 1.68600262]\n",
      "  [1.78110457 1.26330509 1.86265149 1.30929586 1.24270997]]\n",
      "\n",
      " [[1.34515147 1.70302188 1.42423631 1.21122532 1.68195554]\n",
      "  [1.6206877  1.39393122 1.8283763  1.71235138 1.56997076]\n",
      "  [1.9409608  1.3272687  1.54782777 1.91952799 1.34563175]]]\n",
      "\n",
      "[[[ 25   0  75  25  75]\n",
      "  [ 75  25  75  25  75]\n",
      "  [ 75  25  75  25  25]]\n",
      "\n",
      " [[ 25  75  25  25  75]\n",
      "  [ 75  25  75  75  75]\n",
      "  [100  25  75  75  25]]]\n"
     ]
    }
   ],
   "source": [
    "print(d)\n",
    "print(\"\")\n",
    "print(f)"
   ]
  },
  {
   "cell_type": "markdown",
   "id": "6cc902ed",
   "metadata": {},
   "source": [
    "\"\"\"\n",
    "#18. Bonus question: instead of using numbers (i.e. 0, 25, 50, 75, and 100), how to use string values \n",
    "(\"A\", \"B\", \"C\", \"D\", and \"E\") to label the array elements? You are expecting the result to be:\n",
    "array([[[ 'D',  'D',  'D',  'B',  'D'],\n",
    "        [ 'D',  'D',  'B',  'B',  'B'],\n",
    "        [ 'D',  'B',  'D',  'D',  'D']],\n",
    "\n",
    "       [[ 'B',  'B',  'B',  'B',  'E'],\n",
    "        [ 'D',  'D',  'D',  'D',  'D'],\n",
    "        [ 'B',  'D',   'A',  'D', 'D']]])\n",
    "Again, you don't need Numpy in this question.\n",
    "\"\"\""
   ]
  },
  {
   "cell_type": "code",
   "execution_count": 58,
   "id": "b163803d",
   "metadata": {},
   "outputs": [
    {
     "name": "stdout",
     "output_type": "stream",
     "text": [
      "[[['B' 'A' 'D' 'B' 'D']\n",
      "  ['D' 'B' 'D' 'B' 'D']\n",
      "  ['D' 'B' 'D' 'B' 'B']]\n",
      "\n",
      " [['B' 'D' 'B' 'B' 'D']\n",
      "  ['D' 'B' 'D' 'D' 'D']\n",
      "  ['E' 'B' 'D' 'D' 'B']]]\n"
     ]
    }
   ],
   "source": [
    "g=list(f.flatten())\n",
    "h=[]\n",
    "for i in g:\n",
    "    if i == 0:\n",
    "        h.append(\"A\")\n",
    "    if i == 25:\n",
    "        h.append(\"B\") \n",
    "    if i == 50:\n",
    "        h.append(\"C\")\n",
    "    if i == 75:\n",
    "        h.append(\"D\") \n",
    "    if i == 100:\n",
    "        h.append(\"E\")\n",
    "\n",
    "\n",
    "\n",
    "arraylist=np.array(h)\n",
    "\n",
    "lista1=[]\n",
    "lista2=[]\n",
    "lista3=[]\n",
    "\n",
    "for i in arraylist:\n",
    "    lista1.append(i)\n",
    "    if len(lista1)==5:\n",
    "        lista2.append(lista1)\n",
    "        lista1=[]\n",
    "        if len(lista2)==3:\n",
    "            lista3.append(lista2)\n",
    "            lista2=[]   \n",
    "        \n",
    "\n",
    "\n",
    "arraylist2=np.array(lista3)\n",
    "\n",
    "print(arraylist2)"
   ]
  }
 ],
 "metadata": {
  "kernelspec": {
   "display_name": "Clase",
   "language": "python",
   "name": "clase"
  },
  "language_info": {
   "codemirror_mode": {
    "name": "ipython",
    "version": 3
   },
   "file_extension": ".py",
   "mimetype": "text/x-python",
   "name": "python",
   "nbconvert_exporter": "python",
   "pygments_lexer": "ipython3",
   "version": "3.8.13"
  }
 },
 "nbformat": 4,
 "nbformat_minor": 5
}
