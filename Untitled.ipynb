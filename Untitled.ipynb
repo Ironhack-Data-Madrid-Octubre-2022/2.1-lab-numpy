{
 "cells": [
  {
   "cell_type": "code",
   "execution_count": 1,
   "id": "6c553bfc",
   "metadata": {},
   "outputs": [],
   "source": [
    "import numpy as np"
   ]
  },
  {
   "cell_type": "code",
   "execution_count": 2,
   "id": "dfb7681a",
   "metadata": {},
   "outputs": [
    {
     "name": "stdout",
     "output_type": "stream",
     "text": [
      "1.21.5\n",
      "blas_mkl_info:\n",
      "    libraries = ['mkl_rt']\n",
      "    library_dirs = ['C:/Users/pabli/anaconda3\\\\Library\\\\lib']\n",
      "    define_macros = [('SCIPY_MKL_H', None), ('HAVE_CBLAS', None)]\n",
      "    include_dirs = ['C:/Users/pabli/anaconda3\\\\Library\\\\include']\n",
      "blas_opt_info:\n",
      "    libraries = ['mkl_rt']\n",
      "    library_dirs = ['C:/Users/pabli/anaconda3\\\\Library\\\\lib']\n",
      "    define_macros = [('SCIPY_MKL_H', None), ('HAVE_CBLAS', None)]\n",
      "    include_dirs = ['C:/Users/pabli/anaconda3\\\\Library\\\\include']\n",
      "lapack_mkl_info:\n",
      "    libraries = ['mkl_rt']\n",
      "    library_dirs = ['C:/Users/pabli/anaconda3\\\\Library\\\\lib']\n",
      "    define_macros = [('SCIPY_MKL_H', None), ('HAVE_CBLAS', None)]\n",
      "    include_dirs = ['C:/Users/pabli/anaconda3\\\\Library\\\\include']\n",
      "lapack_opt_info:\n",
      "    libraries = ['mkl_rt']\n",
      "    library_dirs = ['C:/Users/pabli/anaconda3\\\\Library\\\\lib']\n",
      "    define_macros = [('SCIPY_MKL_H', None), ('HAVE_CBLAS', None)]\n",
      "    include_dirs = ['C:/Users/pabli/anaconda3\\\\Library\\\\include']\n",
      "Supported SIMD extensions in this NumPy install:\n",
      "    baseline = SSE,SSE2,SSE3\n",
      "    found = SSSE3,SSE41,POPCNT,SSE42,AVX,F16C,FMA3,AVX2\n",
      "    not found = AVX512F,AVX512CD,AVX512_SKX,AVX512_CLX,AVX512_CNL\n",
      "None\n"
     ]
    }
   ],
   "source": [
    "print(np.__version__)\n",
    "print(np.show_config())"
   ]
  },
  {
   "cell_type": "code",
   "execution_count": 4,
   "id": "f5684447",
   "metadata": {},
   "outputs": [],
   "source": [
    "a = np.random.random((2,3,5))"
   ]
  },
  {
   "cell_type": "code",
   "execution_count": 6,
   "id": "59ef5fc5",
   "metadata": {},
   "outputs": [
    {
     "data": {
      "text/plain": [
       "array([[[0.82246011, 0.29895987, 0.13814193, 0.94467875, 0.57312035],\n",
       "        [0.54106494, 0.93362902, 0.26926465, 0.4393275 , 0.75655507],\n",
       "        [0.03219059, 0.18345563, 0.33954949, 0.97028148, 0.84977469]],\n",
       "\n",
       "       [[0.72239688, 0.52196751, 0.2741822 , 0.11564401, 0.26688525],\n",
       "        [0.77177736, 0.74672237, 0.18201775, 0.97358701, 0.47643367],\n",
       "        [0.9389357 , 0.97592265, 0.54835717, 0.06382683, 0.5511804 ]]])"
      ]
     },
     "execution_count": 6,
     "metadata": {},
     "output_type": "execute_result"
    }
   ],
   "source": [
    "a"
   ]
  },
  {
   "cell_type": "code",
   "execution_count": 25,
   "id": "e9979da7",
   "metadata": {},
   "outputs": [],
   "source": [
    "g = np.random.randint(0, 100000000, (2, 3, 5))"
   ]
  },
  {
   "cell_type": "code",
   "execution_count": 26,
   "id": "b1facafa",
   "metadata": {},
   "outputs": [
    {
     "data": {
      "text/plain": [
       "array([[[62640487, 90977232, 37854248, 30509669, 31701536],\n",
       "        [83183028, 21144146, 55738519,  3749746, 70417359],\n",
       "        [88968646, 35096864, 96146784, 98185073, 60622828]],\n",
       "\n",
       "       [[14213050, 16954240, 52808251, 70349339, 72646104],\n",
       "        [48707203, 85263070, 57651286, 16959470, 65766256],\n",
       "        [ 6202461, 48370059, 87473766, 67027505, 21273773]]])"
      ]
     },
     "execution_count": 26,
     "metadata": {},
     "output_type": "execute_result"
    }
   ],
   "source": [
    "g"
   ]
  },
  {
   "cell_type": "code",
   "execution_count": 27,
   "id": "a511b25b",
   "metadata": {},
   "outputs": [],
   "source": [
    "y = np.random.rand(2,3,5)"
   ]
  },
  {
   "cell_type": "code",
   "execution_count": 28,
   "id": "8c7a20f1",
   "metadata": {},
   "outputs": [
    {
     "data": {
      "text/plain": [
       "array([[[0.96356962, 0.6003302 , 0.45822228, 0.21019271, 0.63512837],\n",
       "        [0.53775715, 0.41686524, 0.50471033, 0.97032453, 0.17763837],\n",
       "        [0.09341462, 0.20303919, 0.49950514, 0.02296431, 0.99756597]],\n",
       "\n",
       "       [[0.33702661, 0.63850627, 0.2872642 , 0.51212733, 0.81627824],\n",
       "        [0.1181477 , 0.91494521, 0.25368197, 0.06188992, 0.01357425],\n",
       "        [0.26620647, 0.99744566, 0.68004637, 0.49328908, 0.26579989]]])"
      ]
     },
     "execution_count": 28,
     "metadata": {},
     "output_type": "execute_result"
    }
   ],
   "source": [
    "c"
   ]
  },
  {
   "cell_type": "code",
   "execution_count": 31,
   "id": "63002b61",
   "metadata": {},
   "outputs": [],
   "source": [
    "b= np.ones((5,2,3))"
   ]
  },
  {
   "cell_type": "code",
   "execution_count": 32,
   "id": "bd4b7a2d",
   "metadata": {},
   "outputs": [
    {
     "data": {
      "text/plain": [
       "array([[[1., 1., 1.],\n",
       "        [1., 1., 1.]],\n",
       "\n",
       "       [[1., 1., 1.],\n",
       "        [1., 1., 1.]],\n",
       "\n",
       "       [[1., 1., 1.],\n",
       "        [1., 1., 1.]],\n",
       "\n",
       "       [[1., 1., 1.],\n",
       "        [1., 1., 1.]],\n",
       "\n",
       "       [[1., 1., 1.],\n",
       "        [1., 1., 1.]]])"
      ]
     },
     "execution_count": 32,
     "metadata": {},
     "output_type": "execute_result"
    }
   ],
   "source": [
    "b"
   ]
  },
  {
   "cell_type": "code",
   "execution_count": 33,
   "id": "de720529",
   "metadata": {},
   "outputs": [
    {
     "data": {
      "text/plain": [
       "30"
      ]
     },
     "execution_count": 33,
     "metadata": {},
     "output_type": "execute_result"
    }
   ],
   "source": [
    "a.size"
   ]
  },
  {
   "cell_type": "code",
   "execution_count": 34,
   "id": "d4f6f670",
   "metadata": {},
   "outputs": [
    {
     "data": {
      "text/plain": [
       "30"
      ]
     },
     "execution_count": 34,
     "metadata": {},
     "output_type": "execute_result"
    }
   ],
   "source": [
    "b.size\n"
   ]
  },
  {
   "cell_type": "markdown",
   "id": "8ffa5706",
   "metadata": {},
   "source": [
    "8 No, not the same shape"
   ]
  },
  {
   "cell_type": "code",
   "execution_count": 46,
   "id": "48577cb3",
   "metadata": {},
   "outputs": [],
   "source": [
    "c = b.reshape((2,3,5))"
   ]
  },
  {
   "cell_type": "code",
   "execution_count": 47,
   "id": "1c288500",
   "metadata": {},
   "outputs": [
    {
     "data": {
      "text/plain": [
       "array([[[1., 1., 1., 1., 1.],\n",
       "        [1., 1., 1., 1., 1.],\n",
       "        [1., 1., 1., 1., 1.]],\n",
       "\n",
       "       [[1., 1., 1., 1., 1.],\n",
       "        [1., 1., 1., 1., 1.],\n",
       "        [1., 1., 1., 1., 1.]]])"
      ]
     },
     "execution_count": 47,
     "metadata": {},
     "output_type": "execute_result"
    }
   ],
   "source": [
    "c"
   ]
  },
  {
   "cell_type": "code",
   "execution_count": 42,
   "id": "3aa74f01",
   "metadata": {},
   "outputs": [],
   "source": [
    "d = a + c"
   ]
  },
  {
   "cell_type": "code",
   "execution_count": 43,
   "id": "44d34303",
   "metadata": {},
   "outputs": [
    {
     "data": {
      "text/plain": [
       "array([[[1.82246011, 1.29895987, 1.13814193, 1.94467875, 1.57312035],\n",
       "        [1.54106494, 1.93362902, 1.26926465, 1.4393275 , 1.75655507],\n",
       "        [1.03219059, 1.18345563, 1.33954949, 1.97028148, 1.84977469]],\n",
       "\n",
       "       [[1.72239688, 1.52196751, 1.2741822 , 1.11564401, 1.26688525],\n",
       "        [1.77177736, 1.74672237, 1.18201775, 1.97358701, 1.47643367],\n",
       "        [1.9389357 , 1.97592265, 1.54835717, 1.06382683, 1.5511804 ]]])"
      ]
     },
     "execution_count": 43,
     "metadata": {},
     "output_type": "execute_result"
    }
   ],
   "source": [
    "d"
   ]
  },
  {
   "cell_type": "code",
   "execution_count": 70,
   "id": "c0dc5dd5",
   "metadata": {},
   "outputs": [
    {
     "data": {
      "text/plain": [
       "array([[[1., 1., 1., 1., 1.],\n",
       "        [1., 1., 1., 1., 1.],\n",
       "        [1., 1., 1., 1., 1.]],\n",
       "\n",
       "       [[1., 1., 1., 1., 1.],\n",
       "        [1., 1., 1., 1., 1.],\n",
       "        [1., 1., 1., 1., 1.]]])"
      ]
     },
     "execution_count": 70,
     "metadata": {},
     "output_type": "execute_result"
    }
   ],
   "source": [
    "d-a"
   ]
  },
  {
   "cell_type": "markdown",
   "id": "119f8621",
   "metadata": {},
   "source": [
    "11. a and d have the same shape (2*3*5)"
   ]
  },
  {
   "cell_type": "code",
   "execution_count": 45,
   "id": "7a551438",
   "metadata": {},
   "outputs": [],
   "source": [
    "e =np.multiply(a,c)"
   ]
  },
  {
   "cell_type": "markdown",
   "id": "0b7f16b9",
   "metadata": {},
   "source": [
    "e equals to a because e is just a reshaped b (ones) that was multiplied with a and  only contains 1s =\n",
    "1*a = a"
   ]
  },
  {
   "cell_type": "code",
   "execution_count": 59,
   "id": "aa119c91",
   "metadata": {},
   "outputs": [
    {
     "data": {
      "text/plain": [
       "1.9759226497691977"
      ]
     },
     "execution_count": 59,
     "metadata": {},
     "output_type": "execute_result"
    }
   ],
   "source": [
    "d_max = d.max()\n",
    "d_max"
   ]
  },
  {
   "cell_type": "code",
   "execution_count": 60,
   "id": "534992bf",
   "metadata": {},
   "outputs": [
    {
     "data": {
      "text/plain": [
       "1.032190590259091"
      ]
     },
     "execution_count": 60,
     "metadata": {},
     "output_type": "execute_result"
    }
   ],
   "source": [
    "d_min = d.min()\n",
    "d_min"
   ]
  },
  {
   "cell_type": "code",
   "execution_count": 61,
   "id": "a07ae05b",
   "metadata": {},
   "outputs": [
    {
     "data": {
      "text/plain": [
       "1.5407430274364764"
      ]
     },
     "execution_count": 61,
     "metadata": {},
     "output_type": "execute_result"
    }
   ],
   "source": [
    "d_mean = d.mean()\n",
    "d_mean\n"
   ]
  },
  {
   "cell_type": "code",
   "execution_count": 62,
   "id": "a9aa857e",
   "metadata": {},
   "outputs": [
    {
     "data": {
      "text/plain": [
       "array([[[1.82246011, 1.29895987, 1.13814193, 1.94467875, 1.57312035],\n",
       "        [1.54106494, 1.93362902, 1.26926465, 1.4393275 , 1.75655507],\n",
       "        [1.03219059, 1.18345563, 1.33954949, 1.97028148, 1.84977469]],\n",
       "\n",
       "       [[1.72239688, 1.52196751, 1.2741822 , 1.11564401, 1.26688525],\n",
       "        [1.77177736, 1.74672237, 1.18201775, 1.97358701, 1.47643367],\n",
       "        [1.9389357 , 1.97592265, 1.54835717, 1.06382683, 1.5511804 ]]])"
      ]
     },
     "execution_count": 62,
     "metadata": {},
     "output_type": "execute_result"
    }
   ],
   "source": [
    "d\n"
   ]
  },
  {
   "cell_type": "code",
   "execution_count": 56,
   "id": "56a8d86d",
   "metadata": {},
   "outputs": [],
   "source": [
    "f = np.empty((2,3,5))"
   ]
  },
  {
   "cell_type": "code",
   "execution_count": null,
   "id": "0123cdf6",
   "metadata": {},
   "outputs": [],
   "source": []
  },
  {
   "cell_type": "code",
   "execution_count": 66,
   "id": "ff5655f7",
   "metadata": {},
   "outputs": [],
   "source": [
    "conditions = [d == d_min, (d > d_min) & (d < d_mean),d == d_mean, (d>d_mean) & (d<d_max), d == d_max]\n",
    "choices = [0, 25, 50, 75,100]\n",
    "f = np.select(conditions,choices)"
   ]
  },
  {
   "cell_type": "code",
   "execution_count": 67,
   "id": "598fa2fb",
   "metadata": {},
   "outputs": [
    {
     "data": {
      "text/plain": [
       "array([[[ 75,  25,  25,  75,  75],\n",
       "        [ 75,  75,  25,  25,  75],\n",
       "        [  0,  25,  25,  75,  75]],\n",
       "\n",
       "       [[ 75,  25,  25,  25,  25],\n",
       "        [ 75,  75,  25,  75,  25],\n",
       "        [ 75, 100,  75,  25,  75]]])"
      ]
     },
     "execution_count": 67,
     "metadata": {},
     "output_type": "execute_result"
    }
   ],
   "source": [
    "f"
   ]
  },
  {
   "cell_type": "code",
   "execution_count": 68,
   "id": "e3e0913d",
   "metadata": {},
   "outputs": [
    {
     "name": "stdout",
     "output_type": "stream",
     "text": [
      "[[[ 75  25  25  75  75]\n",
      "  [ 75  75  25  25  75]\n",
      "  [  0  25  25  75  75]]\n",
      "\n",
      " [[ 75  25  25  25  25]\n",
      "  [ 75  75  25  75  25]\n",
      "  [ 75 100  75  25  75]]]\n"
     ]
    }
   ],
   "source": [
    "print(f)"
   ]
  },
  {
   "cell_type": "code",
   "execution_count": 71,
   "id": "a55b1a9d",
   "metadata": {},
   "outputs": [],
   "source": [
    "conditions = [d == d_min, (d > d_min) & (d < d_mean),d == d_mean, (d>d_mean) & (d<d_max), d == d_max]\n",
    "choices = [\"A\", \"B\", \"C\", \"D\",\"E\"]\n",
    "f = np.select(conditions,choices)"
   ]
  },
  {
   "cell_type": "code",
   "execution_count": 72,
   "id": "e96d82f3",
   "metadata": {},
   "outputs": [
    {
     "name": "stdout",
     "output_type": "stream",
     "text": [
      "[[['D' 'B' 'B' 'D' 'D']\n",
      "  ['D' 'D' 'B' 'B' 'D']\n",
      "  ['A' 'B' 'B' 'D' 'D']]\n",
      "\n",
      " [['D' 'B' 'B' 'B' 'B']\n",
      "  ['D' 'D' 'B' 'D' 'B']\n",
      "  ['D' 'E' 'D' 'B' 'D']]]\n"
     ]
    }
   ],
   "source": [
    "print(f)"
   ]
  },
  {
   "cell_type": "code",
   "execution_count": null,
   "id": "d6332b2d",
   "metadata": {},
   "outputs": [],
   "source": []
  }
 ],
 "metadata": {
  "kernelspec": {
   "display_name": "Python 3 (ipykernel)",
   "language": "python",
   "name": "python3"
  },
  "language_info": {
   "codemirror_mode": {
    "name": "ipython",
    "version": 3
   },
   "file_extension": ".py",
   "mimetype": "text/x-python",
   "name": "python",
   "nbconvert_exporter": "python",
   "pygments_lexer": "ipython3",
   "version": "3.9.12"
  }
 },
 "nbformat": 4,
 "nbformat_minor": 5
}
