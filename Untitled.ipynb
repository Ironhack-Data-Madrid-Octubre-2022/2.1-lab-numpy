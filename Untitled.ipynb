{
 "cells": [
  {
   "cell_type": "code",
   "execution_count": 1,
   "metadata": {},
   "outputs": [],
   "source": [
    "import numpy as np"
   ]
  },
  {
   "cell_type": "code",
   "execution_count": 2,
   "metadata": {},
   "outputs": [],
   "source": [
    "b=np.ones((5,2,3))"
   ]
  },
  {
   "cell_type": "code",
   "execution_count": 3,
   "metadata": {},
   "outputs": [],
   "source": [
    "a=np.random.random((2,3,5))"
   ]
  },
  {
   "cell_type": "code",
   "execution_count": 4,
   "metadata": {},
   "outputs": [
    {
     "name": "stdout",
     "output_type": "stream",
     "text": [
      "[[[1. 1. 1.]\n",
      "  [1. 1. 1.]]\n",
      "\n",
      " [[1. 1. 1.]\n",
      "  [1. 1. 1.]]\n",
      "\n",
      " [[1. 1. 1.]\n",
      "  [1. 1. 1.]]\n",
      "\n",
      " [[1. 1. 1.]\n",
      "  [1. 1. 1.]]\n",
      "\n",
      " [[1. 1. 1.]\n",
      "  [1. 1. 1.]]]\n"
     ]
    }
   ],
   "source": [
    "print(b)"
   ]
  },
  {
   "cell_type": "code",
   "execution_count": 5,
   "metadata": {},
   "outputs": [
    {
     "name": "stdout",
     "output_type": "stream",
     "text": [
      "30\n",
      "30\n"
     ]
    }
   ],
   "source": [
    "print(a.size)\n",
    "print(b.size)"
   ]
  },
  {
   "cell_type": "code",
   "execution_count": 6,
   "metadata": {},
   "outputs": [],
   "source": [
    "\n",
    "c=np.reshape(b,(2,3,5))"
   ]
  },
  {
   "cell_type": "code",
   "execution_count": 7,
   "metadata": {},
   "outputs": [
    {
     "data": {
      "text/plain": [
       "(2, 3, 5)"
      ]
     },
     "execution_count": 7,
     "metadata": {},
     "output_type": "execute_result"
    }
   ],
   "source": [
    "c.shape"
   ]
  },
  {
   "cell_type": "code",
   "execution_count": 8,
   "metadata": {},
   "outputs": [
    {
     "data": {
      "text/plain": [
       "(2, 3, 5)"
      ]
     },
     "execution_count": 8,
     "metadata": {},
     "output_type": "execute_result"
    }
   ],
   "source": [
    "a.shape"
   ]
  },
  {
   "cell_type": "code",
   "execution_count": 9,
   "metadata": {},
   "outputs": [
    {
     "data": {
      "text/plain": [
       "(5, 2, 3)"
      ]
     },
     "execution_count": 9,
     "metadata": {},
     "output_type": "execute_result"
    }
   ],
   "source": [
    "b.shape"
   ]
  },
  {
   "cell_type": "code",
   "execution_count": 10,
   "metadata": {},
   "outputs": [
    {
     "name": "stdout",
     "output_type": "stream",
     "text": [
      "[[[1. 1. 1. 1. 1.]\n",
      "  [1. 1. 1. 1. 1.]\n",
      "  [1. 1. 1. 1. 1.]]\n",
      "\n",
      " [[1. 1. 1. 1. 1.]\n",
      "  [1. 1. 1. 1. 1.]\n",
      "  [1. 1. 1. 1. 1.]]]\n"
     ]
    }
   ],
   "source": [
    "print(c)"
   ]
  },
  {
   "cell_type": "code",
   "execution_count": 22,
   "metadata": {},
   "outputs": [],
   "source": [
    "d=np.add(a,c)"
   ]
  },
  {
   "cell_type": "code",
   "execution_count": 23,
   "metadata": {},
   "outputs": [
    {
     "name": "stdout",
     "output_type": "stream",
     "text": [
      "[[[1.03169745e-02 8.94005573e-01 6.66973927e-01 8.00489750e-01\n",
      "   4.19860262e-01]\n",
      "  [8.07195060e-01 5.79615958e-02 5.82399119e-01 6.07616710e-01\n",
      "   9.65783216e-01]\n",
      "  [7.10952817e-01 7.55509725e-01 2.43734268e-01 2.40921965e-01\n",
      "   3.55208412e-04]]\n",
      "\n",
      " [[8.19318396e-01 9.17857045e-01 9.90128483e-01 1.81819954e-01\n",
      "   9.61853506e-01]\n",
      "  [2.87175170e-01 8.66629232e-01 3.40315294e-01 9.27046847e-01\n",
      "   6.69237550e-01]\n",
      "  [7.40896987e-01 4.70016695e-01 9.94482193e-01 5.44222699e-01\n",
      "   7.29547064e-01]]]\n"
     ]
    }
   ],
   "source": [
    "print(a)"
   ]
  },
  {
   "cell_type": "code",
   "execution_count": 24,
   "metadata": {},
   "outputs": [
    {
     "name": "stdout",
     "output_type": "stream",
     "text": [
      "[[[1.01031697 1.89400557 1.66697393 1.80048975 1.41986026]\n",
      "  [1.80719506 1.0579616  1.58239912 1.60761671 1.96578322]\n",
      "  [1.71095282 1.75550973 1.24373427 1.24092196 1.00035521]]\n",
      "\n",
      " [[1.8193184  1.91785704 1.99012848 1.18181995 1.96185351]\n",
      "  [1.28717517 1.86662923 1.34031529 1.92704685 1.66923755]\n",
      "  [1.74089699 1.47001669 1.99448219 1.5442227  1.72954706]]]\n"
     ]
    }
   ],
   "source": [
    "print(d)"
   ]
  },
  {
   "cell_type": "code",
   "execution_count": 25,
   "metadata": {},
   "outputs": [],
   "source": [
    "e=np.multiply(a,c)"
   ]
  },
  {
   "cell_type": "code",
   "execution_count": 26,
   "metadata": {},
   "outputs": [
    {
     "data": {
      "text/plain": [
       "array([[[1.03169745e-02, 8.94005573e-01, 6.66973927e-01, 8.00489750e-01,\n",
       "         4.19860262e-01],\n",
       "        [8.07195060e-01, 5.79615958e-02, 5.82399119e-01, 6.07616710e-01,\n",
       "         9.65783216e-01],\n",
       "        [7.10952817e-01, 7.55509725e-01, 2.43734268e-01, 2.40921965e-01,\n",
       "         3.55208412e-04]],\n",
       "\n",
       "       [[8.19318396e-01, 9.17857045e-01, 9.90128483e-01, 1.81819954e-01,\n",
       "         9.61853506e-01],\n",
       "        [2.87175170e-01, 8.66629232e-01, 3.40315294e-01, 9.27046847e-01,\n",
       "         6.69237550e-01],\n",
       "        [7.40896987e-01, 4.70016695e-01, 9.94482193e-01, 5.44222699e-01,\n",
       "         7.29547064e-01]]])"
      ]
     },
     "execution_count": 26,
     "metadata": {},
     "output_type": "execute_result"
    }
   ],
   "source": [
    "e"
   ]
  },
  {
   "cell_type": "code",
   "execution_count": 27,
   "metadata": {},
   "outputs": [
    {
     "name": "stdout",
     "output_type": "stream",
     "text": [
      "1.9944821927686958\n",
      "1.0003552084123966\n",
      "1.6068207761883793\n"
     ]
    }
   ],
   "source": [
    "d_max=d.max()\n",
    "d_min=d.min()\n",
    "d_mean=d.mean()\n",
    "print(d_max)\n",
    "print(d_min)\n",
    "print(d_mean)"
   ]
  },
  {
   "cell_type": "code",
   "execution_count": 34,
   "metadata": {},
   "outputs": [],
   "source": [
    "f=np.empty([2,3,5], dtype=float)"
   ]
  },
  {
   "cell_type": "code",
   "execution_count": 35,
   "metadata": {},
   "outputs": [
    {
     "data": {
      "text/plain": [
       "array([[[1.01031697, 1.89400557, 1.66697393, 1.80048975, 1.41986026],\n",
       "        [1.80719506, 1.0579616 , 1.58239912, 1.60761671, 1.96578322],\n",
       "        [1.71095282, 1.75550973, 1.24373427, 1.24092196, 1.00035521]],\n",
       "\n",
       "       [[1.8193184 , 1.91785704, 1.99012848, 1.18181995, 1.96185351],\n",
       "        [1.28717517, 1.86662923, 1.34031529, 1.92704685, 1.66923755],\n",
       "        [1.74089699, 1.47001669, 1.99448219, 1.5442227 , 1.72954706]]])"
      ]
     },
     "execution_count": 35,
     "metadata": {},
     "output_type": "execute_result"
    }
   ],
   "source": [
    "f"
   ]
  },
  {
   "cell_type": "code",
   "execution_count": 36,
   "metadata": {},
   "outputs": [],
   "source": [
    "aux=[]\n",
    "for number in f:\n",
    "    aux1=[]\n",
    "    for item in number:\n",
    "        aux2=[]\n",
    "        for j in item:\n",
    "            if(j>d_min and j<d_mean):                \n",
    "                aux2.append(25)\n",
    "            elif(j>d_mean and j<d_max):\n",
    "                aux2.append(75)\n",
    "            elif(j==d_mean):\n",
    "                aux2.append(50)\n",
    "            elif(j==d_min):\n",
    "                aux2.append(0)\n",
    "            elif(j==d_max):\n",
    "                aux2.append(100)\n",
    "        aux1.append(aux2)\n",
    "    aux.append(aux1)\n",
    "np.array(aux)\n",
    "f=aux"
   ]
  },
  {
   "cell_type": "code",
   "execution_count": 37,
   "metadata": {},
   "outputs": [
    {
     "name": "stdout",
     "output_type": "stream",
     "text": [
      "d [[[1.01031697 1.89400557 1.66697393 1.80048975 1.41986026]\n",
      "  [1.80719506 1.0579616  1.58239912 1.60761671 1.96578322]\n",
      "  [1.71095282 1.75550973 1.24373427 1.24092196 1.00035521]]\n",
      "\n",
      " [[1.8193184  1.91785704 1.99012848 1.18181995 1.96185351]\n",
      "  [1.28717517 1.86662923 1.34031529 1.92704685 1.66923755]\n",
      "  [1.74089699 1.47001669 1.99448219 1.5442227  1.72954706]]]\n",
      "f [[[25, 75, 75, 75, 25], [75, 25, 25, 75, 75], [75, 75, 25, 25, 0]], [[75, 75, 75, 25, 75], [25, 75, 25, 75, 75], [75, 25, 100, 25, 75]]]\n"
     ]
    }
   ],
   "source": [
    "print('d',d)\n",
    "print('f',f)"
   ]
  },
  {
   "cell_type": "code",
   "execution_count": 38,
   "metadata": {},
   "outputs": [
    {
     "data": {
      "text/plain": [
       "[[['B', 'D', 'D', 'D', 'B'],\n",
       "  ['D', 'B', 'B', 'D', 'D'],\n",
       "  ['D', 'D', 'B', 'B', 'A']],\n",
       " [['D', 'D', 'D', 'B', 'D'],\n",
       "  ['B', 'D', 'B', 'D', 'D'],\n",
       "  ['D', 'B', 'E', 'B', 'D']]]"
      ]
     },
     "execution_count": 38,
     "metadata": {},
     "output_type": "execute_result"
    }
   ],
   "source": [
    "letras=[]\n",
    "for number in aux:\n",
    "    aux1=[]\n",
    "    for item in number:\n",
    "        aux2=[]\n",
    "        for j in item:\n",
    "            if(j == 0):                \n",
    "                aux2.append('A')\n",
    "            elif(j == 25):\n",
    "                aux2.append('B')\n",
    "            elif(j== 50):\n",
    "                aux2.append('C')\n",
    "            elif(j== 75):\n",
    "                aux2.append('D')\n",
    "            elif(j==100):\n",
    "                aux2.append('E')\n",
    "        aux1.append(aux2)\n",
    "    letras.append(aux1)\n",
    "np.array(letras)\n",
    "letras"
   ]
  },
  {
   "cell_type": "code",
   "execution_count": null,
   "metadata": {},
   "outputs": [],
   "source": []
  }
 ],
 "metadata": {
  "kernelspec": {
   "display_name": "Python 3",
   "language": "python",
   "name": "python3"
  },
  "language_info": {
   "codemirror_mode": {
    "name": "ipython",
    "version": 3
   },
   "file_extension": ".py",
   "mimetype": "text/x-python",
   "name": "python",
   "nbconvert_exporter": "python",
   "pygments_lexer": "ipython3",
   "version": "3.7.4"
  }
 },
 "nbformat": 4,
 "nbformat_minor": 2
}
