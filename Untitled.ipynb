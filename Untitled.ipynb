{
 "cells": [
  {
   "cell_type": "code",
   "execution_count": 1,
   "metadata": {},
   "outputs": [],
   "source": [
    "import numpy as np"
   ]
  },
  {
   "cell_type": "code",
   "execution_count": 2,
   "metadata": {},
   "outputs": [],
   "source": [
    "b=np.ones((5,2,3))"
   ]
  },
  {
   "cell_type": "code",
   "execution_count": 3,
   "metadata": {},
   "outputs": [],
   "source": [
    "a=np.random.random((2,3,5))"
   ]
  },
  {
   "cell_type": "code",
   "execution_count": 4,
   "metadata": {},
   "outputs": [
    {
     "name": "stdout",
     "output_type": "stream",
     "text": [
      "[[[1. 1. 1.]\n",
      "  [1. 1. 1.]]\n",
      "\n",
      " [[1. 1. 1.]\n",
      "  [1. 1. 1.]]\n",
      "\n",
      " [[1. 1. 1.]\n",
      "  [1. 1. 1.]]\n",
      "\n",
      " [[1. 1. 1.]\n",
      "  [1. 1. 1.]]\n",
      "\n",
      " [[1. 1. 1.]\n",
      "  [1. 1. 1.]]]\n"
     ]
    }
   ],
   "source": [
    "print(b)"
   ]
  },
  {
   "cell_type": "code",
   "execution_count": 5,
   "metadata": {},
   "outputs": [
    {
     "name": "stdout",
     "output_type": "stream",
     "text": [
      "30\n",
      "30\n"
     ]
    }
   ],
   "source": [
    "print(a.size)\n",
    "print(b.size)"
   ]
  },
  {
   "cell_type": "code",
   "execution_count": 6,
   "metadata": {},
   "outputs": [],
   "source": [
    "\n",
    "c=np.reshape(b,(2,3,5))"
   ]
  },
  {
   "cell_type": "code",
   "execution_count": 7,
   "metadata": {},
   "outputs": [
    {
     "data": {
      "text/plain": [
       "(2, 3, 5)"
      ]
     },
     "execution_count": 7,
     "metadata": {},
     "output_type": "execute_result"
    }
   ],
   "source": [
    "c.shape"
   ]
  },
  {
   "cell_type": "code",
   "execution_count": 8,
   "metadata": {},
   "outputs": [
    {
     "data": {
      "text/plain": [
       "(2, 3, 5)"
      ]
     },
     "execution_count": 8,
     "metadata": {},
     "output_type": "execute_result"
    }
   ],
   "source": [
    "a.shape"
   ]
  },
  {
   "cell_type": "code",
   "execution_count": 9,
   "metadata": {},
   "outputs": [
    {
     "data": {
      "text/plain": [
       "(5, 2, 3)"
      ]
     },
     "execution_count": 9,
     "metadata": {},
     "output_type": "execute_result"
    }
   ],
   "source": [
    "b.shape"
   ]
  },
  {
   "cell_type": "code",
   "execution_count": 10,
   "metadata": {},
   "outputs": [
    {
     "name": "stdout",
     "output_type": "stream",
     "text": [
      "[[[1. 1. 1. 1. 1.]\n",
      "  [1. 1. 1. 1. 1.]\n",
      "  [1. 1. 1. 1. 1.]]\n",
      "\n",
      " [[1. 1. 1. 1. 1.]\n",
      "  [1. 1. 1. 1. 1.]\n",
      "  [1. 1. 1. 1. 1.]]]\n"
     ]
    }
   ],
   "source": [
    "print(c)"
   ]
  },
  {
   "cell_type": "code",
   "execution_count": 11,
   "metadata": {},
   "outputs": [],
   "source": [
    "d=np.add(a,c)"
   ]
  },
  {
   "cell_type": "code",
   "execution_count": 12,
   "metadata": {},
   "outputs": [
    {
     "name": "stdout",
     "output_type": "stream",
     "text": [
      "[[[0.64289111 0.27759658 0.88629739 0.49018435 0.97070143]\n",
      "  [0.10431249 0.27101485 0.66710856 0.05692918 0.84988937]\n",
      "  [0.09311537 0.53057727 0.31924558 0.08210682 0.75937136]]\n",
      "\n",
      " [[0.2131665  0.91345273 0.27681247 0.47615008 0.78068166]\n",
      "  [0.84854928 0.83062978 0.78687773 0.94187849 0.98836623]\n",
      "  [0.50228623 0.63699457 0.60929651 0.76232527 0.99162748]]]\n"
     ]
    }
   ],
   "source": [
    "print(a)"
   ]
  },
  {
   "cell_type": "code",
   "execution_count": 13,
   "metadata": {},
   "outputs": [
    {
     "name": "stdout",
     "output_type": "stream",
     "text": [
      "[[[1.64289111 1.27759658 1.88629739 1.49018435 1.97070143]\n",
      "  [1.10431249 1.27101485 1.66710856 1.05692918 1.84988937]\n",
      "  [1.09311537 1.53057727 1.31924558 1.08210682 1.75937136]]\n",
      "\n",
      " [[1.2131665  1.91345273 1.27681247 1.47615008 1.78068166]\n",
      "  [1.84854928 1.83062978 1.78687773 1.94187849 1.98836623]\n",
      "  [1.50228623 1.63699457 1.60929651 1.76232527 1.99162748]]]\n"
     ]
    }
   ],
   "source": [
    "print(d)"
   ]
  },
  {
   "cell_type": "code",
   "execution_count": 40,
   "metadata": {},
   "outputs": [],
   "source": [
    "e=np.multiply(a,c)"
   ]
  },
  {
   "cell_type": "code",
   "execution_count": 41,
   "metadata": {},
   "outputs": [
    {
     "data": {
      "text/plain": [
       "array([[[0.64289111, 0.27759658, 0.88629739, 0.49018435, 0.97070143],\n",
       "        [0.10431249, 0.27101485, 0.66710856, 0.05692918, 0.84988937],\n",
       "        [0.09311537, 0.53057727, 0.31924558, 0.08210682, 0.75937136]],\n",
       "\n",
       "       [[0.2131665 , 0.91345273, 0.27681247, 0.47615008, 0.78068166],\n",
       "        [0.84854928, 0.83062978, 0.78687773, 0.94187849, 0.98836623],\n",
       "        [0.50228623, 0.63699457, 0.60929651, 0.76232527, 0.99162748]]])"
      ]
     },
     "execution_count": 41,
     "metadata": {},
     "output_type": "execute_result"
    }
   ],
   "source": [
    "e"
   ]
  },
  {
   "cell_type": "code",
   "execution_count": 57,
   "metadata": {},
   "outputs": [
    {
     "name": "stdout",
     "output_type": "stream",
     "text": [
      "1.9916274810177055\n",
      "1.0569291779063221\n",
      "1.5853478910752667\n"
     ]
    }
   ],
   "source": [
    "d_max=d.max()\n",
    "d_min=d.min()\n",
    "d_mean=d.mean()\n",
    "print(d_max)\n",
    "print(d_min)\n",
    "print(d_mean)"
   ]
  },
  {
   "cell_type": "code",
   "execution_count": 78,
   "metadata": {},
   "outputs": [],
   "source": [
    "f=np.empty([2,3,5], dtype=float)"
   ]
  },
  {
   "cell_type": "code",
   "execution_count": 79,
   "metadata": {},
   "outputs": [
    {
     "data": {
      "text/plain": [
       "array([[[1.64289111, 1.27759658, 1.88629739, 1.49018435, 1.97070143],\n",
       "        [1.10431249, 1.27101485, 1.66710856, 1.05692918, 1.84988937],\n",
       "        [1.09311537, 1.53057727, 1.31924558, 1.08210682, 1.75937136]],\n",
       "\n",
       "       [[1.2131665 , 1.91345273, 1.27681247, 1.47615008, 1.78068166],\n",
       "        [1.84854928, 1.83062978, 1.78687773, 1.94187849, 1.98836623],\n",
       "        [1.50228623, 1.63699457, 1.60929651, 1.76232527, 1.99162748]]])"
      ]
     },
     "execution_count": 79,
     "metadata": {},
     "output_type": "execute_result"
    }
   ],
   "source": [
    "f"
   ]
  },
  {
   "cell_type": "code",
   "execution_count": 83,
   "metadata": {},
   "outputs": [
    {
     "ename": "SyntaxError",
     "evalue": "invalid syntax (<ipython-input-83-ade2a5d4132f>, line 1)",
     "output_type": "error",
     "traceback": [
      "\u001b[1;36m  File \u001b[1;32m\"<ipython-input-83-ade2a5d4132f>\"\u001b[1;36m, line \u001b[1;32m1\u001b[0m\n\u001b[1;33m    aux=float[]\u001b[0m\n\u001b[1;37m              ^\u001b[0m\n\u001b[1;31mSyntaxError\u001b[0m\u001b[1;31m:\u001b[0m invalid syntax\n"
     ]
    }
   ],
   "source": [
    "aux=[]\n",
    "for number in f:\n",
    "    aux1=[]\n",
    "    for item in number:\n",
    "        aux2=[]\n",
    "        for j in item:\n",
    "            if(j>d_min and j<d_mean):                \n",
    "                aux2.append(25)\n",
    "            elif(j>d_mean and j<d_max):\n",
    "                aux2.append(75)\n",
    "            elif(j==d_mean):\n",
    "                aux2.append(50)\n",
    "            elif(j==d_min):\n",
    "                aux2.append(0)\n",
    "            elif(j==d_max):\n",
    "                aux2.append(100)\n",
    "        aux1.append(aux2)\n",
    "    aux.append(aux1)\n",
    "np.array(aux)\n",
    "f=aux"
   ]
  },
  {
   "cell_type": "code",
   "execution_count": 81,
   "metadata": {},
   "outputs": [
    {
     "name": "stdout",
     "output_type": "stream",
     "text": [
      "d [[[1.64289111 1.27759658 1.88629739 1.49018435 1.97070143]\n",
      "  [1.10431249 1.27101485 1.66710856 1.05692918 1.84988937]\n",
      "  [1.09311537 1.53057727 1.31924558 1.08210682 1.75937136]]\n",
      "\n",
      " [[1.2131665  1.91345273 1.27681247 1.47615008 1.78068166]\n",
      "  [1.84854928 1.83062978 1.78687773 1.94187849 1.98836623]\n",
      "  [1.50228623 1.63699457 1.60929651 1.76232527 1.99162748]]]\n",
      "f [[[75, 25, 75, 25, 75], [25, 25, 75, 0, 75], [25, 25, 25, 25, 75]], [[25, 75, 25, 25, 75], [75, 75, 75, 75, 75], [25, 75, 75, 75, 100]]]\n"
     ]
    }
   ],
   "source": [
    "print('d',d)\n",
    "print('f',f)"
   ]
  },
  {
   "cell_type": "code",
   "execution_count": null,
   "metadata": {},
   "outputs": [],
   "source": []
  }
 ],
 "metadata": {
  "kernelspec": {
   "display_name": "Python 3",
   "language": "python",
   "name": "python3"
  },
  "language_info": {
   "codemirror_mode": {
    "name": "ipython",
    "version": 3
   },
   "file_extension": ".py",
   "mimetype": "text/x-python",
   "name": "python",
   "nbconvert_exporter": "python",
   "pygments_lexer": "ipython3",
   "version": "3.7.4"
  }
 },
 "nbformat": 4,
 "nbformat_minor": 2
}
