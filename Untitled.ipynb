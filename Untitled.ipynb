{
 "cells": [
  {
   "cell_type": "code",
   "execution_count": null,
   "id": "04c89e18",
   "metadata": {},
   "outputs": [],
   "source": [
    "#1. Import the NUMPY package under the name np."
   ]
  },
  {
   "cell_type": "code",
   "execution_count": 1,
   "id": "7cd894f6",
   "metadata": {},
   "outputs": [
    {
     "name": "stdout",
     "output_type": "stream",
     "text": [
      "Requirement already satisfied: numpy in /Users/juliasabatel/opt/anaconda3/envs/clase/lib/python3.7/site-packages (1.21.6)\n",
      "Note: you may need to restart the kernel to use updated packages.\n"
     ]
    }
   ],
   "source": [
    "%pip install numpy"
   ]
  },
  {
   "cell_type": "code",
   "execution_count": 2,
   "id": "8d292cfe",
   "metadata": {},
   "outputs": [],
   "source": [
    "import numpy as np"
   ]
  },
  {
   "cell_type": "code",
   "execution_count": 3,
   "id": "408fbf25",
   "metadata": {},
   "outputs": [],
   "source": [
    "#2. Print the NUMPY version and the configuration."
   ]
  },
  {
   "cell_type": "code",
   "execution_count": 4,
   "id": "c950077e",
   "metadata": {},
   "outputs": [
    {
     "name": "stdout",
     "output_type": "stream",
     "text": [
      "<module 'numpy' from '/Users/juliasabatel/opt/anaconda3/envs/clase/lib/python3.7/site-packages/numpy/__init__.py'>\n"
     ]
    }
   ],
   "source": [
    "print (np)"
   ]
  },
  {
   "cell_type": "code",
   "execution_count": 6,
   "id": "73e8d3b1",
   "metadata": {},
   "outputs": [],
   "source": [
    "#3. Generate a 2x3x5 3-dimensional array with random values. Assign the array to variable \"a\"\n",
    "# Challenge: there are at least three easy ways that use numpy to generate random arrays. How many ways can you find?"
   ]
  },
  {
   "cell_type": "code",
   "execution_count": 16,
   "id": "056fe3f4",
   "metadata": {},
   "outputs": [
    {
     "data": {
      "text/plain": [
       "array([[[0.906407  , 0.22431849, 0.46211918],\n",
       "        [0.09050232, 0.74944359, 0.40552631]],\n",
       "\n",
       "       [[0.41199393, 0.36166363, 0.2792785 ],\n",
       "        [0.91412133, 0.36383052, 0.73681549]],\n",
       "\n",
       "       [[0.83647788, 0.30953131, 0.85197388],\n",
       "        [0.23274619, 0.22802001, 0.09758815]],\n",
       "\n",
       "       [[0.87221963, 0.32349228, 0.52668165],\n",
       "        [0.18037993, 0.26428257, 0.29964116]],\n",
       "\n",
       "       [[0.45657582, 0.86213456, 0.04091537],\n",
       "        [0.72727702, 0.317973  , 0.85862499]]])"
      ]
     },
     "execution_count": 16,
     "metadata": {},
     "output_type": "execute_result"
    }
   ],
   "source": [
    "a=np.random.random((5, 2, 3))\n",
    "\n",
    "a"
   ]
  },
  {
   "cell_type": "code",
   "execution_count": 17,
   "id": "afbc10ed",
   "metadata": {},
   "outputs": [
    {
     "name": "stdout",
     "output_type": "stream",
     "text": [
      "[[[0.906407   0.22431849 0.46211918]\n",
      "  [0.09050232 0.74944359 0.40552631]]\n",
      "\n",
      " [[0.41199393 0.36166363 0.2792785 ]\n",
      "  [0.91412133 0.36383052 0.73681549]]\n",
      "\n",
      " [[0.83647788 0.30953131 0.85197388]\n",
      "  [0.23274619 0.22802001 0.09758815]]\n",
      "\n",
      " [[0.87221963 0.32349228 0.52668165]\n",
      "  [0.18037993 0.26428257 0.29964116]]\n",
      "\n",
      " [[0.45657582 0.86213456 0.04091537]\n",
      "  [0.72727702 0.317973   0.85862499]]]\n"
     ]
    }
   ],
   "source": [
    "print(a)"
   ]
  },
  {
   "cell_type": "code",
   "execution_count": 18,
   "id": "b9247c3e",
   "metadata": {},
   "outputs": [],
   "source": [
    "#5. Create a 5x2x3 3-dimensional array with all values equaling 1.\n",
    "#Assign the array to variable \"b\""
   ]
  },
  {
   "cell_type": "code",
   "execution_count": null,
   "id": "a118e53c",
   "metadata": {},
   "outputs": [],
   "source": [
    "b= np.random.random((5,2,3))"
   ]
  }
 ],
 "metadata": {
  "kernelspec": {
   "display_name": "clase",
   "language": "python",
   "name": "clase"
  },
  "language_info": {
   "codemirror_mode": {
    "name": "ipython",
    "version": 3
   },
   "file_extension": ".py",
   "mimetype": "text/x-python",
   "name": "python",
   "nbconvert_exporter": "python",
   "pygments_lexer": "ipython3",
   "version": "3.7.13"
  }
 },
 "nbformat": 4,
 "nbformat_minor": 5
}
